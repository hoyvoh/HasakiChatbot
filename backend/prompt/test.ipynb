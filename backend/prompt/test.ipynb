{
 "cells": [
  {
   "cell_type": "code",
   "execution_count": 6,
   "metadata": {},
   "outputs": [
    {
     "name": "stdout",
     "output_type": "stream",
     "text": [
      "data: {\"id\":\"chatcmpl-445\",\"object\":\"chat.completion.chunk\",\"created\":1729587436,\"model\":\"llama3.1:70b\",\"system_fingerprint\":\"fp_ollama\",\"choices\":[{\"index\":0,\"delta\":{\"role\":\"assistant\",\"content\":\"Slow\"},\"finish_reason\":null}]}\n",
      "\n",
      "data: {\"id\":\"chatcmpl-445\",\"object\":\"chat.completion.chunk\",\"created\":1729587436,\"model\":\"llama3.1:70b\",\"system_fingerprint\":\"fp_ollama\",\"choices\":[{\"index\":0,\"delta\":{\"role\":\"assistant\",\"content\":\"ly\"},\"finish_reason\":null}]}\n",
      "\n",
      "data: {\"id\":\"chatcmpl-445\",\"object\":\"chat.completion.chunk\",\"created\":1729587436,\"model\":\"llama3.1:70b\",\"system_fingerprint\":\"fp_ollama\",\"choices\":[{\"index\":0,\"delta\":{\"role\":\"assistant\",\"content\":\" tort\"},\"finish_reason\":null}]}\n",
      "\n",
      "data: {\"id\":\"chatcmpl-445\",\"object\":\"chat.completion.chunk\",\"created\":1729587436,\"model\":\"llama3.1:70b\",\"system_fingerprint\":\"fp_ollama\",\"choices\":[{\"index\":0,\"delta\":{\"role\":\"assistant\",\"content\":\"oise\"},\"finish_reason\":null}]}\n",
      "\n",
      "data: {\"id\":\"chatcmpl-445\",\"object\":\"chat.completion.chunk\",\"created\":1729587436,\"model\":\"llama3.1:70b\",\"system_fingerprint\":\"fp_ollama\",\"choices\":[{\"index\":0,\"delta\":{\"role\":\"assistant\",\"content\":\" wins\"},\"finish_reason\":null}]}\n",
      "\n",
      "data: {\"id\":\"chatcmpl-445\",\"object\":\"chat.completion.chunk\",\"created\":1729587436,\"model\":\"llama3.1:70b\",\"system_fingerprint\":\"fp_ollama\",\"choices\":[{\"index\":0,\"delta\":{\"role\":\"assistant\",\"content\":\"\\n\"},\"finish_reason\":null}]}\n",
      "\n",
      "data: {\"id\":\"chatcmpl-445\",\"object\":\"chat.completion.chunk\",\"created\":1729587436,\"model\":\"llama3.1:70b\",\"system_fingerprint\":\"fp_ollama\",\"choices\":[{\"index\":0,\"delta\":{\"role\":\"assistant\",\"content\":\"H\"},\"finish_reason\":null}]}\n",
      "\n",
      "data: {\"id\":\"chatcmpl-445\",\"object\":\"chat.completion.chunk\",\"created\":1729587436,\"model\":\"llama3.1:70b\",\"system_fingerprint\":\"fp_ollama\",\"choices\":[{\"index\":0,\"delta\":{\"role\":\"assistant\",\"content\":\"are\"},\"finish_reason\":null}]}\n",
      "\n",
      "data: {\"id\":\"chatcmpl-445\",\"object\":\"chat.completion.chunk\",\"created\":1729587436,\"model\":\"llama3.1:70b\",\"system_fingerprint\":\"fp_ollama\",\"choices\":[{\"index\":0,\"delta\":{\"role\":\"assistant\",\"content\":\"'s\"},\"finish_reason\":null}]}\n",
      "\n",
      "data: {\"id\":\"chatcmpl-445\",\"object\":\"chat.completion.chunk\",\"created\":1729587436,\"model\":\"llama3.1:70b\",\"system_fingerprint\":\"fp_ollama\",\"choices\":[{\"index\":0,\"delta\":{\"role\":\"assistant\",\"content\":\" swift\"},\"finish_reason\":null}]}\n",
      "\n",
      "data: {\"id\":\"chatcmpl-445\",\"object\":\"chat.completion.chunk\",\"created\":1729587436,\"model\":\"llama3.1:70b\",\"system_fingerprint\":\"fp_ollama\",\"choices\":[{\"index\":0,\"delta\":{\"role\":\"assistant\",\"content\":\" steps\"},\"finish_reason\":null}]}\n",
      "\n",
      "data: {\"id\":\"chatcmpl-445\",\"object\":\"chat.completion.chunk\",\"created\":1729587437,\"model\":\"llama3.1:70b\",\"system_fingerprint\":\"fp_ollama\",\"choices\":[{\"index\":0,\"delta\":{\"role\":\"assistant\",\"content\":\" in\"},\"finish_reason\":null}]}\n",
      "\n",
      "data: {\"id\":\"chatcmpl-445\",\"object\":\"chat.completion.chunk\",\"created\":1729587437,\"model\":\"llama3.1:70b\",\"system_fingerprint\":\"fp_ollama\",\"choices\":[{\"index\":0,\"delta\":{\"role\":\"assistant\",\"content\":\" futile\"},\"finish_reason\":null}]}\n",
      "\n",
      "data: {\"id\":\"chatcmpl-445\",\"object\":\"chat.completion.chunk\",\"created\":1729587437,\"model\":\"llama3.1:70b\",\"system_fingerprint\":\"fp_ollama\",\"choices\":[{\"index\":0,\"delta\":{\"role\":\"assistant\",\"content\":\"\\n\"},\"finish_reason\":null}]}\n",
      "\n",
      "data: {\"id\":\"chatcmpl-445\",\"object\":\"chat.completion.chunk\",\"created\":1729587437,\"model\":\"llama3.1:70b\",\"system_fingerprint\":\"fp_ollama\",\"choices\":[{\"index\":0,\"delta\":{\"role\":\"assistant\",\"content\":\"Wis\"},\"finish_reason\":null}]}\n",
      "\n",
      "data: {\"id\":\"chatcmpl-445\",\"object\":\"chat.completion.chunk\",\"created\":1729587437,\"model\":\"llama3.1:70b\",\"system_fingerprint\":\"fp_ollama\",\"choices\":[{\"index\":0,\"delta\":{\"role\":\"assistant\",\"content\":\"dom\"},\"finish_reason\":null}]}\n",
      "\n",
      "data: {\"id\":\"chatcmpl-445\",\"object\":\"chat.completion.chunk\",\"created\":1729587437,\"model\":\"llama3.1:70b\",\"system_fingerprint\":\"fp_ollama\",\"choices\":[{\"index\":0,\"delta\":{\"role\":\"assistant\",\"content\":\" beats\"},\"finish_reason\":null}]}\n",
      "\n",
      "data: {\"id\":\"chatcmpl-445\",\"object\":\"chat.completion.chunk\",\"created\":1729587437,\"model\":\"llama3.1:70b\",\"system_fingerprint\":\"fp_ollama\",\"choices\":[{\"index\":0,\"delta\":{\"role\":\"assistant\",\"content\":\" haste\"},\"finish_reason\":null}]}\n",
      "\n",
      "data: {\"id\":\"chatcmpl-445\",\"object\":\"chat.completion.chunk\",\"created\":1729587437,\"model\":\"llama3.1:70b\",\"system_fingerprint\":\"fp_ollama\",\"choices\":[{\"index\":0,\"delta\":{\"role\":\"assistant\",\"content\":\" here\"},\"finish_reason\":null}]}\n",
      "\n",
      "data: {\"id\":\"chatcmpl-445\",\"object\":\"chat.completion.chunk\",\"created\":1729587437,\"model\":\"llama3.1:70b\",\"system_fingerprint\":\"fp_ollama\",\"choices\":[{\"index\":0,\"delta\":{\"role\":\"assistant\",\"content\":\"\"},\"finish_reason\":\"stop\"}]}\n",
      "\n",
      "data: [DONE]\n",
      "\n",
      "\n"
     ]
    }
   ],
   "source": [
    "import requests\n",
    "import json\n",
    "from utils import AWANLLM_API_KEY, MODEL\n",
    "\n",
    "\n",
    "url = \"https://api.awanllm.com/v1/chat/completions\"\n",
    "\n",
    "payload = json.dumps({\n",
    "  \"model\": MODEL,\n",
    "  \"messages\": [\n",
    "    {\"role\": \"system\", \"content\": \"You are a helpful assistant.\"},\n",
    "    {\"role\": \"user\", \"content\": \"Hello!\"},\n",
    "    {\"role\": \"assistant\", \"content\": \"Hi!, how can I help you today?\"},\n",
    "    {\"role\": \"user\", \"content\": \"Can you write me Haiku about Hare and Tortoise\"}\n",
    "  ],\n",
    "  \"repetition_penalty\": 1.1,\n",
    "  \"temperature\": 0.7,\n",
    "  \"top_p\": 0.9,\n",
    "  \"top_k\": 40,\n",
    "  \"max_tokens\": 1024,\n",
    "  \"stream\": True\n",
    "})\n",
    "headers = {\n",
    "  'Content-Type': 'application/json',\n",
    "  'Authorization': f\"Bearer {AWANLLM_API_KEY}\"\n",
    "}\n",
    "\n",
    "response = requests.request(\"POST\", url, headers=headers, data=payload)\n",
    "\n",
    "print(response.text)\n",
    "\n"
   ]
  },
  {
   "cell_type": "code",
   "execution_count": 5,
   "metadata": {},
   "outputs": [
    {
     "name": "stdout",
     "output_type": "stream",
     "text": [
      "Full response: Here is a haiku:\n",
      "\n",
      "Slow and steady wins\n",
      "Tortoise smiles as hare sleeps on\n",
      "Patience is key\n"
     ]
    }
   ],
   "source": [
    "# Collect the streamed response into a full sentence\n",
    "\n",
    "full_response = \"\"\n",
    "\n",
    "# Iterate through the streaming data\n",
    "for line in response.iter_lines():\n",
    "    if line:  # Avoid processing empty lines\n",
    "        decoded_line = line.decode('utf-8').strip()  # Strip leading/trailing spaces\n",
    "        \n",
    "        if decoded_line == \"data: [DONE]\":\n",
    "            break\n",
    "        \n",
    "        if decoded_line.startswith(\"data: \"):\n",
    "            try:\n",
    "                # Extract the JSON part after 'data:'\n",
    "                json_data = json.loads(decoded_line.split(\"data: \")[1])\n",
    "                # Accumulate the text parts from the response\n",
    "                full_response += json_data[\"choices\"][0][\"delta\"]['content']\n",
    "            except (IndexError, json.JSONDecodeError) as e:\n",
    "                # Print the problematic line for debugging\n",
    "                print(f\"Error decoding JSON from line: {decoded_line}\")\n",
    "                print(f\"Exception: {e}\")\n",
    "\n",
    "print(\"Full response:\", full_response)"
   ]
  },
  {
   "cell_type": "code",
   "execution_count": null,
   "metadata": {},
   "outputs": [],
   "source": []
  }
 ],
 "metadata": {
  "kernelspec": {
   "display_name": "rag-env",
   "language": "python",
   "name": "python3"
  },
  "language_info": {
   "codemirror_mode": {
    "name": "ipython",
    "version": 3
   },
   "file_extension": ".py",
   "mimetype": "text/x-python",
   "name": "python",
   "nbconvert_exporter": "python",
   "pygments_lexer": "ipython3",
   "version": "3.12.7"
  }
 },
 "nbformat": 4,
 "nbformat_minor": 2
}
