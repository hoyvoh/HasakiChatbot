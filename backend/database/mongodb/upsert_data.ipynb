{
 "cells": [
  {
   "cell_type": "code",
   "execution_count": 18,
   "metadata": {},
   "outputs": [
    {
     "name": "stdout",
     "output_type": "stream",
     "text": [
      "Collecting pymongo\n",
      "  Downloading pymongo-4.10.1-cp312-cp312-manylinux_2_17_x86_64.manylinux2014_x86_64.whl.metadata (22 kB)\n",
      "Collecting dnspython<3.0.0,>=1.16.0 (from pymongo)\n",
      "  Downloading dnspython-2.7.0-py3-none-any.whl.metadata (5.8 kB)\n",
      "Downloading pymongo-4.10.1-cp312-cp312-manylinux_2_17_x86_64.manylinux2014_x86_64.whl (1.9 MB)\n",
      "\u001b[2K   \u001b[90m━━━━━━━━━━━━━━━━━━━━━━━━━━━━━━━━━━━━━━━━\u001b[0m \u001b[32m1.9/1.9 MB\u001b[0m \u001b[31m9.8 MB/s\u001b[0m eta \u001b[36m0:00:00\u001b[0mta \u001b[36m0:00:01\u001b[0m\n",
      "\u001b[?25hDownloading dnspython-2.7.0-py3-none-any.whl (313 kB)\n",
      "Installing collected packages: dnspython, pymongo\n",
      "Successfully installed dnspython-2.7.0 pymongo-4.10.1\n"
     ]
    }
   ],
   "source": [
    "!pip install pymongo"
   ]
  },
  {
   "cell_type": "code",
   "execution_count": 4,
   "metadata": {},
   "outputs": [],
   "source": [
    "import pandas as pd\n",
    "\n",
    "# Replace '<username>', '<password>', and '<your-cluster-url>' with your MongoDB Atlas details\n",
    "username = 'phatpham0406202'\n",
    "password = 'cjAB8AHpNKnhQX2e'\n",
    "cluster_url = 'cluster0.mgz1t.mongodb.net'\n"
   ]
  },
  {
   "cell_type": "markdown",
   "metadata": {},
   "source": [
    "### Upsert product_links"
   ]
  },
  {
   "cell_type": "code",
   "execution_count": 10,
   "metadata": {},
   "outputs": [
    {
     "data": {
      "text/html": [
       "<div>\n",
       "<style scoped>\n",
       "    .dataframe tbody tr th:only-of-type {\n",
       "        vertical-align: middle;\n",
       "    }\n",
       "\n",
       "    .dataframe tbody tr th {\n",
       "        vertical-align: top;\n",
       "    }\n",
       "\n",
       "    .dataframe thead th {\n",
       "        text-align: right;\n",
       "    }\n",
       "</style>\n",
       "<table border=\"1\" class=\"dataframe\">\n",
       "  <thead>\n",
       "    <tr style=\"text-align: right;\">\n",
       "      <th></th>\n",
       "      <th>pid</th>\n",
       "      <th>pname</th>\n",
       "      <th>plink</th>\n",
       "      <th>pcat</th>\n",
       "    </tr>\n",
       "  </thead>\n",
       "  <tbody>\n",
       "    <tr>\n",
       "      <th>0</th>\n",
       "      <td>232100001</td>\n",
       "      <td>Son Dưỡng Môi DHC Không Màu Hỗ Trợ Giảm Thâm M...</td>\n",
       "      <td>https://hasaki.vn/san-pham/son-duong-moi-khong...</td>\n",
       "      <td>Trang Điểm / Trang Điểm Môi / Son Dưỡng Môi</td>\n",
       "    </tr>\n",
       "    <tr>\n",
       "      <th>1</th>\n",
       "      <td>422209457</td>\n",
       "      <td>Son Kem Lì Black Rouge A12 Dashed Brown Nâu Gạ...</td>\n",
       "      <td>https://hasaki.vn/san-pham/son-kem-li-black-ro...</td>\n",
       "      <td>Trang Điểm / Trang Điểm Môi / Son Kem / Tint</td>\n",
       "    </tr>\n",
       "    <tr>\n",
       "      <th>2</th>\n",
       "      <td>100830002</td>\n",
       "      <td>Nước Tẩy Trang Mắt Môi Maybelline 150ml</td>\n",
       "      <td>https://hasaki.vn/san-pham/nuoc-tay-trang-mat-...</td>\n",
       "      <td>Trang Điểm / Trang Điểm Môi / Tẩy Trang Mắt / Môi</td>\n",
       "    </tr>\n",
       "    <tr>\n",
       "      <th>3</th>\n",
       "      <td>422209392</td>\n",
       "      <td>Son Thỏi 3CE Vỏ Trong Suốt Unstained Red - Đỏ ...</td>\n",
       "      <td>https://hasaki.vn/san-pham/son-thoi-3ce-vo-tro...</td>\n",
       "      <td>Trang Điểm / Trang Điểm Môi / Son Thỏi</td>\n",
       "    </tr>\n",
       "    <tr>\n",
       "      <th>4</th>\n",
       "      <td>422211334</td>\n",
       "      <td>Sáp Tẩy Trang Banila Co Original Cho Mọi Loạ...</td>\n",
       "      <td>https://hasaki.vn/san-pham/sap-tay-trang-banil...</td>\n",
       "      <td>Chăm Sóc Da Mặt / Làm Sạch Da / Tẩy Trang Mặt</td>\n",
       "    </tr>\n",
       "  </tbody>\n",
       "</table>\n",
       "</div>"
      ],
      "text/plain": [
       "         pid                                              pname  \\\n",
       "0  232100001  Son Dưỡng Môi DHC Không Màu Hỗ Trợ Giảm Thâm M...   \n",
       "1  422209457  Son Kem Lì Black Rouge A12 Dashed Brown Nâu Gạ...   \n",
       "2  100830002            Nước Tẩy Trang Mắt Môi Maybelline 150ml   \n",
       "3  422209392  Son Thỏi 3CE Vỏ Trong Suốt Unstained Red - Đỏ ...   \n",
       "4  422211334  Sáp Tẩy Trang Banila Co Original Cho Mọi Loạ...   \n",
       "\n",
       "                                               plink  \\\n",
       "0  https://hasaki.vn/san-pham/son-duong-moi-khong...   \n",
       "1  https://hasaki.vn/san-pham/son-kem-li-black-ro...   \n",
       "2  https://hasaki.vn/san-pham/nuoc-tay-trang-mat-...   \n",
       "3  https://hasaki.vn/san-pham/son-thoi-3ce-vo-tro...   \n",
       "4  https://hasaki.vn/san-pham/sap-tay-trang-banil...   \n",
       "\n",
       "                                                pcat  \n",
       "0        Trang Điểm / Trang Điểm Môi / Son Dưỡng Môi  \n",
       "1       Trang Điểm / Trang Điểm Môi / Son Kem / Tint  \n",
       "2  Trang Điểm / Trang Điểm Môi / Tẩy Trang Mắt / Môi  \n",
       "3             Trang Điểm / Trang Điểm Môi / Son Thỏi  \n",
       "4      Chăm Sóc Da Mặt / Làm Sạch Da / Tẩy Trang Mặt  "
      ]
     },
     "execution_count": 10,
     "metadata": {},
     "output_type": "execute_result"
    }
   ],
   "source": [
    "\n",
    "product_link = pd.read_csv('../../../data/product_links.csv')\n",
    "product_link = product_link.drop(columns=['Unnamed: 0'], axis=1)\n",
    "product_link.head()"
   ]
  },
  {
   "cell_type": "code",
   "execution_count": 5,
   "metadata": {},
   "outputs": [
    {
     "name": "stdout",
     "output_type": "stream",
     "text": [
      "Upsert complete. Matched: 54 Inserted: 2817\n"
     ]
    }
   ],
   "source": [
    "from mongodb_connection import MongoDB\n",
    "\n",
    "mongodb = MongoDB(username, password, cluster_url)\n",
    "collection = mongodb.collection(dbname='hasaki_data', collection_name='product_links')\n",
    "\n",
    "mongodb.upsert_data(product_link, collection, unique_field='pid')"
   ]
  },
  {
   "cell_type": "markdown",
   "metadata": {},
   "source": [
    "## Upset campaigns"
   ]
  },
  {
   "cell_type": "code",
   "execution_count": 21,
   "metadata": {},
   "outputs": [
    {
     "data": {
      "text/html": [
       "<div>\n",
       "<style scoped>\n",
       "    .dataframe tbody tr th:only-of-type {\n",
       "        vertical-align: middle;\n",
       "    }\n",
       "\n",
       "    .dataframe tbody tr th {\n",
       "        vertical-align: top;\n",
       "    }\n",
       "\n",
       "    .dataframe thead th {\n",
       "        text-align: right;\n",
       "    }\n",
       "</style>\n",
       "<table border=\"1\" class=\"dataframe\">\n",
       "  <thead>\n",
       "    <tr style=\"text-align: right;\">\n",
       "      <th></th>\n",
       "      <th>campaignID</th>\n",
       "      <th>label</th>\n",
       "      <th>link</th>\n",
       "      <th>img</th>\n",
       "    </tr>\n",
       "  </thead>\n",
       "  <tbody>\n",
       "    <tr>\n",
       "      <th>0</th>\n",
       "      <td>0</td>\n",
       "      <td>Khai trương chi nhánh 221, 222 - Cần Thơ, Đồng...</td>\n",
       "      <td>https://hasaki.vn/campaign/khai-truong-chi-nha...</td>\n",
       "      <td>https://media.hcdn.vn/hsk/campaign/640x240-172...</td>\n",
       "    </tr>\n",
       "    <tr>\n",
       "      <th>1</th>\n",
       "      <td>1</td>\n",
       "      <td>Khai trương chi nhánh 223, 224 - Hội An, TP.HCM</td>\n",
       "      <td>https://hasaki.vn/campaign/khai-truong-chi-nha...</td>\n",
       "      <td>https://media.hcdn.vn/hsk/campaign/640x240mobi...</td>\n",
       "    </tr>\n",
       "    <tr>\n",
       "      <th>2</th>\n",
       "      <td>2</td>\n",
       "      <td>Sale lương về - Deal ngập tràn</td>\n",
       "      <td>https://hasaki.vn/campaign/best-seller</td>\n",
       "      <td>https://media.hcdn.vn/hsk/campaign/640x240---2...</td>\n",
       "    </tr>\n",
       "    <tr>\n",
       "      <th>3</th>\n",
       "      <td>3</td>\n",
       "      <td>[HOT] Ưu đãi trải nghiệm làm đẹp đến hơn 60%</td>\n",
       "      <td>https://hasaki.vn/campaign/trai-nghiem-dich-vu</td>\n",
       "      <td>https://media.hcdn.vn/hsk/campaign/wap16981146...</td>\n",
       "    </tr>\n",
       "    <tr>\n",
       "      <th>4</th>\n",
       "      <td>4</td>\n",
       "      <td>Unilever Nâng Niu Nét Đẹp Toàn Diện</td>\n",
       "      <td>https://hasaki.vn/campaign/unilever-khuyen-mai...</td>\n",
       "      <td>https://media.hcdn.vn/hsk/campaign/UnileverSIS...</td>\n",
       "    </tr>\n",
       "  </tbody>\n",
       "</table>\n",
       "</div>"
      ],
      "text/plain": [
       "   campaignID                                              label  \\\n",
       "0           0  Khai trương chi nhánh 221, 222 - Cần Thơ, Đồng...   \n",
       "1           1    Khai trương chi nhánh 223, 224 - Hội An, TP.HCM   \n",
       "2           2                     Sale lương về - Deal ngập tràn   \n",
       "3           3       [HOT] Ưu đãi trải nghiệm làm đẹp đến hơn 60%   \n",
       "4           4                Unilever Nâng Niu Nét Đẹp Toàn Diện   \n",
       "\n",
       "                                                link  \\\n",
       "0  https://hasaki.vn/campaign/khai-truong-chi-nha...   \n",
       "1  https://hasaki.vn/campaign/khai-truong-chi-nha...   \n",
       "2             https://hasaki.vn/campaign/best-seller   \n",
       "3     https://hasaki.vn/campaign/trai-nghiem-dich-vu   \n",
       "4  https://hasaki.vn/campaign/unilever-khuyen-mai...   \n",
       "\n",
       "                                                 img  \n",
       "0  https://media.hcdn.vn/hsk/campaign/640x240-172...  \n",
       "1  https://media.hcdn.vn/hsk/campaign/640x240mobi...  \n",
       "2  https://media.hcdn.vn/hsk/campaign/640x240---2...  \n",
       "3  https://media.hcdn.vn/hsk/campaign/wap16981146...  \n",
       "4  https://media.hcdn.vn/hsk/campaign/UnileverSIS...  "
      ]
     },
     "execution_count": 21,
     "metadata": {},
     "output_type": "execute_result"
    }
   ],
   "source": [
    "campaigns = pd.read_csv('../../../data/campaigns.csv')\n",
    "campaigns.rename(columns={'Unnamed: 0': 'campaignID'}, inplace=True)\n",
    "campaigns.head()"
   ]
  },
  {
   "cell_type": "code",
   "execution_count": 23,
   "metadata": {},
   "outputs": [
    {
     "name": "stdout",
     "output_type": "stream",
     "text": [
      "Upsert complete. Matched: 0 Inserted: 13\n"
     ]
    }
   ],
   "source": [
    "from mongodb_connection import MongoDB\n",
    "mongodb = MongoDB(username, password, cluster_url)\n",
    "\n",
    "collection = mongodb.collection(dbname='hasaki_data', collection_name='campaigns')\n",
    "\n",
    "mongodb.upsert_data(campaigns, collection, unique_field='campaignID')"
   ]
  },
  {
   "cell_type": "markdown",
   "metadata": {},
   "source": [
    "## Upsert categories"
   ]
  },
  {
   "cell_type": "code",
   "execution_count": 24,
   "metadata": {},
   "outputs": [
    {
     "data": {
      "text/html": [
       "<div>\n",
       "<style scoped>\n",
       "    .dataframe tbody tr th:only-of-type {\n",
       "        vertical-align: middle;\n",
       "    }\n",
       "\n",
       "    .dataframe tbody tr th {\n",
       "        vertical-align: top;\n",
       "    }\n",
       "\n",
       "    .dataframe thead th {\n",
       "        text-align: right;\n",
       "    }\n",
       "</style>\n",
       "<table border=\"1\" class=\"dataframe\">\n",
       "  <thead>\n",
       "    <tr style=\"text-align: right;\">\n",
       "      <th></th>\n",
       "      <th>categoryID</th>\n",
       "      <th>link</th>\n",
       "      <th>img</th>\n",
       "      <th>cat</th>\n",
       "    </tr>\n",
       "  </thead>\n",
       "  <tbody>\n",
       "    <tr>\n",
       "      <th>0</th>\n",
       "      <td>0</td>\n",
       "      <td>https://hasaki.vn/danh-muc/trang-diem-moi-c24....</td>\n",
       "      <td>https://media.hcdn.vn/catalog/category/c24-tra...</td>\n",
       "      <td>Trang Điểm Môi</td>\n",
       "    </tr>\n",
       "    <tr>\n",
       "      <th>1</th>\n",
       "      <td>1</td>\n",
       "      <td>https://hasaki.vn/danh-muc/mat-na-c30.html</td>\n",
       "      <td>https://media.hcdn.vn/catalog/category/30_1_im...</td>\n",
       "      <td>Mặt Nạ</td>\n",
       "    </tr>\n",
       "    <tr>\n",
       "      <th>2</th>\n",
       "      <td>2</td>\n",
       "      <td>https://hasaki.vn/danh-muc/trang-diem-mat-c52....</td>\n",
       "      <td>https://media.hcdn.vn/catalog/category/c52-tra...</td>\n",
       "      <td>Trang Điểm Mặt</td>\n",
       "    </tr>\n",
       "    <tr>\n",
       "      <th>3</th>\n",
       "      <td>3</td>\n",
       "      <td>https://hasaki.vn/danh-muc/sua-rua-mat-c19.html</td>\n",
       "      <td>https://media.hcdn.vn/catalog/category/19_3_im...</td>\n",
       "      <td>Sữa Rửa Mặt</td>\n",
       "    </tr>\n",
       "    <tr>\n",
       "      <th>4</th>\n",
       "      <td>4</td>\n",
       "      <td>https://hasaki.vn/danh-muc/trang-diem-vung-mat...</td>\n",
       "      <td>https://media.hcdn.vn/catalog/category/c50-tra...</td>\n",
       "      <td>Trang Điểm Mắt</td>\n",
       "    </tr>\n",
       "  </tbody>\n",
       "</table>\n",
       "</div>"
      ],
      "text/plain": [
       "   categoryID                                               link  \\\n",
       "0           0  https://hasaki.vn/danh-muc/trang-diem-moi-c24....   \n",
       "1           1         https://hasaki.vn/danh-muc/mat-na-c30.html   \n",
       "2           2  https://hasaki.vn/danh-muc/trang-diem-mat-c52....   \n",
       "3           3    https://hasaki.vn/danh-muc/sua-rua-mat-c19.html   \n",
       "4           4  https://hasaki.vn/danh-muc/trang-diem-vung-mat...   \n",
       "\n",
       "                                                 img             cat  \n",
       "0  https://media.hcdn.vn/catalog/category/c24-tra...  Trang Điểm Môi  \n",
       "1  https://media.hcdn.vn/catalog/category/30_1_im...          Mặt Nạ  \n",
       "2  https://media.hcdn.vn/catalog/category/c52-tra...  Trang Điểm Mặt  \n",
       "3  https://media.hcdn.vn/catalog/category/19_3_im...     Sữa Rửa Mặt  \n",
       "4  https://media.hcdn.vn/catalog/category/c50-tra...  Trang Điểm Mắt  "
      ]
     },
     "execution_count": 24,
     "metadata": {},
     "output_type": "execute_result"
    }
   ],
   "source": [
    "categories = pd.read_csv('../../../data/categories.csv')\n",
    "categories.rename(columns={'Unnamed: 0': 'categoryID'}, inplace=True)\n",
    "categories.head()"
   ]
  },
  {
   "cell_type": "code",
   "execution_count": 25,
   "metadata": {},
   "outputs": [
    {
     "name": "stdout",
     "output_type": "stream",
     "text": [
      "Upsert complete. Matched: 0 Inserted: 15\n"
     ]
    }
   ],
   "source": [
    "from mongodb_connection import MongoDB\n",
    "mongodb = MongoDB(username, password, cluster_url)\n",
    "\n",
    "collection = mongodb.collection(dbname='hasaki_data', collection_name='categories')\n",
    "\n",
    "mongodb.upsert_data(categories, collection, unique_field='categoryID')"
   ]
  },
  {
   "cell_type": "markdown",
   "metadata": {},
   "source": [
    "## Upsert comments"
   ]
  },
  {
   "cell_type": "code",
   "execution_count": 1,
   "metadata": {},
   "outputs": [
    {
     "data": {
      "text/html": [
       "<div>\n",
       "<style scoped>\n",
       "    .dataframe tbody tr th:only-of-type {\n",
       "        vertical-align: middle;\n",
       "    }\n",
       "\n",
       "    .dataframe tbody tr th {\n",
       "        vertical-align: top;\n",
       "    }\n",
       "\n",
       "    .dataframe thead th {\n",
       "        text-align: right;\n",
       "    }\n",
       "</style>\n",
       "<table border=\"1\" class=\"dataframe\">\n",
       "  <thead>\n",
       "    <tr style=\"text-align: right;\">\n",
       "      <th></th>\n",
       "      <th>commentID</th>\n",
       "      <th>Name</th>\n",
       "      <th>Time</th>\n",
       "      <th>Description</th>\n",
       "      <th>Comment</th>\n",
       "      <th>Images</th>\n",
       "    </tr>\n",
       "  </thead>\n",
       "  <tbody>\n",
       "    <tr>\n",
       "      <th>0</th>\n",
       "      <td>0</td>\n",
       "      <td>Bùi Ngọc Hà Linh</td>\n",
       "      <td>14: 56 | 14/08/2023</td>\n",
       "      <td>Son Dưỡng Môi DHC Không Màu Hỗ Trợ Giảm Thâm M...</td>\n",
       "      <td>Cây này cây thứ 3 rồi vẫn chưa có dấu hiệu dừn...</td>\n",
       "      <td>[]</td>\n",
       "    </tr>\n",
       "    <tr>\n",
       "      <th>1</th>\n",
       "      <td>1</td>\n",
       "      <td>Như Phương</td>\n",
       "      <td>16: 51 | 31/10/2023</td>\n",
       "      <td>Son Dưỡng Môi DHC Không Màu Hỗ Trợ Giảm Thâm M...</td>\n",
       "      <td>Cây son dưỡng mình thích nhất từ trc tới giờ, ...</td>\n",
       "      <td>['https://media.hcdn.vn/rating/169874591132980...</td>\n",
       "    </tr>\n",
       "    <tr>\n",
       "      <th>2</th>\n",
       "      <td>2</td>\n",
       "      <td>Phạm Thị Tuyết</td>\n",
       "      <td>19: 48 | 20/01/2022</td>\n",
       "      <td>Son Dưỡng Môi DHC Không Màu Hỗ Trợ Giảm Thâm M...</td>\n",
       "      <td>Mới từ đầu sẽ thấy mùi son hơi khó ngửi nhưng ...</td>\n",
       "      <td>[]</td>\n",
       "    </tr>\n",
       "    <tr>\n",
       "      <th>3</th>\n",
       "      <td>3</td>\n",
       "      <td>Minh</td>\n",
       "      <td>00: 35 | 18/11/2022</td>\n",
       "      <td>Son Dưỡng Môi DHC Không Màu Hỗ Trợ Giảm Thâm M...</td>\n",
       "      <td>Giá cả hợp lý, giao hàng nhanh. Sản phẩm không...</td>\n",
       "      <td>[]</td>\n",
       "    </tr>\n",
       "    <tr>\n",
       "      <th>4</th>\n",
       "      <td>4</td>\n",
       "      <td>Hien</td>\n",
       "      <td>17: 42 | 24/08/2024</td>\n",
       "      <td>Son Dưỡng Môi DHC Không Màu Hỗ Trợ Giảm Thâm M...</td>\n",
       "      <td>Xài mướt, cảm giác nhẹ môi chứ k nặng dàyooi n...</td>\n",
       "      <td>[]</td>\n",
       "    </tr>\n",
       "  </tbody>\n",
       "</table>\n",
       "</div>"
      ],
      "text/plain": [
       "   commentID              Name                 Time  \\\n",
       "0          0  Bùi Ngọc Hà Linh  14: 56 | 14/08/2023   \n",
       "1          1        Như Phương  16: 51 | 31/10/2023   \n",
       "2          2    Phạm Thị Tuyết  19: 48 | 20/01/2022   \n",
       "3          3              Minh  00: 35 | 18/11/2022   \n",
       "4          4              Hien  17: 42 | 24/08/2024   \n",
       "\n",
       "                                         Description  \\\n",
       "0  Son Dưỡng Môi DHC Không Màu Hỗ Trợ Giảm Thâm M...   \n",
       "1  Son Dưỡng Môi DHC Không Màu Hỗ Trợ Giảm Thâm M...   \n",
       "2  Son Dưỡng Môi DHC Không Màu Hỗ Trợ Giảm Thâm M...   \n",
       "3  Son Dưỡng Môi DHC Không Màu Hỗ Trợ Giảm Thâm M...   \n",
       "4  Son Dưỡng Môi DHC Không Màu Hỗ Trợ Giảm Thâm M...   \n",
       "\n",
       "                                             Comment  \\\n",
       "0  Cây này cây thứ 3 rồi vẫn chưa có dấu hiệu dừn...   \n",
       "1  Cây son dưỡng mình thích nhất từ trc tới giờ, ...   \n",
       "2  Mới từ đầu sẽ thấy mùi son hơi khó ngửi nhưng ...   \n",
       "3  Giá cả hợp lý, giao hàng nhanh. Sản phẩm không...   \n",
       "4  Xài mướt, cảm giác nhẹ môi chứ k nặng dàyooi n...   \n",
       "\n",
       "                                              Images  \n",
       "0                                                 []  \n",
       "1  ['https://media.hcdn.vn/rating/169874591132980...  \n",
       "2                                                 []  \n",
       "3                                                 []  \n",
       "4                                                 []  "
      ]
     },
     "execution_count": 1,
     "metadata": {},
     "output_type": "execute_result"
    }
   ],
   "source": [
    "import pandas as pd\n",
    "comments = pd.read_csv('../../../data/comments.csv')\n",
    "comments.rename(columns={'Unnamed: 0': 'commentID'}, inplace=True)\n",
    "comments.head()"
   ]
  },
  {
   "cell_type": "code",
   "execution_count": 27,
   "metadata": {},
   "outputs": [
    {
     "data": {
      "text/plain": [
       "Unnamed: 0     47409\n",
       "Name            3519\n",
       "Time            5260\n",
       "Description     2104\n",
       "Comment         5039\n",
       "Images           968\n",
       "dtype: int64"
      ]
     },
     "execution_count": 27,
     "metadata": {},
     "output_type": "execute_result"
    }
   ],
   "source": [
    "a = comments.nunique()\n",
    "a"
   ]
  },
  {
   "cell_type": "code",
   "execution_count": 29,
   "metadata": {},
   "outputs": [
    {
     "data": {
      "text/plain": [
       "(47409, 6)"
      ]
     },
     "execution_count": 29,
     "metadata": {},
     "output_type": "execute_result"
    }
   ],
   "source": [
    "comments.shape"
   ]
  },
  {
   "cell_type": "code",
   "execution_count": 32,
   "metadata": {},
   "outputs": [
    {
     "name": "stdout",
     "output_type": "stream",
     "text": [
      "Upsert complete. Matched: 0 Inserted: 47409\n"
     ]
    }
   ],
   "source": [
    "from mongodb_connection import MongoDB\n",
    "mongodb = MongoDB(username, password, cluster_url)\n",
    "\n",
    "collection = mongodb.collection(dbname='hasaki_data', collection_name='comments')\n",
    "\n",
    "mongodb.upsert_data(comments, collection, unique_field='commentID')"
   ]
  }
 ],
 "metadata": {
  "kernelspec": {
   "display_name": "rag-env",
   "language": "python",
   "name": "python3"
  },
  "language_info": {
   "codemirror_mode": {
    "name": "ipython",
    "version": 3
   },
   "file_extension": ".py",
   "mimetype": "text/x-python",
   "name": "python",
   "nbconvert_exporter": "python",
   "pygments_lexer": "ipython3",
   "version": "3.12.7"
  }
 },
 "nbformat": 4,
 "nbformat_minor": 2
}
