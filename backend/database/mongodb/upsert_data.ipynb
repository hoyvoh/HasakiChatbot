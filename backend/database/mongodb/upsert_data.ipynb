{
 "cells": [
  {
   "cell_type": "code",
   "execution_count": 18,
   "metadata": {},
   "outputs": [
    {
     "name": "stdout",
     "output_type": "stream",
     "text": [
      "Collecting pymongo\n",
      "  Downloading pymongo-4.10.1-cp312-cp312-manylinux_2_17_x86_64.manylinux2014_x86_64.whl.metadata (22 kB)\n",
      "Collecting dnspython<3.0.0,>=1.16.0 (from pymongo)\n",
      "  Downloading dnspython-2.7.0-py3-none-any.whl.metadata (5.8 kB)\n",
      "Downloading pymongo-4.10.1-cp312-cp312-manylinux_2_17_x86_64.manylinux2014_x86_64.whl (1.9 MB)\n",
      "\u001b[2K   \u001b[90m━━━━━━━━━━━━━━━━━━━━━━━━━━━━━━━━━━━━━━━━\u001b[0m \u001b[32m1.9/1.9 MB\u001b[0m \u001b[31m9.8 MB/s\u001b[0m eta \u001b[36m0:00:00\u001b[0mta \u001b[36m0:00:01\u001b[0m\n",
      "\u001b[?25hDownloading dnspython-2.7.0-py3-none-any.whl (313 kB)\n",
      "Installing collected packages: dnspython, pymongo\n",
      "Successfully installed dnspython-2.7.0 pymongo-4.10.1\n"
     ]
    }
   ],
   "source": [
    "!pip install pymongo"
   ]
  },
  {
   "cell_type": "code",
   "execution_count": 4,
   "metadata": {},
   "outputs": [],
   "source": [
    "import pandas as pd\n",
    "\n",
    "# Replace '<username>', '<password>', and '<your-cluster-url>' with your MongoDB Atlas details\n",
    "username = 'phatpham0406202'\n",
    "password = 'cjAB8AHpNKnhQX2e'\n",
    "cluster_url = 'cluster0.mgz1t.mongodb.net'\n"
   ]
  },
  {
   "cell_type": "markdown",
   "metadata": {},
   "source": [
    "### Upsert product_links"
   ]
  },
  {
   "cell_type": "code",
   "execution_count": 10,
   "metadata": {},
   "outputs": [
    {
     "data": {
      "text/html": [
       "<div>\n",
       "<style scoped>\n",
       "    .dataframe tbody tr th:only-of-type {\n",
       "        vertical-align: middle;\n",
       "    }\n",
       "\n",
       "    .dataframe tbody tr th {\n",
       "        vertical-align: top;\n",
       "    }\n",
       "\n",
       "    .dataframe thead th {\n",
       "        text-align: right;\n",
       "    }\n",
       "</style>\n",
       "<table border=\"1\" class=\"dataframe\">\n",
       "  <thead>\n",
       "    <tr style=\"text-align: right;\">\n",
       "      <th></th>\n",
       "      <th>pid</th>\n",
       "      <th>pname</th>\n",
       "      <th>plink</th>\n",
       "      <th>pcat</th>\n",
       "    </tr>\n",
       "  </thead>\n",
       "  <tbody>\n",
       "    <tr>\n",
       "      <th>0</th>\n",
       "      <td>232100001</td>\n",
       "      <td>Son Dưỡng Môi DHC Không Màu Hỗ Trợ Giảm Thâm M...</td>\n",
       "      <td>https://hasaki.vn/san-pham/son-duong-moi-khong...</td>\n",
       "      <td>Trang Điểm / Trang Điểm Môi / Son Dưỡng Môi</td>\n",
       "    </tr>\n",
       "    <tr>\n",
       "      <th>1</th>\n",
       "      <td>422209457</td>\n",
       "      <td>Son Kem Lì Black Rouge A12 Dashed Brown Nâu Gạ...</td>\n",
       "      <td>https://hasaki.vn/san-pham/son-kem-li-black-ro...</td>\n",
       "      <td>Trang Điểm / Trang Điểm Môi / Son Kem / Tint</td>\n",
       "    </tr>\n",
       "    <tr>\n",
       "      <th>2</th>\n",
       "      <td>100830002</td>\n",
       "      <td>Nước Tẩy Trang Mắt Môi Maybelline 150ml</td>\n",
       "      <td>https://hasaki.vn/san-pham/nuoc-tay-trang-mat-...</td>\n",
       "      <td>Trang Điểm / Trang Điểm Môi / Tẩy Trang Mắt / Môi</td>\n",
       "    </tr>\n",
       "    <tr>\n",
       "      <th>3</th>\n",
       "      <td>422209392</td>\n",
       "      <td>Son Thỏi 3CE Vỏ Trong Suốt Unstained Red - Đỏ ...</td>\n",
       "      <td>https://hasaki.vn/san-pham/son-thoi-3ce-vo-tro...</td>\n",
       "      <td>Trang Điểm / Trang Điểm Môi / Son Thỏi</td>\n",
       "    </tr>\n",
       "    <tr>\n",
       "      <th>4</th>\n",
       "      <td>422211334</td>\n",
       "      <td>Sáp Tẩy Trang Banila Co Original Cho Mọi Loạ...</td>\n",
       "      <td>https://hasaki.vn/san-pham/sap-tay-trang-banil...</td>\n",
       "      <td>Chăm Sóc Da Mặt / Làm Sạch Da / Tẩy Trang Mặt</td>\n",
       "    </tr>\n",
       "  </tbody>\n",
       "</table>\n",
       "</div>"
      ],
      "text/plain": [
       "         pid                                              pname  \\\n",
       "0  232100001  Son Dưỡng Môi DHC Không Màu Hỗ Trợ Giảm Thâm M...   \n",
       "1  422209457  Son Kem Lì Black Rouge A12 Dashed Brown Nâu Gạ...   \n",
       "2  100830002            Nước Tẩy Trang Mắt Môi Maybelline 150ml   \n",
       "3  422209392  Son Thỏi 3CE Vỏ Trong Suốt Unstained Red - Đỏ ...   \n",
       "4  422211334  Sáp Tẩy Trang Banila Co Original Cho Mọi Loạ...   \n",
       "\n",
       "                                               plink  \\\n",
       "0  https://hasaki.vn/san-pham/son-duong-moi-khong...   \n",
       "1  https://hasaki.vn/san-pham/son-kem-li-black-ro...   \n",
       "2  https://hasaki.vn/san-pham/nuoc-tay-trang-mat-...   \n",
       "3  https://hasaki.vn/san-pham/son-thoi-3ce-vo-tro...   \n",
       "4  https://hasaki.vn/san-pham/sap-tay-trang-banil...   \n",
       "\n",
       "                                                pcat  \n",
       "0        Trang Điểm / Trang Điểm Môi / Son Dưỡng Môi  \n",
       "1       Trang Điểm / Trang Điểm Môi / Son Kem / Tint  \n",
       "2  Trang Điểm / Trang Điểm Môi / Tẩy Trang Mắt / Môi  \n",
       "3             Trang Điểm / Trang Điểm Môi / Son Thỏi  \n",
       "4      Chăm Sóc Da Mặt / Làm Sạch Da / Tẩy Trang Mặt  "
      ]
     },
     "execution_count": 10,
     "metadata": {},
     "output_type": "execute_result"
    }
   ],
   "source": [
    "\n",
    "product_link = pd.read_csv('../../../data/product_links.csv')\n",
    "product_link = product_link.drop(columns=['Unnamed: 0'], axis=1)\n",
    "product_link.head()"
   ]
  },
  {
   "cell_type": "code",
   "execution_count": 5,
   "metadata": {},
   "outputs": [
    {
     "name": "stdout",
     "output_type": "stream",
     "text": [
      "Upsert complete. Matched: 54 Inserted: 2817\n"
     ]
    }
   ],
   "source": [
    "from mongodb_connection import MongoDB\n",
    "\n",
    "mongodb = MongoDB(username, password, cluster_url)\n",
    "collection = mongodb.collection(dbname='hasaki_data', collection_name='product_links')\n",
    "\n",
    "mongodb.upsert_data(product_link, collection, unique_field='pid')"
   ]
  },
  {
   "cell_type": "markdown",
   "metadata": {},
   "source": [
    "## Upset campaigns"
   ]
  },
  {
   "cell_type": "code",
   "execution_count": 21,
   "metadata": {},
   "outputs": [
    {
     "data": {
      "text/html": [
       "<div>\n",
       "<style scoped>\n",
       "    .dataframe tbody tr th:only-of-type {\n",
       "        vertical-align: middle;\n",
       "    }\n",
       "\n",
       "    .dataframe tbody tr th {\n",
       "        vertical-align: top;\n",
       "    }\n",
       "\n",
       "    .dataframe thead th {\n",
       "        text-align: right;\n",
       "    }\n",
       "</style>\n",
       "<table border=\"1\" class=\"dataframe\">\n",
       "  <thead>\n",
       "    <tr style=\"text-align: right;\">\n",
       "      <th></th>\n",
       "      <th>campaignID</th>\n",
       "      <th>label</th>\n",
       "      <th>link</th>\n",
       "      <th>img</th>\n",
       "    </tr>\n",
       "  </thead>\n",
       "  <tbody>\n",
       "    <tr>\n",
       "      <th>0</th>\n",
       "      <td>0</td>\n",
       "      <td>Khai trương chi nhánh 221, 222 - Cần Thơ, Đồng...</td>\n",
       "      <td>https://hasaki.vn/campaign/khai-truong-chi-nha...</td>\n",
       "      <td>https://media.hcdn.vn/hsk/campaign/640x240-172...</td>\n",
       "    </tr>\n",
       "    <tr>\n",
       "      <th>1</th>\n",
       "      <td>1</td>\n",
       "      <td>Khai trương chi nhánh 223, 224 - Hội An, TP.HCM</td>\n",
       "      <td>https://hasaki.vn/campaign/khai-truong-chi-nha...</td>\n",
       "      <td>https://media.hcdn.vn/hsk/campaign/640x240mobi...</td>\n",
       "    </tr>\n",
       "    <tr>\n",
       "      <th>2</th>\n",
       "      <td>2</td>\n",
       "      <td>Sale lương về - Deal ngập tràn</td>\n",
       "      <td>https://hasaki.vn/campaign/best-seller</td>\n",
       "      <td>https://media.hcdn.vn/hsk/campaign/640x240---2...</td>\n",
       "    </tr>\n",
       "    <tr>\n",
       "      <th>3</th>\n",
       "      <td>3</td>\n",
       "      <td>[HOT] Ưu đãi trải nghiệm làm đẹp đến hơn 60%</td>\n",
       "      <td>https://hasaki.vn/campaign/trai-nghiem-dich-vu</td>\n",
       "      <td>https://media.hcdn.vn/hsk/campaign/wap16981146...</td>\n",
       "    </tr>\n",
       "    <tr>\n",
       "      <th>4</th>\n",
       "      <td>4</td>\n",
       "      <td>Unilever Nâng Niu Nét Đẹp Toàn Diện</td>\n",
       "      <td>https://hasaki.vn/campaign/unilever-khuyen-mai...</td>\n",
       "      <td>https://media.hcdn.vn/hsk/campaign/UnileverSIS...</td>\n",
       "    </tr>\n",
       "  </tbody>\n",
       "</table>\n",
       "</div>"
      ],
      "text/plain": [
       "   campaignID                                              label  \\\n",
       "0           0  Khai trương chi nhánh 221, 222 - Cần Thơ, Đồng...   \n",
       "1           1    Khai trương chi nhánh 223, 224 - Hội An, TP.HCM   \n",
       "2           2                     Sale lương về - Deal ngập tràn   \n",
       "3           3       [HOT] Ưu đãi trải nghiệm làm đẹp đến hơn 60%   \n",
       "4           4                Unilever Nâng Niu Nét Đẹp Toàn Diện   \n",
       "\n",
       "                                                link  \\\n",
       "0  https://hasaki.vn/campaign/khai-truong-chi-nha...   \n",
       "1  https://hasaki.vn/campaign/khai-truong-chi-nha...   \n",
       "2             https://hasaki.vn/campaign/best-seller   \n",
       "3     https://hasaki.vn/campaign/trai-nghiem-dich-vu   \n",
       "4  https://hasaki.vn/campaign/unilever-khuyen-mai...   \n",
       "\n",
       "                                                 img  \n",
       "0  https://media.hcdn.vn/hsk/campaign/640x240-172...  \n",
       "1  https://media.hcdn.vn/hsk/campaign/640x240mobi...  \n",
       "2  https://media.hcdn.vn/hsk/campaign/640x240---2...  \n",
       "3  https://media.hcdn.vn/hsk/campaign/wap16981146...  \n",
       "4  https://media.hcdn.vn/hsk/campaign/UnileverSIS...  "
      ]
     },
     "execution_count": 21,
     "metadata": {},
     "output_type": "execute_result"
    }
   ],
   "source": [
    "campaigns = pd.read_csv('../../../data/campaigns.csv')\n",
    "campaigns.rename(columns={'Unnamed: 0': 'campaignID'}, inplace=True)\n",
    "campaigns.head()"
   ]
  },
  {
   "cell_type": "code",
   "execution_count": 23,
   "metadata": {},
   "outputs": [
    {
     "name": "stdout",
     "output_type": "stream",
     "text": [
      "Upsert complete. Matched: 0 Inserted: 13\n"
     ]
    }
   ],
   "source": [
    "from mongodb_connection import MongoDB\n",
    "mongodb = MongoDB(username, password, cluster_url)\n",
    "\n",
    "collection = mongodb.collection(dbname='hasaki_data', collection_name='campaigns')\n",
    "\n",
    "mongodb.upsert_data(campaigns, collection, unique_field='campaignID')"
   ]
  },
  {
   "cell_type": "markdown",
   "metadata": {},
   "source": [
    "## Upsert categories"
   ]
  },
  {
   "cell_type": "code",
   "execution_count": 24,
   "metadata": {},
   "outputs": [
    {
     "data": {
      "text/html": [
       "<div>\n",
       "<style scoped>\n",
       "    .dataframe tbody tr th:only-of-type {\n",
       "        vertical-align: middle;\n",
       "    }\n",
       "\n",
       "    .dataframe tbody tr th {\n",
       "        vertical-align: top;\n",
       "    }\n",
       "\n",
       "    .dataframe thead th {\n",
       "        text-align: right;\n",
       "    }\n",
       "</style>\n",
       "<table border=\"1\" class=\"dataframe\">\n",
       "  <thead>\n",
       "    <tr style=\"text-align: right;\">\n",
       "      <th></th>\n",
       "      <th>categoryID</th>\n",
       "      <th>link</th>\n",
       "      <th>img</th>\n",
       "      <th>cat</th>\n",
       "    </tr>\n",
       "  </thead>\n",
       "  <tbody>\n",
       "    <tr>\n",
       "      <th>0</th>\n",
       "      <td>0</td>\n",
       "      <td>https://hasaki.vn/danh-muc/trang-diem-moi-c24....</td>\n",
       "      <td>https://media.hcdn.vn/catalog/category/c24-tra...</td>\n",
       "      <td>Trang Điểm Môi</td>\n",
       "    </tr>\n",
       "    <tr>\n",
       "      <th>1</th>\n",
       "      <td>1</td>\n",
       "      <td>https://hasaki.vn/danh-muc/mat-na-c30.html</td>\n",
       "      <td>https://media.hcdn.vn/catalog/category/30_1_im...</td>\n",
       "      <td>Mặt Nạ</td>\n",
       "    </tr>\n",
       "    <tr>\n",
       "      <th>2</th>\n",
       "      <td>2</td>\n",
       "      <td>https://hasaki.vn/danh-muc/trang-diem-mat-c52....</td>\n",
       "      <td>https://media.hcdn.vn/catalog/category/c52-tra...</td>\n",
       "      <td>Trang Điểm Mặt</td>\n",
       "    </tr>\n",
       "    <tr>\n",
       "      <th>3</th>\n",
       "      <td>3</td>\n",
       "      <td>https://hasaki.vn/danh-muc/sua-rua-mat-c19.html</td>\n",
       "      <td>https://media.hcdn.vn/catalog/category/19_3_im...</td>\n",
       "      <td>Sữa Rửa Mặt</td>\n",
       "    </tr>\n",
       "    <tr>\n",
       "      <th>4</th>\n",
       "      <td>4</td>\n",
       "      <td>https://hasaki.vn/danh-muc/trang-diem-vung-mat...</td>\n",
       "      <td>https://media.hcdn.vn/catalog/category/c50-tra...</td>\n",
       "      <td>Trang Điểm Mắt</td>\n",
       "    </tr>\n",
       "  </tbody>\n",
       "</table>\n",
       "</div>"
      ],
      "text/plain": [
       "   categoryID                                               link  \\\n",
       "0           0  https://hasaki.vn/danh-muc/trang-diem-moi-c24....   \n",
       "1           1         https://hasaki.vn/danh-muc/mat-na-c30.html   \n",
       "2           2  https://hasaki.vn/danh-muc/trang-diem-mat-c52....   \n",
       "3           3    https://hasaki.vn/danh-muc/sua-rua-mat-c19.html   \n",
       "4           4  https://hasaki.vn/danh-muc/trang-diem-vung-mat...   \n",
       "\n",
       "                                                 img             cat  \n",
       "0  https://media.hcdn.vn/catalog/category/c24-tra...  Trang Điểm Môi  \n",
       "1  https://media.hcdn.vn/catalog/category/30_1_im...          Mặt Nạ  \n",
       "2  https://media.hcdn.vn/catalog/category/c52-tra...  Trang Điểm Mặt  \n",
       "3  https://media.hcdn.vn/catalog/category/19_3_im...     Sữa Rửa Mặt  \n",
       "4  https://media.hcdn.vn/catalog/category/c50-tra...  Trang Điểm Mắt  "
      ]
     },
     "execution_count": 24,
     "metadata": {},
     "output_type": "execute_result"
    }
   ],
   "source": [
    "categories = pd.read_csv('../../../data/categories.csv')\n",
    "categories.rename(columns={'Unnamed: 0': 'categoryID'}, inplace=True)\n",
    "categories.head()"
   ]
  },
  {
   "cell_type": "code",
   "execution_count": 25,
   "metadata": {},
   "outputs": [
    {
     "name": "stdout",
     "output_type": "stream",
     "text": [
      "Upsert complete. Matched: 0 Inserted: 15\n"
     ]
    }
   ],
   "source": [
    "from mongodb_connection import MongoDB\n",
    "mongodb = MongoDB(username, password, cluster_url)\n",
    "\n",
    "collection = mongodb.collection(dbname='hasaki_data', collection_name='categories')\n",
    "\n",
    "mongodb.upsert_data(categories, collection, unique_field='categoryID')"
   ]
  },
  {
   "cell_type": "markdown",
   "metadata": {},
   "source": [
    "## Upsert comments"
   ]
  },
  {
   "cell_type": "code",
   "execution_count": 1,
   "metadata": {},
   "outputs": [
    {
     "data": {
      "text/html": [
       "<div>\n",
       "<style scoped>\n",
       "    .dataframe tbody tr th:only-of-type {\n",
       "        vertical-align: middle;\n",
       "    }\n",
       "\n",
       "    .dataframe tbody tr th {\n",
       "        vertical-align: top;\n",
       "    }\n",
       "\n",
       "    .dataframe thead th {\n",
       "        text-align: right;\n",
       "    }\n",
       "</style>\n",
       "<table border=\"1\" class=\"dataframe\">\n",
       "  <thead>\n",
       "    <tr style=\"text-align: right;\">\n",
       "      <th></th>\n",
       "      <th>commentID</th>\n",
       "      <th>Name</th>\n",
       "      <th>Time</th>\n",
       "      <th>Description</th>\n",
       "      <th>Comment</th>\n",
       "      <th>Images</th>\n",
       "    </tr>\n",
       "  </thead>\n",
       "  <tbody>\n",
       "    <tr>\n",
       "      <th>0</th>\n",
       "      <td>0</td>\n",
       "      <td>Bùi Ngọc Hà Linh</td>\n",
       "      <td>14: 56 | 14/08/2023</td>\n",
       "      <td>Son Dưỡng Môi DHC Không Màu Hỗ Trợ Giảm Thâm M...</td>\n",
       "      <td>Cây này cây thứ 3 rồi vẫn chưa có dấu hiệu dừn...</td>\n",
       "      <td>[]</td>\n",
       "    </tr>\n",
       "    <tr>\n",
       "      <th>1</th>\n",
       "      <td>1</td>\n",
       "      <td>Như Phương</td>\n",
       "      <td>16: 51 | 31/10/2023</td>\n",
       "      <td>Son Dưỡng Môi DHC Không Màu Hỗ Trợ Giảm Thâm M...</td>\n",
       "      <td>Cây son dưỡng mình thích nhất từ trc tới giờ, ...</td>\n",
       "      <td>['https://media.hcdn.vn/rating/169874591132980...</td>\n",
       "    </tr>\n",
       "    <tr>\n",
       "      <th>2</th>\n",
       "      <td>2</td>\n",
       "      <td>Phạm Thị Tuyết</td>\n",
       "      <td>19: 48 | 20/01/2022</td>\n",
       "      <td>Son Dưỡng Môi DHC Không Màu Hỗ Trợ Giảm Thâm M...</td>\n",
       "      <td>Mới từ đầu sẽ thấy mùi son hơi khó ngửi nhưng ...</td>\n",
       "      <td>[]</td>\n",
       "    </tr>\n",
       "    <tr>\n",
       "      <th>3</th>\n",
       "      <td>3</td>\n",
       "      <td>Minh</td>\n",
       "      <td>00: 35 | 18/11/2022</td>\n",
       "      <td>Son Dưỡng Môi DHC Không Màu Hỗ Trợ Giảm Thâm M...</td>\n",
       "      <td>Giá cả hợp lý, giao hàng nhanh. Sản phẩm không...</td>\n",
       "      <td>[]</td>\n",
       "    </tr>\n",
       "    <tr>\n",
       "      <th>4</th>\n",
       "      <td>4</td>\n",
       "      <td>Hien</td>\n",
       "      <td>17: 42 | 24/08/2024</td>\n",
       "      <td>Son Dưỡng Môi DHC Không Màu Hỗ Trợ Giảm Thâm M...</td>\n",
       "      <td>Xài mướt, cảm giác nhẹ môi chứ k nặng dàyooi n...</td>\n",
       "      <td>[]</td>\n",
       "    </tr>\n",
       "  </tbody>\n",
       "</table>\n",
       "</div>"
      ],
      "text/plain": [
       "   commentID              Name                 Time  \\\n",
       "0          0  Bùi Ngọc Hà Linh  14: 56 | 14/08/2023   \n",
       "1          1        Như Phương  16: 51 | 31/10/2023   \n",
       "2          2    Phạm Thị Tuyết  19: 48 | 20/01/2022   \n",
       "3          3              Minh  00: 35 | 18/11/2022   \n",
       "4          4              Hien  17: 42 | 24/08/2024   \n",
       "\n",
       "                                         Description  \\\n",
       "0  Son Dưỡng Môi DHC Không Màu Hỗ Trợ Giảm Thâm M...   \n",
       "1  Son Dưỡng Môi DHC Không Màu Hỗ Trợ Giảm Thâm M...   \n",
       "2  Son Dưỡng Môi DHC Không Màu Hỗ Trợ Giảm Thâm M...   \n",
       "3  Son Dưỡng Môi DHC Không Màu Hỗ Trợ Giảm Thâm M...   \n",
       "4  Son Dưỡng Môi DHC Không Màu Hỗ Trợ Giảm Thâm M...   \n",
       "\n",
       "                                             Comment  \\\n",
       "0  Cây này cây thứ 3 rồi vẫn chưa có dấu hiệu dừn...   \n",
       "1  Cây son dưỡng mình thích nhất từ trc tới giờ, ...   \n",
       "2  Mới từ đầu sẽ thấy mùi son hơi khó ngửi nhưng ...   \n",
       "3  Giá cả hợp lý, giao hàng nhanh. Sản phẩm không...   \n",
       "4  Xài mướt, cảm giác nhẹ môi chứ k nặng dàyooi n...   \n",
       "\n",
       "                                              Images  \n",
       "0                                                 []  \n",
       "1  ['https://media.hcdn.vn/rating/169874591132980...  \n",
       "2                                                 []  \n",
       "3                                                 []  \n",
       "4                                                 []  "
      ]
     },
     "execution_count": 1,
     "metadata": {},
     "output_type": "execute_result"
    }
   ],
   "source": [
    "import pandas as pd\n",
    "comments = pd.read_csv('../../../data/comments.csv')\n",
    "comments.rename(columns={'Unnamed: 0': 'commentID'}, inplace=True)\n",
    "comments.head()"
   ]
  },
  {
   "cell_type": "code",
   "execution_count": 27,
   "metadata": {},
   "outputs": [
    {
     "data": {
      "text/plain": [
       "Unnamed: 0     47409\n",
       "Name            3519\n",
       "Time            5260\n",
       "Description     2104\n",
       "Comment         5039\n",
       "Images           968\n",
       "dtype: int64"
      ]
     },
     "execution_count": 27,
     "metadata": {},
     "output_type": "execute_result"
    }
   ],
   "source": [
    "a = comments.nunique()\n",
    "a"
   ]
  },
  {
   "cell_type": "code",
   "execution_count": 29,
   "metadata": {},
   "outputs": [
    {
     "data": {
      "text/plain": [
       "(47409, 6)"
      ]
     },
     "execution_count": 29,
     "metadata": {},
     "output_type": "execute_result"
    }
   ],
   "source": [
    "comments.shape"
   ]
  },
  {
   "cell_type": "code",
   "execution_count": 32,
   "metadata": {},
   "outputs": [
    {
     "name": "stdout",
     "output_type": "stream",
     "text": [
      "Upsert complete. Matched: 0 Inserted: 47409\n"
     ]
    }
   ],
   "source": [
    "from mongodb_connection import MongoDB\n",
    "mongodb = MongoDB(username, password, cluster_url)\n",
    "\n",
    "collection = mongodb.collection(dbname='hasaki_data', collection_name='comments')\n",
    "\n",
    "mongodb.upsert_data(comments, collection, unique_field='commentID')"
   ]
  },
  {
   "cell_type": "markdown",
   "metadata": {},
   "source": [
    "## Upsert product pages"
   ]
  },
  {
   "cell_type": "code",
   "execution_count": 2,
   "metadata": {},
   "outputs": [
    {
     "data": {
      "text/html": [
       "<div>\n",
       "<style scoped>\n",
       "    .dataframe tbody tr th:only-of-type {\n",
       "        vertical-align: middle;\n",
       "    }\n",
       "\n",
       "    .dataframe tbody tr th {\n",
       "        vertical-align: top;\n",
       "    }\n",
       "\n",
       "    .dataframe thead th {\n",
       "        text-align: right;\n",
       "    }\n",
       "</style>\n",
       "<table border=\"1\" class=\"dataframe\">\n",
       "  <thead>\n",
       "    <tr style=\"text-align: right;\">\n",
       "      <th></th>\n",
       "      <th>pid</th>\n",
       "      <th>pname</th>\n",
       "      <th>plink</th>\n",
       "      <th>pcat</th>\n",
       "      <th>page</th>\n",
       "    </tr>\n",
       "  </thead>\n",
       "  <tbody>\n",
       "    <tr>\n",
       "      <th>0</th>\n",
       "      <td>232100001</td>\n",
       "      <td>Son Dưỡng Môi DHC Không Màu Hỗ Trợ Giảm Thâm M...</td>\n",
       "      <td>https://hasaki.vn/san-pham/son-duong-moi-khong...</td>\n",
       "      <td>Trang Điểm / Trang Điểm Môi / Son Dưỡng Môi</td>\n",
       "      <td>\\n&lt;!doctype html&gt;\\n&lt;html lang=\"vi\"&gt;\\n&lt;head&gt;\\n ...</td>\n",
       "    </tr>\n",
       "    <tr>\n",
       "      <th>1</th>\n",
       "      <td>422209457</td>\n",
       "      <td>Son Kem Lì Black Rouge A12 Dashed Brown Nâu Gạ...</td>\n",
       "      <td>https://hasaki.vn/san-pham/son-kem-li-black-ro...</td>\n",
       "      <td>Trang Điểm / Trang Điểm Môi / Son Kem / Tint</td>\n",
       "      <td>\\n&lt;!doctype html&gt;\\n&lt;html lang=\"vi\"&gt;\\n&lt;head&gt;\\n ...</td>\n",
       "    </tr>\n",
       "    <tr>\n",
       "      <th>2</th>\n",
       "      <td>100830002</td>\n",
       "      <td>Nước Tẩy Trang Mắt Môi Maybelline 150ml</td>\n",
       "      <td>https://hasaki.vn/san-pham/nuoc-tay-trang-mat-...</td>\n",
       "      <td>Trang Điểm / Trang Điểm Môi / Tẩy Trang Mắt / Môi</td>\n",
       "      <td>\\n&lt;!doctype html&gt;\\n&lt;html lang=\"vi\"&gt;\\n&lt;head&gt;\\n ...</td>\n",
       "    </tr>\n",
       "    <tr>\n",
       "      <th>3</th>\n",
       "      <td>422209392</td>\n",
       "      <td>Son Thỏi 3CE Vỏ Trong Suốt Unstained Red - Đỏ ...</td>\n",
       "      <td>https://hasaki.vn/san-pham/son-thoi-3ce-vo-tro...</td>\n",
       "      <td>Trang Điểm / Trang Điểm Môi / Son Thỏi</td>\n",
       "      <td>\\n&lt;!doctype html&gt;\\n&lt;html lang=\"vi\"&gt;\\n&lt;head&gt;\\n ...</td>\n",
       "    </tr>\n",
       "    <tr>\n",
       "      <th>4</th>\n",
       "      <td>422211334</td>\n",
       "      <td>Sáp Tẩy Trang Banila Co Original Cho Mọi Loạ...</td>\n",
       "      <td>https://hasaki.vn/san-pham/sap-tay-trang-banil...</td>\n",
       "      <td>Chăm Sóc Da Mặt / Làm Sạch Da / Tẩy Trang Mặt</td>\n",
       "      <td>\\n&lt;!doctype html&gt;\\n&lt;html lang=\"vi\"&gt;\\n&lt;head&gt;\\n ...</td>\n",
       "    </tr>\n",
       "  </tbody>\n",
       "</table>\n",
       "</div>"
      ],
      "text/plain": [
       "         pid                                              pname  \\\n",
       "0  232100001  Son Dưỡng Môi DHC Không Màu Hỗ Trợ Giảm Thâm M...   \n",
       "1  422209457  Son Kem Lì Black Rouge A12 Dashed Brown Nâu Gạ...   \n",
       "2  100830002            Nước Tẩy Trang Mắt Môi Maybelline 150ml   \n",
       "3  422209392  Son Thỏi 3CE Vỏ Trong Suốt Unstained Red - Đỏ ...   \n",
       "4  422211334  Sáp Tẩy Trang Banila Co Original Cho Mọi Loạ...   \n",
       "\n",
       "                                               plink  \\\n",
       "0  https://hasaki.vn/san-pham/son-duong-moi-khong...   \n",
       "1  https://hasaki.vn/san-pham/son-kem-li-black-ro...   \n",
       "2  https://hasaki.vn/san-pham/nuoc-tay-trang-mat-...   \n",
       "3  https://hasaki.vn/san-pham/son-thoi-3ce-vo-tro...   \n",
       "4  https://hasaki.vn/san-pham/sap-tay-trang-banil...   \n",
       "\n",
       "                                                pcat  \\\n",
       "0        Trang Điểm / Trang Điểm Môi / Son Dưỡng Môi   \n",
       "1       Trang Điểm / Trang Điểm Môi / Son Kem / Tint   \n",
       "2  Trang Điểm / Trang Điểm Môi / Tẩy Trang Mắt / Môi   \n",
       "3             Trang Điểm / Trang Điểm Môi / Son Thỏi   \n",
       "4      Chăm Sóc Da Mặt / Làm Sạch Da / Tẩy Trang Mặt   \n",
       "\n",
       "                                                page  \n",
       "0  \\n<!doctype html>\\n<html lang=\"vi\">\\n<head>\\n ...  \n",
       "1  \\n<!doctype html>\\n<html lang=\"vi\">\\n<head>\\n ...  \n",
       "2  \\n<!doctype html>\\n<html lang=\"vi\">\\n<head>\\n ...  \n",
       "3  \\n<!doctype html>\\n<html lang=\"vi\">\\n<head>\\n ...  \n",
       "4  \\n<!doctype html>\\n<html lang=\"vi\">\\n<head>\\n ...  "
      ]
     },
     "execution_count": 2,
     "metadata": {},
     "output_type": "execute_result"
    }
   ],
   "source": [
    "product_pages = pd.read_csv('../../../data/product_pages.csv')\n",
    "product_pages = product_pages.drop(columns=['Unnamed: 0'], axis=1) \n",
    "product_pages.head()"
   ]
  },
  {
   "cell_type": "code",
   "execution_count": 6,
   "metadata": {},
   "outputs": [
    {
     "name": "stderr",
     "output_type": "stream",
     "text": [
      "Upserting data: 100%|██████████| 2871/2871 [00:00<00:00, 9403.40it/s]\n"
     ]
    },
    {
     "ename": "OperationFailure",
     "evalue": "you are over your space quota, using 518 MB of 512 MB, full error: {'ok': 0, 'errmsg': 'you are over your space quota, using 518 MB of 512 MB', 'code': 8000, 'codeName': 'AtlasError'}",
     "output_type": "error",
     "traceback": [
      "\u001b[0;31m---------------------------------------------------------------------------\u001b[0m",
      "\u001b[0;31mOperationFailure\u001b[0m                          Traceback (most recent call last)",
      "Cell \u001b[0;32mIn[6], line 6\u001b[0m\n\u001b[1;32m      2\u001b[0m mongodb \u001b[38;5;241m=\u001b[39m MongoDB(username, password, cluster_url)\n\u001b[1;32m      4\u001b[0m collection \u001b[38;5;241m=\u001b[39m mongodb\u001b[38;5;241m.\u001b[39mcollection(dbname\u001b[38;5;241m=\u001b[39m\u001b[38;5;124m'\u001b[39m\u001b[38;5;124mhasaki_data\u001b[39m\u001b[38;5;124m'\u001b[39m, collection_name\u001b[38;5;241m=\u001b[39m\u001b[38;5;124m'\u001b[39m\u001b[38;5;124mproduct_pages\u001b[39m\u001b[38;5;124m'\u001b[39m)\n\u001b[0;32m----> 6\u001b[0m \u001b[43mmongodb\u001b[49m\u001b[38;5;241;43m.\u001b[39;49m\u001b[43mupsert_data\u001b[49m\u001b[43m(\u001b[49m\u001b[43mproduct_pages\u001b[49m\u001b[43m,\u001b[49m\u001b[43m \u001b[49m\u001b[43mcollection\u001b[49m\u001b[43m,\u001b[49m\u001b[43m \u001b[49m\u001b[43munique_field\u001b[49m\u001b[38;5;241;43m=\u001b[39;49m\u001b[38;5;124;43m'\u001b[39;49m\u001b[38;5;124;43mpid\u001b[39;49m\u001b[38;5;124;43m'\u001b[39;49m\u001b[43m)\u001b[49m\n",
      "File \u001b[0;32m/mnt/c/Users/Phat Pham/Documents/sudocode-2024-team-07/backend/database/mongodb/mongodb_connection.py:35\u001b[0m, in \u001b[0;36mMongoDB.upsert_data\u001b[0;34m(self, data, collection, unique_field)\u001b[0m\n\u001b[1;32m     33\u001b[0m \u001b[38;5;66;03m# Bulk write to the collection\u001b[39;00m\n\u001b[1;32m     34\u001b[0m \u001b[38;5;28;01mif\u001b[39;00m operations:\n\u001b[0;32m---> 35\u001b[0m     result \u001b[38;5;241m=\u001b[39m \u001b[43mcollection\u001b[49m\u001b[38;5;241;43m.\u001b[39;49m\u001b[43mbulk_write\u001b[49m\u001b[43m(\u001b[49m\u001b[43moperations\u001b[49m\u001b[43m)\u001b[49m\n\u001b[1;32m     36\u001b[0m     \u001b[38;5;28mprint\u001b[39m(\u001b[38;5;124m\"\u001b[39m\u001b[38;5;124mUpsert complete. Matched:\u001b[39m\u001b[38;5;124m\"\u001b[39m, result\u001b[38;5;241m.\u001b[39mmatched_count, \u001b[38;5;124m\"\u001b[39m\u001b[38;5;124mInserted:\u001b[39m\u001b[38;5;124m\"\u001b[39m, result\u001b[38;5;241m.\u001b[39mupserted_count)\n",
      "File \u001b[0;32m~/anaconda3/envs/rag-env/lib/python3.12/site-packages/pymongo/_csot.py:119\u001b[0m, in \u001b[0;36mapply.<locals>.csot_wrapper\u001b[0;34m(self, *args, **kwargs)\u001b[0m\n\u001b[1;32m    117\u001b[0m         \u001b[38;5;28;01mwith\u001b[39;00m _TimeoutContext(timeout):\n\u001b[1;32m    118\u001b[0m             \u001b[38;5;28;01mreturn\u001b[39;00m func(\u001b[38;5;28mself\u001b[39m, \u001b[38;5;241m*\u001b[39margs, \u001b[38;5;241m*\u001b[39m\u001b[38;5;241m*\u001b[39mkwargs)\n\u001b[0;32m--> 119\u001b[0m \u001b[38;5;28;01mreturn\u001b[39;00m \u001b[43mfunc\u001b[49m\u001b[43m(\u001b[49m\u001b[38;5;28;43mself\u001b[39;49m\u001b[43m,\u001b[49m\u001b[43m \u001b[49m\u001b[38;5;241;43m*\u001b[39;49m\u001b[43margs\u001b[49m\u001b[43m,\u001b[49m\u001b[43m \u001b[49m\u001b[38;5;241;43m*\u001b[39;49m\u001b[38;5;241;43m*\u001b[39;49m\u001b[43mkwargs\u001b[49m\u001b[43m)\u001b[49m\n",
      "File \u001b[0;32m~/anaconda3/envs/rag-env/lib/python3.12/site-packages/pymongo/synchronous/collection.py:791\u001b[0m, in \u001b[0;36mCollection.bulk_write\u001b[0;34m(self, requests, ordered, bypass_document_validation, session, comment, let)\u001b[0m\n\u001b[1;32m    788\u001b[0m         \u001b[38;5;28;01mraise\u001b[39;00m \u001b[38;5;167;01mTypeError\u001b[39;00m(\u001b[38;5;124mf\u001b[39m\u001b[38;5;124m\"\u001b[39m\u001b[38;5;132;01m{\u001b[39;00mrequest\u001b[38;5;132;01m!r}\u001b[39;00m\u001b[38;5;124m is not a valid request\u001b[39m\u001b[38;5;124m\"\u001b[39m) \u001b[38;5;28;01mfrom\u001b[39;00m \u001b[38;5;28;01mNone\u001b[39;00m\n\u001b[1;32m    790\u001b[0m write_concern \u001b[38;5;241m=\u001b[39m \u001b[38;5;28mself\u001b[39m\u001b[38;5;241m.\u001b[39m_write_concern_for(session)\n\u001b[0;32m--> 791\u001b[0m bulk_api_result \u001b[38;5;241m=\u001b[39m \u001b[43mblk\u001b[49m\u001b[38;5;241;43m.\u001b[39;49m\u001b[43mexecute\u001b[49m\u001b[43m(\u001b[49m\u001b[43mwrite_concern\u001b[49m\u001b[43m,\u001b[49m\u001b[43m \u001b[49m\u001b[43msession\u001b[49m\u001b[43m,\u001b[49m\u001b[43m \u001b[49m\u001b[43m_Op\u001b[49m\u001b[38;5;241;43m.\u001b[39;49m\u001b[43mINSERT\u001b[49m\u001b[43m)\u001b[49m\n\u001b[1;32m    792\u001b[0m \u001b[38;5;28;01mif\u001b[39;00m bulk_api_result \u001b[38;5;129;01mis\u001b[39;00m \u001b[38;5;129;01mnot\u001b[39;00m \u001b[38;5;28;01mNone\u001b[39;00m:\n\u001b[1;32m    793\u001b[0m     \u001b[38;5;28;01mreturn\u001b[39;00m BulkWriteResult(bulk_api_result, \u001b[38;5;28;01mTrue\u001b[39;00m)\n",
      "File \u001b[0;32m~/anaconda3/envs/rag-env/lib/python3.12/site-packages/pymongo/synchronous/bulk.py:736\u001b[0m, in \u001b[0;36m_Bulk.execute\u001b[0;34m(self, write_concern, session, operation)\u001b[0m\n\u001b[1;32m    734\u001b[0m         \u001b[38;5;28;01mreturn\u001b[39;00m \u001b[38;5;28;01mNone\u001b[39;00m\n\u001b[1;32m    735\u001b[0m \u001b[38;5;28;01melse\u001b[39;00m:\n\u001b[0;32m--> 736\u001b[0m     \u001b[38;5;28;01mreturn\u001b[39;00m \u001b[38;5;28;43mself\u001b[39;49m\u001b[38;5;241;43m.\u001b[39;49m\u001b[43mexecute_command\u001b[49m\u001b[43m(\u001b[49m\u001b[43mgenerator\u001b[49m\u001b[43m,\u001b[49m\u001b[43m \u001b[49m\u001b[43mwrite_concern\u001b[49m\u001b[43m,\u001b[49m\u001b[43m \u001b[49m\u001b[43msession\u001b[49m\u001b[43m,\u001b[49m\u001b[43m \u001b[49m\u001b[43moperation\u001b[49m\u001b[43m)\u001b[49m\n",
      "File \u001b[0;32m~/anaconda3/envs/rag-env/lib/python3.12/site-packages/pymongo/synchronous/bulk.py:593\u001b[0m, in \u001b[0;36m_Bulk.execute_command\u001b[0;34m(self, generator, write_concern, session, operation)\u001b[0m\n\u001b[1;32m    582\u001b[0m     \u001b[38;5;28mself\u001b[39m\u001b[38;5;241m.\u001b[39m_execute_command(\n\u001b[1;32m    583\u001b[0m         generator,\n\u001b[1;32m    584\u001b[0m         write_concern,\n\u001b[0;32m   (...)\u001b[0m\n\u001b[1;32m    589\u001b[0m         full_result,\n\u001b[1;32m    590\u001b[0m     )\n\u001b[1;32m    592\u001b[0m client \u001b[38;5;241m=\u001b[39m \u001b[38;5;28mself\u001b[39m\u001b[38;5;241m.\u001b[39mcollection\u001b[38;5;241m.\u001b[39mdatabase\u001b[38;5;241m.\u001b[39mclient\n\u001b[0;32m--> 593\u001b[0m _ \u001b[38;5;241m=\u001b[39m \u001b[43mclient\u001b[49m\u001b[38;5;241;43m.\u001b[39;49m\u001b[43m_retryable_write\u001b[49m\u001b[43m(\u001b[49m\n\u001b[1;32m    594\u001b[0m \u001b[43m    \u001b[49m\u001b[38;5;28;43mself\u001b[39;49m\u001b[38;5;241;43m.\u001b[39;49m\u001b[43mis_retryable\u001b[49m\u001b[43m,\u001b[49m\n\u001b[1;32m    595\u001b[0m \u001b[43m    \u001b[49m\u001b[43mretryable_bulk\u001b[49m\u001b[43m,\u001b[49m\n\u001b[1;32m    596\u001b[0m \u001b[43m    \u001b[49m\u001b[43msession\u001b[49m\u001b[43m,\u001b[49m\n\u001b[1;32m    597\u001b[0m \u001b[43m    \u001b[49m\u001b[43moperation\u001b[49m\u001b[43m,\u001b[49m\n\u001b[1;32m    598\u001b[0m \u001b[43m    \u001b[49m\u001b[43mbulk\u001b[49m\u001b[38;5;241;43m=\u001b[39;49m\u001b[38;5;28;43mself\u001b[39;49m\u001b[43m,\u001b[49m\u001b[43m  \u001b[49m\u001b[38;5;66;43;03m# type: ignore[arg-type]\u001b[39;49;00m\n\u001b[1;32m    599\u001b[0m \u001b[43m    \u001b[49m\u001b[43moperation_id\u001b[49m\u001b[38;5;241;43m=\u001b[39;49m\u001b[43mop_id\u001b[49m\u001b[43m,\u001b[49m\n\u001b[1;32m    600\u001b[0m \u001b[43m\u001b[49m\u001b[43m)\u001b[49m\n\u001b[1;32m    602\u001b[0m \u001b[38;5;28;01mif\u001b[39;00m full_result[\u001b[38;5;124m\"\u001b[39m\u001b[38;5;124mwriteErrors\u001b[39m\u001b[38;5;124m\"\u001b[39m] \u001b[38;5;129;01mor\u001b[39;00m full_result[\u001b[38;5;124m\"\u001b[39m\u001b[38;5;124mwriteConcernErrors\u001b[39m\u001b[38;5;124m\"\u001b[39m]:\n\u001b[1;32m    603\u001b[0m     _raise_bulk_write_error(full_result)\n",
      "File \u001b[0;32m~/anaconda3/envs/rag-env/lib/python3.12/site-packages/pymongo/synchronous/mongo_client.py:1898\u001b[0m, in \u001b[0;36mMongoClient._retryable_write\u001b[0;34m(self, retryable, func, session, operation, bulk, operation_id)\u001b[0m\n\u001b[1;32m   1884\u001b[0m \u001b[38;5;250m\u001b[39m\u001b[38;5;124;03m\"\"\"Execute an operation with consecutive retries if possible\u001b[39;00m\n\u001b[1;32m   1885\u001b[0m \n\u001b[1;32m   1886\u001b[0m \u001b[38;5;124;03mReturns func()'s return value on success. On error retries the same\u001b[39;00m\n\u001b[0;32m   (...)\u001b[0m\n\u001b[1;32m   1895\u001b[0m \u001b[38;5;124;03m:param bulk: bulk abstraction to execute operations in bulk, defaults to None\u001b[39;00m\n\u001b[1;32m   1896\u001b[0m \u001b[38;5;124;03m\"\"\"\u001b[39;00m\n\u001b[1;32m   1897\u001b[0m \u001b[38;5;28;01mwith\u001b[39;00m \u001b[38;5;28mself\u001b[39m\u001b[38;5;241m.\u001b[39m_tmp_session(session) \u001b[38;5;28;01mas\u001b[39;00m s:\n\u001b[0;32m-> 1898\u001b[0m     \u001b[38;5;28;01mreturn\u001b[39;00m \u001b[38;5;28;43mself\u001b[39;49m\u001b[38;5;241;43m.\u001b[39;49m\u001b[43m_retry_with_session\u001b[49m\u001b[43m(\u001b[49m\u001b[43mretryable\u001b[49m\u001b[43m,\u001b[49m\u001b[43m \u001b[49m\u001b[43mfunc\u001b[49m\u001b[43m,\u001b[49m\u001b[43m \u001b[49m\u001b[43ms\u001b[49m\u001b[43m,\u001b[49m\u001b[43m \u001b[49m\u001b[43mbulk\u001b[49m\u001b[43m,\u001b[49m\u001b[43m \u001b[49m\u001b[43moperation\u001b[49m\u001b[43m,\u001b[49m\u001b[43m \u001b[49m\u001b[43moperation_id\u001b[49m\u001b[43m)\u001b[49m\n",
      "File \u001b[0;32m~/anaconda3/envs/rag-env/lib/python3.12/site-packages/pymongo/synchronous/mongo_client.py:1784\u001b[0m, in \u001b[0;36mMongoClient._retry_with_session\u001b[0;34m(self, retryable, func, session, bulk, operation, operation_id)\u001b[0m\n\u001b[1;32m   1779\u001b[0m \u001b[38;5;66;03m# Ensure that the options supports retry_writes and there is a valid session not in\u001b[39;00m\n\u001b[1;32m   1780\u001b[0m \u001b[38;5;66;03m# transaction, otherwise, we will not support retry behavior for this txn.\u001b[39;00m\n\u001b[1;32m   1781\u001b[0m retryable \u001b[38;5;241m=\u001b[39m \u001b[38;5;28mbool\u001b[39m(\n\u001b[1;32m   1782\u001b[0m     retryable \u001b[38;5;129;01mand\u001b[39;00m \u001b[38;5;28mself\u001b[39m\u001b[38;5;241m.\u001b[39moptions\u001b[38;5;241m.\u001b[39mretry_writes \u001b[38;5;129;01mand\u001b[39;00m session \u001b[38;5;129;01mand\u001b[39;00m \u001b[38;5;129;01mnot\u001b[39;00m session\u001b[38;5;241m.\u001b[39min_transaction\n\u001b[1;32m   1783\u001b[0m )\n\u001b[0;32m-> 1784\u001b[0m \u001b[38;5;28;01mreturn\u001b[39;00m \u001b[38;5;28;43mself\u001b[39;49m\u001b[38;5;241;43m.\u001b[39;49m\u001b[43m_retry_internal\u001b[49m\u001b[43m(\u001b[49m\n\u001b[1;32m   1785\u001b[0m \u001b[43m    \u001b[49m\u001b[43mfunc\u001b[49m\u001b[38;5;241;43m=\u001b[39;49m\u001b[43mfunc\u001b[49m\u001b[43m,\u001b[49m\n\u001b[1;32m   1786\u001b[0m \u001b[43m    \u001b[49m\u001b[43msession\u001b[49m\u001b[38;5;241;43m=\u001b[39;49m\u001b[43msession\u001b[49m\u001b[43m,\u001b[49m\n\u001b[1;32m   1787\u001b[0m \u001b[43m    \u001b[49m\u001b[43mbulk\u001b[49m\u001b[38;5;241;43m=\u001b[39;49m\u001b[43mbulk\u001b[49m\u001b[43m,\u001b[49m\n\u001b[1;32m   1788\u001b[0m \u001b[43m    \u001b[49m\u001b[43moperation\u001b[49m\u001b[38;5;241;43m=\u001b[39;49m\u001b[43moperation\u001b[49m\u001b[43m,\u001b[49m\n\u001b[1;32m   1789\u001b[0m \u001b[43m    \u001b[49m\u001b[43mretryable\u001b[49m\u001b[38;5;241;43m=\u001b[39;49m\u001b[43mretryable\u001b[49m\u001b[43m,\u001b[49m\n\u001b[1;32m   1790\u001b[0m \u001b[43m    \u001b[49m\u001b[43moperation_id\u001b[49m\u001b[38;5;241;43m=\u001b[39;49m\u001b[43moperation_id\u001b[49m\u001b[43m,\u001b[49m\n\u001b[1;32m   1791\u001b[0m \u001b[43m\u001b[49m\u001b[43m)\u001b[49m\n",
      "File \u001b[0;32m~/anaconda3/envs/rag-env/lib/python3.12/site-packages/pymongo/_csot.py:119\u001b[0m, in \u001b[0;36mapply.<locals>.csot_wrapper\u001b[0;34m(self, *args, **kwargs)\u001b[0m\n\u001b[1;32m    117\u001b[0m         \u001b[38;5;28;01mwith\u001b[39;00m _TimeoutContext(timeout):\n\u001b[1;32m    118\u001b[0m             \u001b[38;5;28;01mreturn\u001b[39;00m func(\u001b[38;5;28mself\u001b[39m, \u001b[38;5;241m*\u001b[39margs, \u001b[38;5;241m*\u001b[39m\u001b[38;5;241m*\u001b[39mkwargs)\n\u001b[0;32m--> 119\u001b[0m \u001b[38;5;28;01mreturn\u001b[39;00m \u001b[43mfunc\u001b[49m\u001b[43m(\u001b[49m\u001b[38;5;28;43mself\u001b[39;49m\u001b[43m,\u001b[49m\u001b[43m \u001b[49m\u001b[38;5;241;43m*\u001b[39;49m\u001b[43margs\u001b[49m\u001b[43m,\u001b[49m\u001b[43m \u001b[49m\u001b[38;5;241;43m*\u001b[39;49m\u001b[38;5;241;43m*\u001b[39;49m\u001b[43mkwargs\u001b[49m\u001b[43m)\u001b[49m\n",
      "File \u001b[0;32m~/anaconda3/envs/rag-env/lib/python3.12/site-packages/pymongo/synchronous/mongo_client.py:1830\u001b[0m, in \u001b[0;36mMongoClient._retry_internal\u001b[0;34m(self, func, session, bulk, operation, is_read, address, read_pref, retryable, operation_id)\u001b[0m\n\u001b[1;32m   1793\u001b[0m \u001b[38;5;129m@_csot\u001b[39m\u001b[38;5;241m.\u001b[39mapply\n\u001b[1;32m   1794\u001b[0m \u001b[38;5;28;01mdef\u001b[39;00m \u001b[38;5;21m_retry_internal\u001b[39m(\n\u001b[1;32m   1795\u001b[0m     \u001b[38;5;28mself\u001b[39m,\n\u001b[0;32m   (...)\u001b[0m\n\u001b[1;32m   1804\u001b[0m     operation_id: Optional[\u001b[38;5;28mint\u001b[39m] \u001b[38;5;241m=\u001b[39m \u001b[38;5;28;01mNone\u001b[39;00m,\n\u001b[1;32m   1805\u001b[0m ) \u001b[38;5;241m-\u001b[39m\u001b[38;5;241m>\u001b[39m T:\n\u001b[1;32m   1806\u001b[0m \u001b[38;5;250m    \u001b[39m\u001b[38;5;124;03m\"\"\"Internal retryable helper for all client transactions.\u001b[39;00m\n\u001b[1;32m   1807\u001b[0m \n\u001b[1;32m   1808\u001b[0m \u001b[38;5;124;03m    :param func: Callback function we want to retry\u001b[39;00m\n\u001b[0;32m   (...)\u001b[0m\n\u001b[1;32m   1817\u001b[0m \u001b[38;5;124;03m    :return: Output of the calling func()\u001b[39;00m\n\u001b[1;32m   1818\u001b[0m \u001b[38;5;124;03m    \"\"\"\u001b[39;00m\n\u001b[1;32m   1819\u001b[0m     \u001b[38;5;28;01mreturn\u001b[39;00m \u001b[43m_ClientConnectionRetryable\u001b[49m\u001b[43m(\u001b[49m\n\u001b[1;32m   1820\u001b[0m \u001b[43m        \u001b[49m\u001b[43mmongo_client\u001b[49m\u001b[38;5;241;43m=\u001b[39;49m\u001b[38;5;28;43mself\u001b[39;49m\u001b[43m,\u001b[49m\n\u001b[1;32m   1821\u001b[0m \u001b[43m        \u001b[49m\u001b[43mfunc\u001b[49m\u001b[38;5;241;43m=\u001b[39;49m\u001b[43mfunc\u001b[49m\u001b[43m,\u001b[49m\n\u001b[1;32m   1822\u001b[0m \u001b[43m        \u001b[49m\u001b[43mbulk\u001b[49m\u001b[38;5;241;43m=\u001b[39;49m\u001b[43mbulk\u001b[49m\u001b[43m,\u001b[49m\n\u001b[1;32m   1823\u001b[0m \u001b[43m        \u001b[49m\u001b[43moperation\u001b[49m\u001b[38;5;241;43m=\u001b[39;49m\u001b[43moperation\u001b[49m\u001b[43m,\u001b[49m\n\u001b[1;32m   1824\u001b[0m \u001b[43m        \u001b[49m\u001b[43mis_read\u001b[49m\u001b[38;5;241;43m=\u001b[39;49m\u001b[43mis_read\u001b[49m\u001b[43m,\u001b[49m\n\u001b[1;32m   1825\u001b[0m \u001b[43m        \u001b[49m\u001b[43msession\u001b[49m\u001b[38;5;241;43m=\u001b[39;49m\u001b[43msession\u001b[49m\u001b[43m,\u001b[49m\n\u001b[1;32m   1826\u001b[0m \u001b[43m        \u001b[49m\u001b[43mread_pref\u001b[49m\u001b[38;5;241;43m=\u001b[39;49m\u001b[43mread_pref\u001b[49m\u001b[43m,\u001b[49m\n\u001b[1;32m   1827\u001b[0m \u001b[43m        \u001b[49m\u001b[43maddress\u001b[49m\u001b[38;5;241;43m=\u001b[39;49m\u001b[43maddress\u001b[49m\u001b[43m,\u001b[49m\n\u001b[1;32m   1828\u001b[0m \u001b[43m        \u001b[49m\u001b[43mretryable\u001b[49m\u001b[38;5;241;43m=\u001b[39;49m\u001b[43mretryable\u001b[49m\u001b[43m,\u001b[49m\n\u001b[1;32m   1829\u001b[0m \u001b[43m        \u001b[49m\u001b[43moperation_id\u001b[49m\u001b[38;5;241;43m=\u001b[39;49m\u001b[43moperation_id\u001b[49m\u001b[43m,\u001b[49m\n\u001b[0;32m-> 1830\u001b[0m \u001b[43m    \u001b[49m\u001b[43m)\u001b[49m\u001b[38;5;241;43m.\u001b[39;49m\u001b[43mrun\u001b[49m\u001b[43m(\u001b[49m\u001b[43m)\u001b[49m\n",
      "File \u001b[0;32m~/anaconda3/envs/rag-env/lib/python3.12/site-packages/pymongo/synchronous/mongo_client.py:2554\u001b[0m, in \u001b[0;36m_ClientConnectionRetryable.run\u001b[0;34m(self)\u001b[0m\n\u001b[1;32m   2552\u001b[0m \u001b[38;5;28mself\u001b[39m\u001b[38;5;241m.\u001b[39m_check_last_error(check_csot\u001b[38;5;241m=\u001b[39m\u001b[38;5;28;01mTrue\u001b[39;00m)\n\u001b[1;32m   2553\u001b[0m \u001b[38;5;28;01mtry\u001b[39;00m:\n\u001b[0;32m-> 2554\u001b[0m     \u001b[38;5;28;01mreturn\u001b[39;00m \u001b[38;5;28mself\u001b[39m\u001b[38;5;241m.\u001b[39m_read() \u001b[38;5;28;01mif\u001b[39;00m \u001b[38;5;28mself\u001b[39m\u001b[38;5;241m.\u001b[39m_is_read \u001b[38;5;28;01melse\u001b[39;00m \u001b[38;5;28;43mself\u001b[39;49m\u001b[38;5;241;43m.\u001b[39;49m\u001b[43m_write\u001b[49m\u001b[43m(\u001b[49m\u001b[43m)\u001b[49m\n\u001b[1;32m   2555\u001b[0m \u001b[38;5;28;01mexcept\u001b[39;00m ServerSelectionTimeoutError:\n\u001b[1;32m   2556\u001b[0m     \u001b[38;5;66;03m# The application may think the write was never attempted\u001b[39;00m\n\u001b[1;32m   2557\u001b[0m     \u001b[38;5;66;03m# if we raise ServerSelectionTimeoutError on the retry\u001b[39;00m\n\u001b[1;32m   2558\u001b[0m     \u001b[38;5;66;03m# attempt. Raise the original exception instead.\u001b[39;00m\n\u001b[1;32m   2559\u001b[0m     \u001b[38;5;28mself\u001b[39m\u001b[38;5;241m.\u001b[39m_check_last_error()\n",
      "File \u001b[0;32m~/anaconda3/envs/rag-env/lib/python3.12/site-packages/pymongo/synchronous/mongo_client.py:2676\u001b[0m, in \u001b[0;36m_ClientConnectionRetryable._write\u001b[0;34m(self)\u001b[0m\n\u001b[1;32m   2674\u001b[0m             \u001b[38;5;28mself\u001b[39m\u001b[38;5;241m.\u001b[39m_check_last_error()\n\u001b[1;32m   2675\u001b[0m             \u001b[38;5;28mself\u001b[39m\u001b[38;5;241m.\u001b[39m_retryable \u001b[38;5;241m=\u001b[39m \u001b[38;5;28;01mFalse\u001b[39;00m\n\u001b[0;32m-> 2676\u001b[0m         \u001b[38;5;28;01mreturn\u001b[39;00m \u001b[38;5;28;43mself\u001b[39;49m\u001b[38;5;241;43m.\u001b[39;49m\u001b[43m_func\u001b[49m\u001b[43m(\u001b[49m\u001b[38;5;28;43mself\u001b[39;49m\u001b[38;5;241;43m.\u001b[39;49m\u001b[43m_session\u001b[49m\u001b[43m,\u001b[49m\u001b[43m \u001b[49m\u001b[43mconn\u001b[49m\u001b[43m,\u001b[49m\u001b[43m \u001b[49m\u001b[38;5;28;43mself\u001b[39;49m\u001b[38;5;241;43m.\u001b[39;49m\u001b[43m_retryable\u001b[49m\u001b[43m)\u001b[49m  \u001b[38;5;66;03m# type: ignore\u001b[39;00m\n\u001b[1;32m   2677\u001b[0m \u001b[38;5;28;01mexcept\u001b[39;00m PyMongoError \u001b[38;5;28;01mas\u001b[39;00m exc:\n\u001b[1;32m   2678\u001b[0m     \u001b[38;5;28;01mif\u001b[39;00m \u001b[38;5;129;01mnot\u001b[39;00m \u001b[38;5;28mself\u001b[39m\u001b[38;5;241m.\u001b[39m_retryable:\n",
      "File \u001b[0;32m~/anaconda3/envs/rag-env/lib/python3.12/site-packages/pymongo/synchronous/bulk.py:582\u001b[0m, in \u001b[0;36m_Bulk.execute_command.<locals>.retryable_bulk\u001b[0;34m(session, conn, retryable)\u001b[0m\n\u001b[1;32m    579\u001b[0m \u001b[38;5;28;01mdef\u001b[39;00m \u001b[38;5;21mretryable_bulk\u001b[39m(\n\u001b[1;32m    580\u001b[0m     session: Optional[ClientSession], conn: Connection, retryable: \u001b[38;5;28mbool\u001b[39m\n\u001b[1;32m    581\u001b[0m ) \u001b[38;5;241m-\u001b[39m\u001b[38;5;241m>\u001b[39m \u001b[38;5;28;01mNone\u001b[39;00m:\n\u001b[0;32m--> 582\u001b[0m     \u001b[38;5;28;43mself\u001b[39;49m\u001b[38;5;241;43m.\u001b[39;49m\u001b[43m_execute_command\u001b[49m\u001b[43m(\u001b[49m\n\u001b[1;32m    583\u001b[0m \u001b[43m        \u001b[49m\u001b[43mgenerator\u001b[49m\u001b[43m,\u001b[49m\n\u001b[1;32m    584\u001b[0m \u001b[43m        \u001b[49m\u001b[43mwrite_concern\u001b[49m\u001b[43m,\u001b[49m\n\u001b[1;32m    585\u001b[0m \u001b[43m        \u001b[49m\u001b[43msession\u001b[49m\u001b[43m,\u001b[49m\n\u001b[1;32m    586\u001b[0m \u001b[43m        \u001b[49m\u001b[43mconn\u001b[49m\u001b[43m,\u001b[49m\n\u001b[1;32m    587\u001b[0m \u001b[43m        \u001b[49m\u001b[43mop_id\u001b[49m\u001b[43m,\u001b[49m\n\u001b[1;32m    588\u001b[0m \u001b[43m        \u001b[49m\u001b[43mretryable\u001b[49m\u001b[43m,\u001b[49m\n\u001b[1;32m    589\u001b[0m \u001b[43m        \u001b[49m\u001b[43mfull_result\u001b[49m\u001b[43m,\u001b[49m\n\u001b[1;32m    590\u001b[0m \u001b[43m    \u001b[49m\u001b[43m)\u001b[49m\n",
      "File \u001b[0;32m~/anaconda3/envs/rag-env/lib/python3.12/site-packages/pymongo/synchronous/bulk.py:527\u001b[0m, in \u001b[0;36m_Bulk._execute_command\u001b[0;34m(self, generator, write_concern, session, conn, op_id, retryable, full_result, final_write_concern)\u001b[0m\n\u001b[1;32m    525\u001b[0m \u001b[38;5;66;03m# Run as many ops as possible in one command.\u001b[39;00m\n\u001b[1;32m    526\u001b[0m \u001b[38;5;28;01mif\u001b[39;00m write_concern\u001b[38;5;241m.\u001b[39macknowledged:\n\u001b[0;32m--> 527\u001b[0m     result, to_send \u001b[38;5;241m=\u001b[39m \u001b[38;5;28;43mself\u001b[39;49m\u001b[38;5;241;43m.\u001b[39;49m\u001b[43m_execute_batch\u001b[49m\u001b[43m(\u001b[49m\u001b[43mbwc\u001b[49m\u001b[43m,\u001b[49m\u001b[43m \u001b[49m\u001b[43mcmd\u001b[49m\u001b[43m,\u001b[49m\u001b[43m \u001b[49m\u001b[43mops\u001b[49m\u001b[43m,\u001b[49m\u001b[43m \u001b[49m\u001b[43mclient\u001b[49m\u001b[43m)\u001b[49m\n\u001b[1;32m    529\u001b[0m     \u001b[38;5;66;03m# Retryable writeConcernErrors halt the execution of this run.\u001b[39;00m\n\u001b[1;32m    530\u001b[0m     wce \u001b[38;5;241m=\u001b[39m result\u001b[38;5;241m.\u001b[39mget(\u001b[38;5;124m\"\u001b[39m\u001b[38;5;124mwriteConcernError\u001b[39m\u001b[38;5;124m\"\u001b[39m, {})\n",
      "File \u001b[0;32m~/anaconda3/envs/rag-env/lib/python3.12/site-packages/pymongo/synchronous/bulk.py:451\u001b[0m, in \u001b[0;36m_Bulk._execute_batch\u001b[0;34m(self, bwc, cmd, ops, client)\u001b[0m\n\u001b[1;32m    449\u001b[0m \u001b[38;5;28;01melse\u001b[39;00m:\n\u001b[1;32m    450\u001b[0m     request_id, msg, to_send \u001b[38;5;241m=\u001b[39m bwc\u001b[38;5;241m.\u001b[39mbatch_command(cmd, ops)\n\u001b[0;32m--> 451\u001b[0m     result \u001b[38;5;241m=\u001b[39m \u001b[38;5;28;43mself\u001b[39;49m\u001b[38;5;241;43m.\u001b[39;49m\u001b[43mwrite_command\u001b[49m\u001b[43m(\u001b[49m\u001b[43mbwc\u001b[49m\u001b[43m,\u001b[49m\u001b[43m \u001b[49m\u001b[43mcmd\u001b[49m\u001b[43m,\u001b[49m\u001b[43m \u001b[49m\u001b[43mrequest_id\u001b[49m\u001b[43m,\u001b[49m\u001b[43m \u001b[49m\u001b[43mmsg\u001b[49m\u001b[43m,\u001b[49m\u001b[43m \u001b[49m\u001b[43mto_send\u001b[49m\u001b[43m,\u001b[49m\u001b[43m \u001b[49m\u001b[43mclient\u001b[49m\u001b[43m)\u001b[49m  \u001b[38;5;66;03m# type: ignore[arg-type]\u001b[39;00m\n\u001b[1;32m    453\u001b[0m \u001b[38;5;28;01mreturn\u001b[39;00m result, to_send\n",
      "File \u001b[0;32m~/anaconda3/envs/rag-env/lib/python3.12/site-packages/pymongo/synchronous/helpers.py:45\u001b[0m, in \u001b[0;36m_handle_reauth.<locals>.inner\u001b[0;34m(*args, **kwargs)\u001b[0m\n\u001b[1;32m     42\u001b[0m \u001b[38;5;28;01mfrom\u001b[39;00m \u001b[38;5;21;01mpymongo\u001b[39;00m\u001b[38;5;21;01m.\u001b[39;00m\u001b[38;5;21;01msynchronous\u001b[39;00m\u001b[38;5;21;01m.\u001b[39;00m\u001b[38;5;21;01mpool\u001b[39;00m \u001b[38;5;28;01mimport\u001b[39;00m Connection\n\u001b[1;32m     44\u001b[0m \u001b[38;5;28;01mtry\u001b[39;00m:\n\u001b[0;32m---> 45\u001b[0m     \u001b[38;5;28;01mreturn\u001b[39;00m \u001b[43mfunc\u001b[49m\u001b[43m(\u001b[49m\u001b[38;5;241;43m*\u001b[39;49m\u001b[43margs\u001b[49m\u001b[43m,\u001b[49m\u001b[43m \u001b[49m\u001b[38;5;241;43m*\u001b[39;49m\u001b[38;5;241;43m*\u001b[39;49m\u001b[43mkwargs\u001b[49m\u001b[43m)\u001b[49m\n\u001b[1;32m     46\u001b[0m \u001b[38;5;28;01mexcept\u001b[39;00m OperationFailure \u001b[38;5;28;01mas\u001b[39;00m exc:\n\u001b[1;32m     47\u001b[0m     \u001b[38;5;28;01mif\u001b[39;00m no_reauth:\n",
      "File \u001b[0;32m~/anaconda3/envs/rag-env/lib/python3.12/site-packages/pymongo/synchronous/bulk.py:263\u001b[0m, in \u001b[0;36m_Bulk.write_command\u001b[0;34m(self, bwc, cmd, request_id, msg, docs, client)\u001b[0m\n\u001b[1;32m    261\u001b[0m     bwc\u001b[38;5;241m.\u001b[39m_start(cmd, request_id, docs)\n\u001b[1;32m    262\u001b[0m \u001b[38;5;28;01mtry\u001b[39;00m:\n\u001b[0;32m--> 263\u001b[0m     reply \u001b[38;5;241m=\u001b[39m \u001b[43mbwc\u001b[49m\u001b[38;5;241;43m.\u001b[39;49m\u001b[43mconn\u001b[49m\u001b[38;5;241;43m.\u001b[39;49m\u001b[43mwrite_command\u001b[49m\u001b[43m(\u001b[49m\u001b[43mrequest_id\u001b[49m\u001b[43m,\u001b[49m\u001b[43m \u001b[49m\u001b[43mmsg\u001b[49m\u001b[43m,\u001b[49m\u001b[43m \u001b[49m\u001b[43mbwc\u001b[49m\u001b[38;5;241;43m.\u001b[39;49m\u001b[43mcodec\u001b[49m\u001b[43m)\u001b[49m  \u001b[38;5;66;03m# type: ignore[misc]\u001b[39;00m\n\u001b[1;32m    264\u001b[0m     duration \u001b[38;5;241m=\u001b[39m datetime\u001b[38;5;241m.\u001b[39mdatetime\u001b[38;5;241m.\u001b[39mnow() \u001b[38;5;241m-\u001b[39m bwc\u001b[38;5;241m.\u001b[39mstart_time\n\u001b[1;32m    265\u001b[0m     \u001b[38;5;28;01mif\u001b[39;00m _COMMAND_LOGGER\u001b[38;5;241m.\u001b[39misEnabledFor(logging\u001b[38;5;241m.\u001b[39mDEBUG):\n",
      "File \u001b[0;32m~/anaconda3/envs/rag-env/lib/python3.12/site-packages/pymongo/synchronous/pool.py:628\u001b[0m, in \u001b[0;36mConnection.write_command\u001b[0;34m(self, request_id, msg, codec_options)\u001b[0m\n\u001b[1;32m    625\u001b[0m result \u001b[38;5;241m=\u001b[39m reply\u001b[38;5;241m.\u001b[39mcommand_response(codec_options)\n\u001b[1;32m    627\u001b[0m \u001b[38;5;66;03m# Raises NotPrimaryError or OperationFailure.\u001b[39;00m\n\u001b[0;32m--> 628\u001b[0m \u001b[43mhelpers_shared\u001b[49m\u001b[38;5;241;43m.\u001b[39;49m\u001b[43m_check_command_response\u001b[49m\u001b[43m(\u001b[49m\u001b[43mresult\u001b[49m\u001b[43m,\u001b[49m\u001b[43m \u001b[49m\u001b[38;5;28;43mself\u001b[39;49m\u001b[38;5;241;43m.\u001b[39;49m\u001b[43mmax_wire_version\u001b[49m\u001b[43m)\u001b[49m\n\u001b[1;32m    629\u001b[0m \u001b[38;5;28;01mreturn\u001b[39;00m result\n",
      "File \u001b[0;32m~/anaconda3/envs/rag-env/lib/python3.12/site-packages/pymongo/helpers_shared.py:247\u001b[0m, in \u001b[0;36m_check_command_response\u001b[0;34m(response, max_wire_version, allowable_errors, parse_write_concern_error)\u001b[0m\n\u001b[1;32m    244\u001b[0m \u001b[38;5;28;01melif\u001b[39;00m code \u001b[38;5;241m==\u001b[39m \u001b[38;5;241m43\u001b[39m:\n\u001b[1;32m    245\u001b[0m     \u001b[38;5;28;01mraise\u001b[39;00m CursorNotFound(errmsg, code, response, max_wire_version)\n\u001b[0;32m--> 247\u001b[0m \u001b[38;5;28;01mraise\u001b[39;00m OperationFailure(errmsg, code, response, max_wire_version)\n",
      "\u001b[0;31mOperationFailure\u001b[0m: you are over your space quota, using 518 MB of 512 MB, full error: {'ok': 0, 'errmsg': 'you are over your space quota, using 518 MB of 512 MB', 'code': 8000, 'codeName': 'AtlasError'}"
     ]
    }
   ],
   "source": [
    "from mongodb_connection import MongoDB\n",
    "mongodb = MongoDB(username, password, cluster_url)\n",
    "\n",
    "collection = mongodb.collection(dbname='hasaki_data', collection_name='product_pages')\n",
    "\n",
    "mongodb.upsert_data(product_pages, collection, unique_field='pid')"
   ]
  },
  {
   "cell_type": "code",
   "execution_count": null,
   "metadata": {},
   "outputs": [],
   "source": []
  }
 ],
 "metadata": {
  "kernelspec": {
   "display_name": "rag-env",
   "language": "python",
   "name": "python3"
  },
  "language_info": {
   "codemirror_mode": {
    "name": "ipython",
    "version": 3
   },
   "file_extension": ".py",
   "mimetype": "text/x-python",
   "name": "python",
   "nbconvert_exporter": "python",
   "pygments_lexer": "ipython3",
   "version": "3.12.7"
  }
 },
 "nbformat": 4,
 "nbformat_minor": 2
}
