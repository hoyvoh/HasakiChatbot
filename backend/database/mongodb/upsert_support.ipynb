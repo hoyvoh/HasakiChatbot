{
 "cells": [
  {
   "cell_type": "code",
   "execution_count": 1,
   "metadata": {},
   "outputs": [],
   "source": [
    "import pandas as pd\n",
    "import os\n",
    "from dotenv import load_dotenv\n",
    "load_dotenv()\n",
    "USERNAME = os.getenv('USERNAME')\n",
    "PASSWORD = os.getenv('PASSWORD')\n",
    "CLUSTER_URL = os.getenv('CLUSTER_URL')"
   ]
  },
  {
   "cell_type": "code",
   "execution_count": 2,
   "metadata": {},
   "outputs": [
    {
     "data": {
      "text/html": [
       "<div>\n",
       "<style scoped>\n",
       "    .dataframe tbody tr th:only-of-type {\n",
       "        vertical-align: middle;\n",
       "    }\n",
       "\n",
       "    .dataframe tbody tr th {\n",
       "        vertical-align: top;\n",
       "    }\n",
       "\n",
       "    .dataframe thead th {\n",
       "        text-align: right;\n",
       "    }\n",
       "</style>\n",
       "<table border=\"1\" class=\"dataframe\">\n",
       "  <thead>\n",
       "    <tr style=\"text-align: right;\">\n",
       "      <th></th>\n",
       "      <th>Unnamed: 0</th>\n",
       "      <th>title</th>\n",
       "      <th>link</th>\n",
       "      <th>content</th>\n",
       "    </tr>\n",
       "  </thead>\n",
       "  <tbody>\n",
       "    <tr>\n",
       "      <th>0</th>\n",
       "      <td>0</td>\n",
       "      <td>Đăng ký thành viên Hasaki như thế nào?</td>\n",
       "      <td>https://hotro.hasaki.vn/tai-khoan.html</td>\n",
       "      <td>Quý khách vui lòng nhấn vào nút “Đăng nhập/Đăn...</td>\n",
       "    </tr>\n",
       "    <tr>\n",
       "      <th>1</th>\n",
       "      <td>1</td>\n",
       "      <td>Tại sao tôi không thể đăng nhập vào tài khoản ...</td>\n",
       "      <td>https://hotro.hasaki.vn/tai-khoan.html</td>\n",
       "      <td>Quý khách cần kiểm tra kiểu gõ, phím Caps Lock...</td>\n",
       "    </tr>\n",
       "    <tr>\n",
       "      <th>2</th>\n",
       "      <td>2</td>\n",
       "      <td>Tôi muốn thay đổi thông tin tài khoản thành vi...</td>\n",
       "      <td>https://hotro.hasaki.vn/tai-khoan.html</td>\n",
       "      <td>Để thay đổi thông tin cá nhân, quý khách cần đ...</td>\n",
       "    </tr>\n",
       "    <tr>\n",
       "      <th>3</th>\n",
       "      <td>3</td>\n",
       "      <td>Tôi có thể sử dụng chung tài khoản với người k...</td>\n",
       "      <td>https://hotro.hasaki.vn/tai-khoan.html</td>\n",
       "      <td>Không nên sử dụng chung tài khoản vì điều này ...</td>\n",
       "    </tr>\n",
       "    <tr>\n",
       "      <th>4</th>\n",
       "      <td>4</td>\n",
       "      <td>Đăng ký thành viên tại Hasaki.vn sẽ giúp ích g...</td>\n",
       "      <td>https://hotro.hasaki.vn/tai-khoan.html</td>\n",
       "      <td>Việc đăng ký tài khoản giúp khách hàng trở thà...</td>\n",
       "    </tr>\n",
       "  </tbody>\n",
       "</table>\n",
       "</div>"
      ],
      "text/plain": [
       "   Unnamed: 0                                              title  \\\n",
       "0           0             Đăng ký thành viên Hasaki như thế nào?   \n",
       "1           1  Tại sao tôi không thể đăng nhập vào tài khoản ...   \n",
       "2           2  Tôi muốn thay đổi thông tin tài khoản thành vi...   \n",
       "3           3  Tôi có thể sử dụng chung tài khoản với người k...   \n",
       "4           4  Đăng ký thành viên tại Hasaki.vn sẽ giúp ích g...   \n",
       "\n",
       "                                     link  \\\n",
       "0  https://hotro.hasaki.vn/tai-khoan.html   \n",
       "1  https://hotro.hasaki.vn/tai-khoan.html   \n",
       "2  https://hotro.hasaki.vn/tai-khoan.html   \n",
       "3  https://hotro.hasaki.vn/tai-khoan.html   \n",
       "4  https://hotro.hasaki.vn/tai-khoan.html   \n",
       "\n",
       "                                             content  \n",
       "0  Quý khách vui lòng nhấn vào nút “Đăng nhập/Đăn...  \n",
       "1  Quý khách cần kiểm tra kiểu gõ, phím Caps Lock...  \n",
       "2  Để thay đổi thông tin cá nhân, quý khách cần đ...  \n",
       "3  Không nên sử dụng chung tài khoản vì điều này ...  \n",
       "4  Việc đăng ký tài khoản giúp khách hàng trở thà...  "
      ]
     },
     "execution_count": 2,
     "metadata": {},
     "output_type": "execute_result"
    }
   ],
   "source": [
    "df = pd.read_csv(\"supportx.csv\")\n",
    "df.head()"
   ]
  },
  {
   "cell_type": "code",
   "execution_count": 4,
   "metadata": {},
   "outputs": [],
   "source": [
    "from pymongo import MongoClient"
   ]
  },
  {
   "cell_type": "code",
   "execution_count": 5,
   "metadata": {},
   "outputs": [],
   "source": [
    "client = MongoClient(f\"mongodb+srv://{USERNAME}:{PASSWORD}@{CLUSTER_URL}/test?retryWrites=true&w=majority\".format(USERNAME, PASSWORD, CLUSTER_URL))"
   ]
  },
  {
   "cell_type": "code",
   "execution_count": 6,
   "metadata": {},
   "outputs": [],
   "source": [
    "db = client[\"hasaki_data_v2\"]"
   ]
  },
  {
   "cell_type": "code",
   "execution_count": 7,
   "metadata": {},
   "outputs": [],
   "source": [
    "collection = db[\"supports\"]"
   ]
  },
  {
   "cell_type": "code",
   "execution_count": 8,
   "metadata": {},
   "outputs": [],
   "source": [
    "data = df.to_dict(orient=\"records\")"
   ]
  },
  {
   "cell_type": "code",
   "execution_count": 10,
   "metadata": {},
   "outputs": [],
   "source": [
    "result = collection.insert_many(data)"
   ]
  },
  {
   "cell_type": "code",
   "execution_count": 19,
   "metadata": {},
   "outputs": [
    {
     "data": {
      "text/plain": [
       "['Tài khoản',\n",
       " 'Đặt hàng trực tuyến',\n",
       " 'Quy cách đóng gói sản phẩm',\n",
       " 'Vận chuyển 2H',\n",
       " 'Phí vận chuyển',\n",
       " 'Đổi trả và hoàn tiền',\n",
       " 'Dịch vụ Spa',\n",
       " 'Tuyển dụng',\n",
       " 'Hướng dẫn đăng ký thành viên Hasaki.',\n",
       " 'Có cần đặt lịch trước khi đến spa?',\n",
       " 'Tại sao không thể đăng nhập vào tài khoản?',\n",
       " 'Cách đặt dịch vụ.',\n",
       " 'Sử dụng chung tài khoản với người khác có được không?',\n",
       " 'Khám da tại spa Hasaki có tốn phí không?',\n",
       " 'Giới thiệu về Hasaki',\n",
       " 'Khách hàng thân thiết',\n",
       " 'Hướng dẫn đổi quà',\n",
       " 'Hướng dẫn mua hàng',\n",
       " 'Hướng dẫn đặt hàng 2H',\n",
       " 'Hướng dẫn thanh toán trực tuyến',\n",
       " 'Thẻ quà tặng Got It',\n",
       " 'Phiếu mua hàng',\n",
       " 'Chính sách vận chuyển giao nhận',\n",
       " 'Điều khoản sử dụng',\n",
       " 'Chính sách bảo mật',\n",
       " 'Hướng dẫn tải và sử dụng App Hasaki']"
      ]
     },
     "execution_count": 19,
     "metadata": {},
     "output_type": "execute_result"
    }
   ],
   "source": [
    "list(df['title'].unique())"
   ]
  },
  {
   "cell_type": "code",
   "execution_count": null,
   "metadata": {},
   "outputs": [],
   "source": []
  }
 ],
 "metadata": {
  "kernelspec": {
   "display_name": "sudo-env",
   "language": "python",
   "name": "python3"
  },
  "language_info": {
   "codemirror_mode": {
    "name": "ipython",
    "version": 3
   },
   "file_extension": ".py",
   "mimetype": "text/x-python",
   "name": "python",
   "nbconvert_exporter": "python",
   "pygments_lexer": "ipython3",
   "version": "3.12.4"
  }
 },
 "nbformat": 4,
 "nbformat_minor": 2
}
