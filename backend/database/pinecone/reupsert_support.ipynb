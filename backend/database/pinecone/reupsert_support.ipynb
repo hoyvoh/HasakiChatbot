{
 "cells": [
  {
   "cell_type": "code",
   "execution_count": 9,
   "metadata": {},
   "outputs": [],
   "source": [
    "import pandas as pd\n",
    "import os\n",
    "import sys\n",
    "from dotenv import load_dotenv\n",
    "\n",
    "# Load environment variables from the .env file\n",
    "load_dotenv()\n",
    "\n",
    "# Access the API key\n",
    "PINECONE_API_KEY = os.getenv(\"PINECONE_API_KEY\")\n",
    "EMBED_DIM = 3072"
   ]
  },
  {
   "cell_type": "code",
   "execution_count": 10,
   "metadata": {},
   "outputs": [],
   "source": [
    "df = pd.read_csv('supportx.csv')"
   ]
  },
  {
   "cell_type": "code",
   "execution_count": 12,
   "metadata": {},
   "outputs": [],
   "source": [
    "df = df.drop(columns=['Unnamed: 0'])"
   ]
  },
  {
   "cell_type": "code",
   "execution_count": 13,
   "metadata": {},
   "outputs": [
    {
     "data": {
      "text/html": [
       "<div>\n",
       "<style scoped>\n",
       "    .dataframe tbody tr th:only-of-type {\n",
       "        vertical-align: middle;\n",
       "    }\n",
       "\n",
       "    .dataframe tbody tr th {\n",
       "        vertical-align: top;\n",
       "    }\n",
       "\n",
       "    .dataframe thead th {\n",
       "        text-align: right;\n",
       "    }\n",
       "</style>\n",
       "<table border=\"1\" class=\"dataframe\">\n",
       "  <thead>\n",
       "    <tr style=\"text-align: right;\">\n",
       "      <th></th>\n",
       "      <th>title</th>\n",
       "      <th>link</th>\n",
       "      <th>content</th>\n",
       "    </tr>\n",
       "  </thead>\n",
       "  <tbody>\n",
       "    <tr>\n",
       "      <th>0</th>\n",
       "      <td>Đăng ký thành viên Hasaki như thế nào?</td>\n",
       "      <td>https://hotro.hasaki.vn/tai-khoan.html</td>\n",
       "      <td>Quý khách vui lòng nhấn vào nút “Đăng nhập/Đăn...</td>\n",
       "    </tr>\n",
       "    <tr>\n",
       "      <th>1</th>\n",
       "      <td>Tại sao tôi không thể đăng nhập vào tài khoản ...</td>\n",
       "      <td>https://hotro.hasaki.vn/tai-khoan.html</td>\n",
       "      <td>Quý khách cần kiểm tra kiểu gõ, phím Caps Lock...</td>\n",
       "    </tr>\n",
       "    <tr>\n",
       "      <th>2</th>\n",
       "      <td>Tôi muốn thay đổi thông tin tài khoản thành vi...</td>\n",
       "      <td>https://hotro.hasaki.vn/tai-khoan.html</td>\n",
       "      <td>Để thay đổi thông tin cá nhân, quý khách cần đ...</td>\n",
       "    </tr>\n",
       "    <tr>\n",
       "      <th>3</th>\n",
       "      <td>Tôi có thể sử dụng chung tài khoản với người k...</td>\n",
       "      <td>https://hotro.hasaki.vn/tai-khoan.html</td>\n",
       "      <td>Không nên sử dụng chung tài khoản vì điều này ...</td>\n",
       "    </tr>\n",
       "    <tr>\n",
       "      <th>4</th>\n",
       "      <td>Đăng ký thành viên tại Hasaki.vn sẽ giúp ích g...</td>\n",
       "      <td>https://hotro.hasaki.vn/tai-khoan.html</td>\n",
       "      <td>Việc đăng ký tài khoản giúp khách hàng trở thà...</td>\n",
       "    </tr>\n",
       "  </tbody>\n",
       "</table>\n",
       "</div>"
      ],
      "text/plain": [
       "                                               title  \\\n",
       "0             Đăng ký thành viên Hasaki như thế nào?   \n",
       "1  Tại sao tôi không thể đăng nhập vào tài khoản ...   \n",
       "2  Tôi muốn thay đổi thông tin tài khoản thành vi...   \n",
       "3  Tôi có thể sử dụng chung tài khoản với người k...   \n",
       "4  Đăng ký thành viên tại Hasaki.vn sẽ giúp ích g...   \n",
       "\n",
       "                                     link  \\\n",
       "0  https://hotro.hasaki.vn/tai-khoan.html   \n",
       "1  https://hotro.hasaki.vn/tai-khoan.html   \n",
       "2  https://hotro.hasaki.vn/tai-khoan.html   \n",
       "3  https://hotro.hasaki.vn/tai-khoan.html   \n",
       "4  https://hotro.hasaki.vn/tai-khoan.html   \n",
       "\n",
       "                                             content  \n",
       "0  Quý khách vui lòng nhấn vào nút “Đăng nhập/Đăn...  \n",
       "1  Quý khách cần kiểm tra kiểu gõ, phím Caps Lock...  \n",
       "2  Để thay đổi thông tin cá nhân, quý khách cần đ...  \n",
       "3  Không nên sử dụng chung tài khoản vì điều này ...  \n",
       "4  Việc đăng ký tài khoản giúp khách hàng trở thà...  "
      ]
     },
     "execution_count": 13,
     "metadata": {},
     "output_type": "execute_result"
    }
   ],
   "source": [
    "df.head()"
   ]
  },
  {
   "cell_type": "code",
   "execution_count": 15,
   "metadata": {},
   "outputs": [],
   "source": [
    "from pinecone_connection import PineConeDB\n",
    "\n",
    "hasaki_index = PineConeDB(PINECONE_API_KEY).pc.Index('hasaki-index-v3')"
   ]
  },
  {
   "cell_type": "code",
   "execution_count": 16,
   "metadata": {},
   "outputs": [],
   "source": [
    "from pc_utils import create_vector_emb"
   ]
  },
  {
   "cell_type": "code",
   "execution_count": 17,
   "metadata": {},
   "outputs": [],
   "source": [
    "df['vector'] = df['title'].apply(lambda text: create_vector_emb(text))"
   ]
  },
  {
   "cell_type": "code",
   "execution_count": 18,
   "metadata": {},
   "outputs": [
    {
     "data": {
      "text/html": [
       "<div>\n",
       "<style scoped>\n",
       "    .dataframe tbody tr th:only-of-type {\n",
       "        vertical-align: middle;\n",
       "    }\n",
       "\n",
       "    .dataframe tbody tr th {\n",
       "        vertical-align: top;\n",
       "    }\n",
       "\n",
       "    .dataframe thead th {\n",
       "        text-align: right;\n",
       "    }\n",
       "</style>\n",
       "<table border=\"1\" class=\"dataframe\">\n",
       "  <thead>\n",
       "    <tr style=\"text-align: right;\">\n",
       "      <th></th>\n",
       "      <th>title</th>\n",
       "      <th>link</th>\n",
       "      <th>content</th>\n",
       "      <th>vector</th>\n",
       "    </tr>\n",
       "  </thead>\n",
       "  <tbody>\n",
       "    <tr>\n",
       "      <th>0</th>\n",
       "      <td>Đăng ký thành viên Hasaki như thế nào?</td>\n",
       "      <td>https://hotro.hasaki.vn/tai-khoan.html</td>\n",
       "      <td>Quý khách vui lòng nhấn vào nút “Đăng nhập/Đăn...</td>\n",
       "      <td>[-0.008064837, 0.0011870052, 0.0071918024, 0.0...</td>\n",
       "    </tr>\n",
       "    <tr>\n",
       "      <th>1</th>\n",
       "      <td>Tại sao tôi không thể đăng nhập vào tài khoản ...</td>\n",
       "      <td>https://hotro.hasaki.vn/tai-khoan.html</td>\n",
       "      <td>Quý khách cần kiểm tra kiểu gõ, phím Caps Lock...</td>\n",
       "      <td>[-0.010309301, -0.018046966, 0.013814009, -0.0...</td>\n",
       "    </tr>\n",
       "    <tr>\n",
       "      <th>2</th>\n",
       "      <td>Tôi muốn thay đổi thông tin tài khoản thành vi...</td>\n",
       "      <td>https://hotro.hasaki.vn/tai-khoan.html</td>\n",
       "      <td>Để thay đổi thông tin cá nhân, quý khách cần đ...</td>\n",
       "      <td>[-0.024542063, -0.006162367, 0.003487309, -0.0...</td>\n",
       "    </tr>\n",
       "    <tr>\n",
       "      <th>3</th>\n",
       "      <td>Tôi có thể sử dụng chung tài khoản với người k...</td>\n",
       "      <td>https://hotro.hasaki.vn/tai-khoan.html</td>\n",
       "      <td>Không nên sử dụng chung tài khoản vì điều này ...</td>\n",
       "      <td>[-0.0393322, -0.01782562, -0.0015396316, -0.01...</td>\n",
       "    </tr>\n",
       "    <tr>\n",
       "      <th>4</th>\n",
       "      <td>Đăng ký thành viên tại Hasaki.vn sẽ giúp ích g...</td>\n",
       "      <td>https://hotro.hasaki.vn/tai-khoan.html</td>\n",
       "      <td>Việc đăng ký tài khoản giúp khách hàng trở thà...</td>\n",
       "      <td>[0.0041135163, -0.03107662, 0.0018056638, -0.0...</td>\n",
       "    </tr>\n",
       "  </tbody>\n",
       "</table>\n",
       "</div>"
      ],
      "text/plain": [
       "                                               title  \\\n",
       "0             Đăng ký thành viên Hasaki như thế nào?   \n",
       "1  Tại sao tôi không thể đăng nhập vào tài khoản ...   \n",
       "2  Tôi muốn thay đổi thông tin tài khoản thành vi...   \n",
       "3  Tôi có thể sử dụng chung tài khoản với người k...   \n",
       "4  Đăng ký thành viên tại Hasaki.vn sẽ giúp ích g...   \n",
       "\n",
       "                                     link  \\\n",
       "0  https://hotro.hasaki.vn/tai-khoan.html   \n",
       "1  https://hotro.hasaki.vn/tai-khoan.html   \n",
       "2  https://hotro.hasaki.vn/tai-khoan.html   \n",
       "3  https://hotro.hasaki.vn/tai-khoan.html   \n",
       "4  https://hotro.hasaki.vn/tai-khoan.html   \n",
       "\n",
       "                                             content  \\\n",
       "0  Quý khách vui lòng nhấn vào nút “Đăng nhập/Đăn...   \n",
       "1  Quý khách cần kiểm tra kiểu gõ, phím Caps Lock...   \n",
       "2  Để thay đổi thông tin cá nhân, quý khách cần đ...   \n",
       "3  Không nên sử dụng chung tài khoản vì điều này ...   \n",
       "4  Việc đăng ký tài khoản giúp khách hàng trở thà...   \n",
       "\n",
       "                                              vector  \n",
       "0  [-0.008064837, 0.0011870052, 0.0071918024, 0.0...  \n",
       "1  [-0.010309301, -0.018046966, 0.013814009, -0.0...  \n",
       "2  [-0.024542063, -0.006162367, 0.003487309, -0.0...  \n",
       "3  [-0.0393322, -0.01782562, -0.0015396316, -0.01...  \n",
       "4  [0.0041135163, -0.03107662, 0.0018056638, -0.0...  "
      ]
     },
     "execution_count": 18,
     "metadata": {},
     "output_type": "execute_result"
    }
   ],
   "source": [
    "df.head()"
   ]
  },
  {
   "cell_type": "code",
   "execution_count": 19,
   "metadata": {},
   "outputs": [],
   "source": [
    "upsert_data = []\n",
    "for idx, row in df.iterrows():\n",
    "    vector = row['vector']\n",
    "    metadata = {\n",
    "        \"title\": row['title'],\n",
    "        \"link\": row['link'],\n",
    "        \"content\": row['content']\n",
    "    }\n",
    "    upsert_data.append((str(idx), vector, metadata))"
   ]
  },
  {
   "cell_type": "code",
   "execution_count": 20,
   "metadata": {},
   "outputs": [
    {
     "data": {
      "text/plain": [
       "{'upserted_count': 37}"
      ]
     },
     "execution_count": 20,
     "metadata": {},
     "output_type": "execute_result"
    }
   ],
   "source": [
    "hasaki_index.upsert(vectors=upsert_data, namespace='support-namespace')"
   ]
  }
 ],
 "metadata": {
  "kernelspec": {
   "display_name": "sudo-env",
   "language": "python",
   "name": "python3"
  },
  "language_info": {
   "codemirror_mode": {
    "name": "ipython",
    "version": 3
   },
   "file_extension": ".py",
   "mimetype": "text/x-python",
   "name": "python",
   "nbconvert_exporter": "python",
   "pygments_lexer": "ipython3",
   "version": "3.12.4"
  }
 },
 "nbformat": 4,
 "nbformat_minor": 2
}
