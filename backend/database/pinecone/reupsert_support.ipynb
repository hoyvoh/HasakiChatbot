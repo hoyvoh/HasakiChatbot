{
 "cells": [
  {
   "cell_type": "code",
   "execution_count": 1,
   "metadata": {},
   "outputs": [],
   "source": [
    "import pandas as pd\n",
    "import os\n",
    "import sys\n",
    "from dotenv import load_dotenv\n",
    "\n",
    "# Load environment variables from the .env file\n",
    "load_dotenv()\n",
    "\n",
    "# Access the API key\n",
    "PINECONE_API_KEY = os.getenv(\"PINECONE_API_KEY\")\n",
    "EMBED_DIM = 3072"
   ]
  },
  {
   "cell_type": "code",
   "execution_count": 2,
   "metadata": {},
   "outputs": [],
   "source": [
    "df = pd.read_csv('support.csv')"
   ]
  },
  {
   "cell_type": "code",
   "execution_count": 3,
   "metadata": {},
   "outputs": [
    {
     "data": {
      "text/html": [
       "<div>\n",
       "<style scoped>\n",
       "    .dataframe tbody tr th:only-of-type {\n",
       "        vertical-align: middle;\n",
       "    }\n",
       "\n",
       "    .dataframe tbody tr th {\n",
       "        vertical-align: top;\n",
       "    }\n",
       "\n",
       "    .dataframe thead th {\n",
       "        text-align: right;\n",
       "    }\n",
       "</style>\n",
       "<table border=\"1\" class=\"dataframe\">\n",
       "  <thead>\n",
       "    <tr style=\"text-align: right;\">\n",
       "      <th></th>\n",
       "      <th>Unnamed: 0</th>\n",
       "      <th>title</th>\n",
       "      <th>link</th>\n",
       "      <th>content</th>\n",
       "    </tr>\n",
       "  </thead>\n",
       "  <tbody>\n",
       "    <tr>\n",
       "      <th>0</th>\n",
       "      <td>0</td>\n",
       "      <td>Tài khoản</td>\n",
       "      <td>https://hotro.hasaki.vn/tai-khoan.html</td>\n",
       "      <td>Đăng ký thành viên Hasaki như thế nào? Quý khá...</td>\n",
       "    </tr>\n",
       "    <tr>\n",
       "      <th>1</th>\n",
       "      <td>1</td>\n",
       "      <td>Đặt hàng trực tuyến</td>\n",
       "      <td>https://hotro.hasaki.vn/dat-hang-tai-hasaki.html</td>\n",
       "      <td>Quý khách có thể đặt hàng qua điện thoại bằng ...</td>\n",
       "    </tr>\n",
       "    <tr>\n",
       "      <th>2</th>\n",
       "      <td>2</td>\n",
       "      <td>Quy cách đóng gói sản phẩm</td>\n",
       "      <td>https://hotro.hasaki.vn/quy-cach-dong-goi.html</td>\n",
       "      <td>Quy cách đóng gói Hướng dẫn đặt hàng Đặt dịch ...</td>\n",
       "    </tr>\n",
       "    <tr>\n",
       "      <th>3</th>\n",
       "      <td>3</td>\n",
       "      <td>Vận chuyển 2H</td>\n",
       "      <td>https://hotro.hasaki.vn/van-chuyen-2h.html</td>\n",
       "      <td>Vận chuyển 2H tại Hasaki là dịch vụ giao hàng ...</td>\n",
       "    </tr>\n",
       "    <tr>\n",
       "      <th>4</th>\n",
       "      <td>4</td>\n",
       "      <td>Phí vận chuyển</td>\n",
       "      <td>https://hotro.hasaki.vn/phi-van-chuyen.html</td>\n",
       "      <td>Phí vận chuyển khi đặt hàng tại Hasaki.vn Hasa...</td>\n",
       "    </tr>\n",
       "  </tbody>\n",
       "</table>\n",
       "</div>"
      ],
      "text/plain": [
       "   Unnamed: 0                       title  \\\n",
       "0           0                   Tài khoản   \n",
       "1           1         Đặt hàng trực tuyến   \n",
       "2           2  Quy cách đóng gói sản phẩm   \n",
       "3           3               Vận chuyển 2H   \n",
       "4           4              Phí vận chuyển   \n",
       "\n",
       "                                               link  \\\n",
       "0            https://hotro.hasaki.vn/tai-khoan.html   \n",
       "1  https://hotro.hasaki.vn/dat-hang-tai-hasaki.html   \n",
       "2    https://hotro.hasaki.vn/quy-cach-dong-goi.html   \n",
       "3        https://hotro.hasaki.vn/van-chuyen-2h.html   \n",
       "4       https://hotro.hasaki.vn/phi-van-chuyen.html   \n",
       "\n",
       "                                             content  \n",
       "0  Đăng ký thành viên Hasaki như thế nào? Quý khá...  \n",
       "1  Quý khách có thể đặt hàng qua điện thoại bằng ...  \n",
       "2  Quy cách đóng gói Hướng dẫn đặt hàng Đặt dịch ...  \n",
       "3  Vận chuyển 2H tại Hasaki là dịch vụ giao hàng ...  \n",
       "4  Phí vận chuyển khi đặt hàng tại Hasaki.vn Hasa...  "
      ]
     },
     "execution_count": 3,
     "metadata": {},
     "output_type": "execute_result"
    }
   ],
   "source": [
    "df.head()"
   ]
  },
  {
   "cell_type": "code",
   "execution_count": 5,
   "metadata": {},
   "outputs": [],
   "source": [
    "from pinecone_connection import PineConeDB\n",
    "\n",
    "hasaki_index = PineConeDB(PINECONE_API_KEY).pc.Index('hasaki-index-v3')"
   ]
  },
  {
   "cell_type": "code",
   "execution_count": 6,
   "metadata": {},
   "outputs": [],
   "source": [
    "from pc_utils import create_vector_emb"
   ]
  },
  {
   "cell_type": "code",
   "execution_count": 7,
   "metadata": {},
   "outputs": [],
   "source": [
    "df['vector'] = df['title'].apply(lambda text: create_vector_emb(text))"
   ]
  },
  {
   "cell_type": "code",
   "execution_count": 9,
   "metadata": {},
   "outputs": [
    {
     "data": {
      "text/html": [
       "<div>\n",
       "<style scoped>\n",
       "    .dataframe tbody tr th:only-of-type {\n",
       "        vertical-align: middle;\n",
       "    }\n",
       "\n",
       "    .dataframe tbody tr th {\n",
       "        vertical-align: top;\n",
       "    }\n",
       "\n",
       "    .dataframe thead th {\n",
       "        text-align: right;\n",
       "    }\n",
       "</style>\n",
       "<table border=\"1\" class=\"dataframe\">\n",
       "  <thead>\n",
       "    <tr style=\"text-align: right;\">\n",
       "      <th></th>\n",
       "      <th>Unnamed: 0</th>\n",
       "      <th>title</th>\n",
       "      <th>link</th>\n",
       "      <th>content</th>\n",
       "      <th>vector</th>\n",
       "    </tr>\n",
       "  </thead>\n",
       "  <tbody>\n",
       "    <tr>\n",
       "      <th>0</th>\n",
       "      <td>0</td>\n",
       "      <td>Tài khoản</td>\n",
       "      <td>https://hotro.hasaki.vn/tai-khoan.html</td>\n",
       "      <td>Đăng ký thành viên Hasaki như thế nào? Quý khá...</td>\n",
       "      <td>[0.011986899, -0.0447314, 0.0018757733, 0.0144...</td>\n",
       "    </tr>\n",
       "    <tr>\n",
       "      <th>1</th>\n",
       "      <td>1</td>\n",
       "      <td>Đặt hàng trực tuyến</td>\n",
       "      <td>https://hotro.hasaki.vn/dat-hang-tai-hasaki.html</td>\n",
       "      <td>Quý khách có thể đặt hàng qua điện thoại bằng ...</td>\n",
       "      <td>[-0.028532239, -0.008807353, 0.011129365, -0.0...</td>\n",
       "    </tr>\n",
       "    <tr>\n",
       "      <th>2</th>\n",
       "      <td>2</td>\n",
       "      <td>Quy cách đóng gói sản phẩm</td>\n",
       "      <td>https://hotro.hasaki.vn/quy-cach-dong-goi.html</td>\n",
       "      <td>Quy cách đóng gói Hướng dẫn đặt hàng Đặt dịch ...</td>\n",
       "      <td>[0.003810922, -0.04745973, 0.0039359285, 0.023...</td>\n",
       "    </tr>\n",
       "    <tr>\n",
       "      <th>3</th>\n",
       "      <td>3</td>\n",
       "      <td>Vận chuyển 2H</td>\n",
       "      <td>https://hotro.hasaki.vn/van-chuyen-2h.html</td>\n",
       "      <td>Vận chuyển 2H tại Hasaki là dịch vụ giao hàng ...</td>\n",
       "      <td>[-0.030840136, -0.025272, -0.00039213282, -0.0...</td>\n",
       "    </tr>\n",
       "    <tr>\n",
       "      <th>4</th>\n",
       "      <td>4</td>\n",
       "      <td>Phí vận chuyển</td>\n",
       "      <td>https://hotro.hasaki.vn/phi-van-chuyen.html</td>\n",
       "      <td>Phí vận chuyển khi đặt hàng tại Hasaki.vn Hasa...</td>\n",
       "      <td>[-0.028732294, -0.02889809, 0.0013387956, -0.0...</td>\n",
       "    </tr>\n",
       "  </tbody>\n",
       "</table>\n",
       "</div>"
      ],
      "text/plain": [
       "   Unnamed: 0                       title  \\\n",
       "0           0                   Tài khoản   \n",
       "1           1         Đặt hàng trực tuyến   \n",
       "2           2  Quy cách đóng gói sản phẩm   \n",
       "3           3               Vận chuyển 2H   \n",
       "4           4              Phí vận chuyển   \n",
       "\n",
       "                                               link  \\\n",
       "0            https://hotro.hasaki.vn/tai-khoan.html   \n",
       "1  https://hotro.hasaki.vn/dat-hang-tai-hasaki.html   \n",
       "2    https://hotro.hasaki.vn/quy-cach-dong-goi.html   \n",
       "3        https://hotro.hasaki.vn/van-chuyen-2h.html   \n",
       "4       https://hotro.hasaki.vn/phi-van-chuyen.html   \n",
       "\n",
       "                                             content  \\\n",
       "0  Đăng ký thành viên Hasaki như thế nào? Quý khá...   \n",
       "1  Quý khách có thể đặt hàng qua điện thoại bằng ...   \n",
       "2  Quy cách đóng gói Hướng dẫn đặt hàng Đặt dịch ...   \n",
       "3  Vận chuyển 2H tại Hasaki là dịch vụ giao hàng ...   \n",
       "4  Phí vận chuyển khi đặt hàng tại Hasaki.vn Hasa...   \n",
       "\n",
       "                                              vector  \n",
       "0  [0.011986899, -0.0447314, 0.0018757733, 0.0144...  \n",
       "1  [-0.028532239, -0.008807353, 0.011129365, -0.0...  \n",
       "2  [0.003810922, -0.04745973, 0.0039359285, 0.023...  \n",
       "3  [-0.030840136, -0.025272, -0.00039213282, -0.0...  \n",
       "4  [-0.028732294, -0.02889809, 0.0013387956, -0.0...  "
      ]
     },
     "execution_count": 9,
     "metadata": {},
     "output_type": "execute_result"
    }
   ],
   "source": [
    "df.head()"
   ]
  },
  {
   "cell_type": "code",
   "execution_count": 11,
   "metadata": {},
   "outputs": [],
   "source": [
    "upsert_data = []\n",
    "for idx, row in df.iterrows():\n",
    "    vector = row['vector']\n",
    "    metadata = {\n",
    "        \"title\": row['title'],\n",
    "        \"link\": row['link'],\n",
    "        \"content\": row['content']\n",
    "    }\n",
    "    upsert_data.append((str(idx), vector, metadata))"
   ]
  },
  {
   "cell_type": "code",
   "execution_count": 12,
   "metadata": {},
   "outputs": [
    {
     "data": {
      "text/plain": [
       "{'upserted_count': 26}"
      ]
     },
     "execution_count": 12,
     "metadata": {},
     "output_type": "execute_result"
    }
   ],
   "source": [
    "hasaki_index.upsert(vectors=upsert_data, namespace='support-namespace')"
   ]
  }
 ],
 "metadata": {
  "kernelspec": {
   "display_name": "sudo-env",
   "language": "python",
   "name": "python3"
  },
  "language_info": {
   "codemirror_mode": {
    "name": "ipython",
    "version": 3
   },
   "file_extension": ".py",
   "mimetype": "text/x-python",
   "name": "python",
   "nbconvert_exporter": "python",
   "pygments_lexer": "ipython3",
   "version": "3.12.4"
  }
 },
 "nbformat": 4,
 "nbformat_minor": 2
}
