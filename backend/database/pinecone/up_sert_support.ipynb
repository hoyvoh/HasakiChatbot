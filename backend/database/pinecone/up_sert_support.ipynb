{
 "cells": [
  {
   "cell_type": "code",
   "execution_count": 1,
   "metadata": {},
   "outputs": [],
   "source": [
    "import pandas as pd\n",
    "import os\n",
    "import sys\n",
    "from dotenv import load_dotenv\n",
    "\n",
    "# Load environment variables from the .env file\n",
    "load_dotenv()\n",
    "\n",
    "# Access the API key\n",
    "PINECONE_API_KEY = os.getenv(\"PINECONE_API_KEY\")\n",
    "EMBED_DIM = 768"
   ]
  },
  {
   "cell_type": "markdown",
   "metadata": {},
   "source": [
    "# Data"
   ]
  },
  {
   "cell_type": "code",
   "execution_count": 2,
   "metadata": {},
   "outputs": [
    {
     "data": {
      "text/html": [
       "<div>\n",
       "<style scoped>\n",
       "    .dataframe tbody tr th:only-of-type {\n",
       "        vertical-align: middle;\n",
       "    }\n",
       "\n",
       "    .dataframe tbody tr th {\n",
       "        vertical-align: top;\n",
       "    }\n",
       "\n",
       "    .dataframe thead th {\n",
       "        text-align: right;\n",
       "    }\n",
       "</style>\n",
       "<table border=\"1\" class=\"dataframe\">\n",
       "  <thead>\n",
       "    <tr style=\"text-align: right;\">\n",
       "      <th></th>\n",
       "      <th>Unnamed: 0</th>\n",
       "      <th>title</th>\n",
       "      <th>link</th>\n",
       "      <th>content</th>\n",
       "    </tr>\n",
       "  </thead>\n",
       "  <tbody>\n",
       "    <tr>\n",
       "      <th>0</th>\n",
       "      <td>0</td>\n",
       "      <td>&lt;div class=\"text_logo\"&gt;Tài khoản&lt;/div&gt;</td>\n",
       "      <td>https://hotro.hasaki.vn/tai-khoan.html</td>\n",
       "      <td>Tài khoản Hasaki | Hasaki.vn Gửi yêu cầu | Đăn...</td>\n",
       "    </tr>\n",
       "    <tr>\n",
       "      <th>1</th>\n",
       "      <td>1</td>\n",
       "      <td>&lt;div class=\"text_logo\"&gt;Đặt hàng&lt;/div&gt;</td>\n",
       "      <td>https://hotro.hasaki.vn/dat-hang-tai-hasaki.html</td>\n",
       "      <td>Đặt hàng tại Hasaki | Hasaki.vn Gửi yêu cầu | ...</td>\n",
       "    </tr>\n",
       "    <tr>\n",
       "      <th>2</th>\n",
       "      <td>2</td>\n",
       "      <td>&lt;div class=\"text_logo\"&gt;Quy cách đóng gói&lt;/div&gt;</td>\n",
       "      <td>https://hotro.hasaki.vn/quy-cach-dong-goi.html</td>\n",
       "      <td>Quy cách đóng gói hàng tại Hasaki | Hasaki.vn ...</td>\n",
       "    </tr>\n",
       "    <tr>\n",
       "      <th>3</th>\n",
       "      <td>3</td>\n",
       "      <td>&lt;div class=\"text_logo\"&gt;Vận chuyển 2H&lt;/div&gt;</td>\n",
       "      <td>https://hotro.hasaki.vn/van-chuyen-2h.html</td>\n",
       "      <td>Vận chuyển 2H tại Hasaki | Hasaki.vn Gửi yêu c...</td>\n",
       "    </tr>\n",
       "    <tr>\n",
       "      <th>4</th>\n",
       "      <td>4</td>\n",
       "      <td>&lt;div class=\"text_logo\"&gt;Phí vận chuyển&lt;/div&gt;</td>\n",
       "      <td>https://hotro.hasaki.vn/phi-van-chuyen.html</td>\n",
       "      <td>Phí vận chuyển tại Hasaki | Hasaki.vn Gửi yêu ...</td>\n",
       "    </tr>\n",
       "  </tbody>\n",
       "</table>\n",
       "</div>"
      ],
      "text/plain": [
       "   Unnamed: 0                                           title  \\\n",
       "0           0          <div class=\"text_logo\">Tài khoản</div>   \n",
       "1           1           <div class=\"text_logo\">Đặt hàng</div>   \n",
       "2           2  <div class=\"text_logo\">Quy cách đóng gói</div>   \n",
       "3           3      <div class=\"text_logo\">Vận chuyển 2H</div>   \n",
       "4           4     <div class=\"text_logo\">Phí vận chuyển</div>   \n",
       "\n",
       "                                               link  \\\n",
       "0            https://hotro.hasaki.vn/tai-khoan.html   \n",
       "1  https://hotro.hasaki.vn/dat-hang-tai-hasaki.html   \n",
       "2    https://hotro.hasaki.vn/quy-cach-dong-goi.html   \n",
       "3        https://hotro.hasaki.vn/van-chuyen-2h.html   \n",
       "4       https://hotro.hasaki.vn/phi-van-chuyen.html   \n",
       "\n",
       "                                             content  \n",
       "0  Tài khoản Hasaki | Hasaki.vn Gửi yêu cầu | Đăn...  \n",
       "1  Đặt hàng tại Hasaki | Hasaki.vn Gửi yêu cầu | ...  \n",
       "2  Quy cách đóng gói hàng tại Hasaki | Hasaki.vn ...  \n",
       "3  Vận chuyển 2H tại Hasaki | Hasaki.vn Gửi yêu c...  \n",
       "4  Phí vận chuyển tại Hasaki | Hasaki.vn Gửi yêu ...  "
      ]
     },
     "execution_count": 2,
     "metadata": {},
     "output_type": "execute_result"
    }
   ],
   "source": [
    "df = pd.read_csv('supports.csv')\n",
    "\n",
    "df.head()"
   ]
  },
  {
   "cell_type": "code",
   "execution_count": 3,
   "metadata": {},
   "outputs": [],
   "source": [
    "import re\n",
    "\n",
    "df['title'] = df['title'].apply(lambda title: re.sub(r'<[^>]+>', '', title))"
   ]
  },
  {
   "cell_type": "code",
   "execution_count": 4,
   "metadata": {},
   "outputs": [
    {
     "data": {
      "text/plain": [
       "26"
      ]
     },
     "execution_count": 4,
     "metadata": {},
     "output_type": "execute_result"
    }
   ],
   "source": [
    "len(df)"
   ]
  },
  {
   "cell_type": "markdown",
   "metadata": {},
   "source": [
    "# Chunking"
   ]
  },
  {
   "cell_type": "code",
   "execution_count": 5,
   "metadata": {},
   "outputs": [],
   "source": [
    "import time\n",
    "from awan_llm_api import AwanLLMClient, Role\n",
    "from awan_llm_api.completions import ChatCompletions\n",
    "import sys\n",
    "import os\n",
    "from dotenv import load_dotenv\n",
    "\n",
    "load_dotenv()\n",
    "\n",
    "AWANLLM_API_KEY = os.getenv('AWAN_API_KEY')\n",
    "MODEL = os.getenv('MODEL_NAME_LARGE')\n",
    "\n",
    "class AwanAPI:\n",
    "    def __init__(self, api_key=AWANLLM_API_KEY, model_name=MODEL):\n",
    "        self.api_token = api_key\n",
    "        self.model_name = MODEL\n",
    "        self.history = []\n",
    "        self.last_request_time = None  # Initialize the last request time\n",
    "\n",
    "        if self.api_token and self.model_name:\n",
    "            self.client = AwanLLMClient(self.api_token)\n",
    "            self.chat = ChatCompletions(self.model_name)\n",
    "\n",
    "    def add_to_history(self, role, message):\n",
    "        self.history.append({'role': role, 'message': message})\n",
    "\n",
    "    def get_response(self, prompt, customer_query, mode=\"text\"):\n",
    "        self.add_to_history(Role.SYSTEM, prompt)  \n",
    "        self.add_to_history(Role.USER, customer_query)\n",
    "\n",
    "        # Check time elapsed since last request to stay under rate limit (20 requests/min)\n",
    "        if self.last_request_time:\n",
    "            time_since_last_request = time.time() - self.last_request_time\n",
    "            min_interval_between_requests = 60 / 20  # 3 seconds for 20 req/min\n",
    "\n",
    "            if time_since_last_request < min_interval_between_requests:\n",
    "                time_to_wait = min_interval_between_requests - time_since_last_request\n",
    "                print(f\"Rate limit in effect. Waiting for {time_to_wait:.2f} seconds.\")\n",
    "                time.sleep(time_to_wait)\n",
    "\n",
    "        # Process the request and store the time\n",
    "        for entry in self.history:\n",
    "            self.chat.add_message(entry['role'], entry['message'])\n",
    "\n",
    "        response = self.client.chat_completion(self.chat)\n",
    "        self.last_request_time = time.time()  # Update the last request time\n",
    "        self.add_to_history(Role.ASSISTANT, response)\n",
    "\n",
    "        if mode == \"json\":\n",
    "            return {\n",
    "                \"response\": response,\n",
    "                \"history\": self.history\n",
    "            }\n",
    "        return response  # Default to returning text if no mode is specified\n"
   ]
  },
  {
   "cell_type": "code",
   "execution_count": 6,
   "metadata": {},
   "outputs": [],
   "source": [
    "def chunk(text):\n",
    "    chunk_llm = AwanAPI()\n",
    "\n",
    "    prompt = \"\"\"Giúp tôi xử lý query tôi đưa vào. Bắt buộc xóa các dấu nháy đơn ' ' và nháy kép \" \" “ ” trước khi xử lý.\n",
    "                Đầu tiên hãy xóa bỏ phần ở trong các dấu | | và những thông tin quảng cáo ở cuối đoạn\n",
    "                Sau đó giúp tôi chunking nhỏ đoạn query thành những đoạn vẫn có đầy đủ ý nghĩa. Mỗi đoạn nhỏ khoảng 200 từ phải có đủ ý nghĩa của 1 đoạn.            \n",
    "                Đưa ra câu trả lời theo dạng 1 list, chỉ gồm các đoạn được chunking\n",
    "                Không trả thêm bất kỳ thứ gì ngoài các đoạn được chunking kể cả lời dẫn .\n",
    "                Mỗi đoạn chunking là 1 phần tử trong list.\n",
    "                Trả về theo đúng định dạng sau: Nếu chunk được thành 2 đoạn thì trả về \"['đoạn chunk 1', 'đoạn chunk 2']\"\n",
    "            \"\"\"\n",
    "    \n",
    "    chat_response = chunk_llm.get_response(prompt, text)\n",
    "    \n",
    "    return chat_response.get('choices')[0]['message']['content']"
   ]
  },
  {
   "cell_type": "code",
   "execution_count": 7,
   "metadata": {},
   "outputs": [],
   "source": [
    "chunks = []"
   ]
  },
  {
   "cell_type": "code",
   "execution_count": 12,
   "metadata": {},
   "outputs": [],
   "source": [
    "for i in range(15, 26):\n",
    "    chunks.append(chunk(df['content'][i]))"
   ]
  },
  {
   "cell_type": "code",
   "execution_count": 22,
   "metadata": {},
   "outputs": [
    {
     "data": {
      "text/plain": [
       "26"
      ]
     },
     "execution_count": 22,
     "metadata": {},
     "output_type": "execute_result"
    }
   ],
   "source": [
    "len(chunks)"
   ]
  },
  {
   "cell_type": "code",
   "execution_count": 24,
   "metadata": {},
   "outputs": [],
   "source": [
    "import ast\n",
    "\n",
    "list_chunk = [None] * 26\n",
    "for i in range(0,26):\n",
    "    if chunks[i][0] == \"[\":\n",
    "        list_chunk[i] = ast.literal_eval(chunks[i])\n",
    "    else:\n",
    "        list_chunk[i] = chunks[i]"
   ]
  },
  {
   "cell_type": "code",
   "execution_count": 63,
   "metadata": {},
   "outputs": [],
   "source": [
    "df['chunked_content'] = list_chunk"
   ]
  },
  {
   "cell_type": "code",
   "execution_count": 67,
   "metadata": {},
   "outputs": [
    {
     "data": {
      "text/html": [
       "<div>\n",
       "<style scoped>\n",
       "    .dataframe tbody tr th:only-of-type {\n",
       "        vertical-align: middle;\n",
       "    }\n",
       "\n",
       "    .dataframe tbody tr th {\n",
       "        vertical-align: top;\n",
       "    }\n",
       "\n",
       "    .dataframe thead th {\n",
       "        text-align: right;\n",
       "    }\n",
       "</style>\n",
       "<table border=\"1\" class=\"dataframe\">\n",
       "  <thead>\n",
       "    <tr style=\"text-align: right;\">\n",
       "      <th></th>\n",
       "      <th>Unnamed: 0</th>\n",
       "      <th>title</th>\n",
       "      <th>link</th>\n",
       "      <th>content</th>\n",
       "      <th>chunked_content</th>\n",
       "    </tr>\n",
       "  </thead>\n",
       "  <tbody>\n",
       "    <tr>\n",
       "      <th>0</th>\n",
       "      <td>0</td>\n",
       "      <td>Tài khoản</td>\n",
       "      <td>https://hotro.hasaki.vn/tai-khoan.html</td>\n",
       "      <td>Tài khoản Hasaki | Hasaki.vn Gửi yêu cầu | Đăn...</td>\n",
       "      <td>[Đăng ký thành viên tại Hasaki như thế nào? Qu...</td>\n",
       "    </tr>\n",
       "    <tr>\n",
       "      <th>1</th>\n",
       "      <td>1</td>\n",
       "      <td>Đặt hàng</td>\n",
       "      <td>https://hotro.hasaki.vn/dat-hang-tai-hasaki.html</td>\n",
       "      <td>Đặt hàng tại Hasaki | Hasaki.vn Gửi yêu cầu | ...</td>\n",
       "      <td>[Tài khoản, Đặt hàng Quy cách đóng gói Vận chu...</td>\n",
       "    </tr>\n",
       "    <tr>\n",
       "      <th>2</th>\n",
       "      <td>2</td>\n",
       "      <td>Quy cách đóng gói</td>\n",
       "      <td>https://hotro.hasaki.vn/quy-cach-dong-goi.html</td>\n",
       "      <td>Quy cách đóng gói hàng tại Hasaki | Hasaki.vn ...</td>\n",
       "      <td>[Quy cách đóng gói hàng tại Hasaki | Hasaki.vn...</td>\n",
       "    </tr>\n",
       "    <tr>\n",
       "      <th>3</th>\n",
       "      <td>3</td>\n",
       "      <td>Vận chuyển 2H</td>\n",
       "      <td>https://hotro.hasaki.vn/van-chuyen-2h.html</td>\n",
       "      <td>Vận chuyển 2H tại Hasaki | Hasaki.vn Gửi yêu c...</td>\n",
       "      <td>[Vận chuyển 2H tại Hasaki | Hasaki.vn Tài khoả...</td>\n",
       "    </tr>\n",
       "    <tr>\n",
       "      <th>4</th>\n",
       "      <td>4</td>\n",
       "      <td>Phí vận chuyển</td>\n",
       "      <td>https://hotro.hasaki.vn/phi-van-chuyen.html</td>\n",
       "      <td>Phí vận chuyển tại Hasaki | Hasaki.vn Gửi yêu ...</td>\n",
       "      <td>[Hasaki miễn phí vận chuyển tại các tỉnh/ thàn...</td>\n",
       "    </tr>\n",
       "  </tbody>\n",
       "</table>\n",
       "</div>"
      ],
      "text/plain": [
       "   Unnamed: 0              title  \\\n",
       "0           0          Tài khoản   \n",
       "1           1           Đặt hàng   \n",
       "2           2  Quy cách đóng gói   \n",
       "3           3      Vận chuyển 2H   \n",
       "4           4     Phí vận chuyển   \n",
       "\n",
       "                                               link  \\\n",
       "0            https://hotro.hasaki.vn/tai-khoan.html   \n",
       "1  https://hotro.hasaki.vn/dat-hang-tai-hasaki.html   \n",
       "2    https://hotro.hasaki.vn/quy-cach-dong-goi.html   \n",
       "3        https://hotro.hasaki.vn/van-chuyen-2h.html   \n",
       "4       https://hotro.hasaki.vn/phi-van-chuyen.html   \n",
       "\n",
       "                                             content  \\\n",
       "0  Tài khoản Hasaki | Hasaki.vn Gửi yêu cầu | Đăn...   \n",
       "1  Đặt hàng tại Hasaki | Hasaki.vn Gửi yêu cầu | ...   \n",
       "2  Quy cách đóng gói hàng tại Hasaki | Hasaki.vn ...   \n",
       "3  Vận chuyển 2H tại Hasaki | Hasaki.vn Gửi yêu c...   \n",
       "4  Phí vận chuyển tại Hasaki | Hasaki.vn Gửi yêu ...   \n",
       "\n",
       "                                     chunked_content  \n",
       "0  [Đăng ký thành viên tại Hasaki như thế nào? Qu...  \n",
       "1  [Tài khoản, Đặt hàng Quy cách đóng gói Vận chu...  \n",
       "2  [Quy cách đóng gói hàng tại Hasaki | Hasaki.vn...  \n",
       "3  [Vận chuyển 2H tại Hasaki | Hasaki.vn Tài khoả...  \n",
       "4  [Hasaki miễn phí vận chuyển tại các tỉnh/ thàn...  "
      ]
     },
     "execution_count": 67,
     "metadata": {},
     "output_type": "execute_result"
    }
   ],
   "source": [
    "df.head()"
   ]
  },
  {
   "cell_type": "code",
   "execution_count": 65,
   "metadata": {},
   "outputs": [],
   "source": [
    "def to_list(text):\n",
    "    if isinstance(text, str):\n",
    "        return [text]\n",
    "    else:\n",
    "        return text\n",
    "    \n",
    "df['chunked_content'] = df['chunked_content'].apply(lambda text: to_list(text))"
   ]
  },
  {
   "cell_type": "code",
   "execution_count": 73,
   "metadata": {},
   "outputs": [],
   "source": [
    "df['chunked_content'] = df.apply(lambda row: [row['title']] + row['chunked_content'], axis=1)\n"
   ]
  },
  {
   "cell_type": "code",
   "execution_count": 75,
   "metadata": {},
   "outputs": [],
   "source": [
    "df_ = df.explode('chunked_content', ignore_index=True)"
   ]
  },
  {
   "cell_type": "code",
   "execution_count": 83,
   "metadata": {},
   "outputs": [
    {
     "data": {
      "text/html": [
       "<div>\n",
       "<style scoped>\n",
       "    .dataframe tbody tr th:only-of-type {\n",
       "        vertical-align: middle;\n",
       "    }\n",
       "\n",
       "    .dataframe tbody tr th {\n",
       "        vertical-align: top;\n",
       "    }\n",
       "\n",
       "    .dataframe thead th {\n",
       "        text-align: right;\n",
       "    }\n",
       "</style>\n",
       "<table border=\"1\" class=\"dataframe\">\n",
       "  <thead>\n",
       "    <tr style=\"text-align: right;\">\n",
       "      <th></th>\n",
       "      <th>Unnamed: 0</th>\n",
       "      <th>title</th>\n",
       "      <th>link</th>\n",
       "      <th>content</th>\n",
       "      <th>chunked_content</th>\n",
       "    </tr>\n",
       "  </thead>\n",
       "  <tbody>\n",
       "    <tr>\n",
       "      <th>0</th>\n",
       "      <td>0</td>\n",
       "      <td>Tài khoản</td>\n",
       "      <td>https://hotro.hasaki.vn/tai-khoan.html</td>\n",
       "      <td>Tài khoản Hasaki | Hasaki.vn Gửi yêu cầu | Đăn...</td>\n",
       "      <td>Tài khoản</td>\n",
       "    </tr>\n",
       "    <tr>\n",
       "      <th>1</th>\n",
       "      <td>0</td>\n",
       "      <td>Tài khoản</td>\n",
       "      <td>https://hotro.hasaki.vn/tai-khoan.html</td>\n",
       "      <td>Tài khoản Hasaki | Hasaki.vn Gửi yêu cầu | Đăn...</td>\n",
       "      <td>Đăng ký thành viên tại Hasaki như thế nào? Quý...</td>\n",
       "    </tr>\n",
       "    <tr>\n",
       "      <th>2</th>\n",
       "      <td>0</td>\n",
       "      <td>Tài khoản</td>\n",
       "      <td>https://hotro.hasaki.vn/tai-khoan.html</td>\n",
       "      <td>Tài khoản Hasaki | Hasaki.vn Gửi yêu cầu | Đăn...</td>\n",
       "      <td>Tại sao tôi không thể đăng nhập vào tài khoản ...</td>\n",
       "    </tr>\n",
       "    <tr>\n",
       "      <th>3</th>\n",
       "      <td>0</td>\n",
       "      <td>Tài khoản</td>\n",
       "      <td>https://hotro.hasaki.vn/tai-khoan.html</td>\n",
       "      <td>Tài khoản Hasaki | Hasaki.vn Gửi yêu cầu | Đăn...</td>\n",
       "      <td>Tôi muốn thay đổi thông tin tài khoản thành vi...</td>\n",
       "    </tr>\n",
       "    <tr>\n",
       "      <th>4</th>\n",
       "      <td>1</td>\n",
       "      <td>Đặt hàng</td>\n",
       "      <td>https://hotro.hasaki.vn/dat-hang-tai-hasaki.html</td>\n",
       "      <td>Đặt hàng tại Hasaki | Hasaki.vn Gửi yêu cầu | ...</td>\n",
       "      <td>Đặt hàng</td>\n",
       "    </tr>\n",
       "  </tbody>\n",
       "</table>\n",
       "</div>"
      ],
      "text/plain": [
       "   Unnamed: 0      title                                              link  \\\n",
       "0           0  Tài khoản            https://hotro.hasaki.vn/tai-khoan.html   \n",
       "1           0  Tài khoản            https://hotro.hasaki.vn/tai-khoan.html   \n",
       "2           0  Tài khoản            https://hotro.hasaki.vn/tai-khoan.html   \n",
       "3           0  Tài khoản            https://hotro.hasaki.vn/tai-khoan.html   \n",
       "4           1   Đặt hàng  https://hotro.hasaki.vn/dat-hang-tai-hasaki.html   \n",
       "\n",
       "                                             content  \\\n",
       "0  Tài khoản Hasaki | Hasaki.vn Gửi yêu cầu | Đăn...   \n",
       "1  Tài khoản Hasaki | Hasaki.vn Gửi yêu cầu | Đăn...   \n",
       "2  Tài khoản Hasaki | Hasaki.vn Gửi yêu cầu | Đăn...   \n",
       "3  Tài khoản Hasaki | Hasaki.vn Gửi yêu cầu | Đăn...   \n",
       "4  Đặt hàng tại Hasaki | Hasaki.vn Gửi yêu cầu | ...   \n",
       "\n",
       "                                     chunked_content  \n",
       "0                                          Tài khoản  \n",
       "1  Đăng ký thành viên tại Hasaki như thế nào? Quý...  \n",
       "2  Tại sao tôi không thể đăng nhập vào tài khoản ...  \n",
       "3  Tôi muốn thay đổi thông tin tài khoản thành vi...  \n",
       "4                                           Đặt hàng  "
      ]
     },
     "execution_count": 83,
     "metadata": {},
     "output_type": "execute_result"
    }
   ],
   "source": [
    "df_.head()"
   ]
  },
  {
   "cell_type": "markdown",
   "metadata": {},
   "source": [
    "# Connect Pinecone"
   ]
  },
  {
   "cell_type": "code",
   "execution_count": 80,
   "metadata": {},
   "outputs": [],
   "source": [
    "from pinecone_connection import PineConeDB\n",
    "\n",
    "hasaki_index = PineConeDB(PINECONE_API_KEY).pc.Index('hasaki-index')"
   ]
  },
  {
   "cell_type": "code",
   "execution_count": 81,
   "metadata": {},
   "outputs": [
    {
     "name": "stdout",
     "output_type": "stream",
     "text": [
      "Namespaces: dict_keys(['product-pname-namespace', 'category-namespace', 'product-desc-namespace', 'campaign-namespace', 'support-namespace'])\n"
     ]
    }
   ],
   "source": [
    "index_stats = hasaki_index.describe_index_stats()\n",
    "\n",
    "print(\"Namespaces:\", index_stats['namespaces'].keys())"
   ]
  },
  {
   "cell_type": "markdown",
   "metadata": {},
   "source": [
    "# Up Sert"
   ]
  },
  {
   "cell_type": "code",
   "execution_count": 84,
   "metadata": {},
   "outputs": [],
   "source": [
    "from pinecone_connection import create_vector_emb\n",
    "\n",
    "df_['vector'] = df_['chunked_content'].apply(lambda x: create_vector_emb(x))"
   ]
  },
  {
   "cell_type": "code",
   "execution_count": 85,
   "metadata": {},
   "outputs": [
    {
     "data": {
      "text/html": [
       "<div>\n",
       "<style scoped>\n",
       "    .dataframe tbody tr th:only-of-type {\n",
       "        vertical-align: middle;\n",
       "    }\n",
       "\n",
       "    .dataframe tbody tr th {\n",
       "        vertical-align: top;\n",
       "    }\n",
       "\n",
       "    .dataframe thead th {\n",
       "        text-align: right;\n",
       "    }\n",
       "</style>\n",
       "<table border=\"1\" class=\"dataframe\">\n",
       "  <thead>\n",
       "    <tr style=\"text-align: right;\">\n",
       "      <th></th>\n",
       "      <th>Unnamed: 0</th>\n",
       "      <th>title</th>\n",
       "      <th>link</th>\n",
       "      <th>content</th>\n",
       "      <th>chunked_content</th>\n",
       "      <th>vector</th>\n",
       "    </tr>\n",
       "  </thead>\n",
       "  <tbody>\n",
       "    <tr>\n",
       "      <th>0</th>\n",
       "      <td>0</td>\n",
       "      <td>Tài khoản</td>\n",
       "      <td>https://hotro.hasaki.vn/tai-khoan.html</td>\n",
       "      <td>Tài khoản Hasaki | Hasaki.vn Gửi yêu cầu | Đăn...</td>\n",
       "      <td>Tài khoản</td>\n",
       "      <td>[-0.027002433314919472, -0.0013075470924377441...</td>\n",
       "    </tr>\n",
       "    <tr>\n",
       "      <th>1</th>\n",
       "      <td>0</td>\n",
       "      <td>Tài khoản</td>\n",
       "      <td>https://hotro.hasaki.vn/tai-khoan.html</td>\n",
       "      <td>Tài khoản Hasaki | Hasaki.vn Gửi yêu cầu | Đăn...</td>\n",
       "      <td>Đăng ký thành viên tại Hasaki như thế nào? Quý...</td>\n",
       "      <td>[-0.19404232501983643, 0.2964792847633362, -0....</td>\n",
       "    </tr>\n",
       "    <tr>\n",
       "      <th>2</th>\n",
       "      <td>0</td>\n",
       "      <td>Tài khoản</td>\n",
       "      <td>https://hotro.hasaki.vn/tai-khoan.html</td>\n",
       "      <td>Tài khoản Hasaki | Hasaki.vn Gửi yêu cầu | Đăn...</td>\n",
       "      <td>Tại sao tôi không thể đăng nhập vào tài khoản ...</td>\n",
       "      <td>[-0.15494681894779205, 0.3523898422718048, -0....</td>\n",
       "    </tr>\n",
       "    <tr>\n",
       "      <th>3</th>\n",
       "      <td>0</td>\n",
       "      <td>Tài khoản</td>\n",
       "      <td>https://hotro.hasaki.vn/tai-khoan.html</td>\n",
       "      <td>Tài khoản Hasaki | Hasaki.vn Gửi yêu cầu | Đăn...</td>\n",
       "      <td>Tôi muốn thay đổi thông tin tài khoản thành vi...</td>\n",
       "      <td>[0.02982049435377121, 0.1364598125219345, -0.2...</td>\n",
       "    </tr>\n",
       "    <tr>\n",
       "      <th>4</th>\n",
       "      <td>1</td>\n",
       "      <td>Đặt hàng</td>\n",
       "      <td>https://hotro.hasaki.vn/dat-hang-tai-hasaki.html</td>\n",
       "      <td>Đặt hàng tại Hasaki | Hasaki.vn Gửi yêu cầu | ...</td>\n",
       "      <td>Đặt hàng</td>\n",
       "      <td>[0.19458062946796417, 0.7691003680229187, -0.3...</td>\n",
       "    </tr>\n",
       "  </tbody>\n",
       "</table>\n",
       "</div>"
      ],
      "text/plain": [
       "   Unnamed: 0      title                                              link  \\\n",
       "0           0  Tài khoản            https://hotro.hasaki.vn/tai-khoan.html   \n",
       "1           0  Tài khoản            https://hotro.hasaki.vn/tai-khoan.html   \n",
       "2           0  Tài khoản            https://hotro.hasaki.vn/tai-khoan.html   \n",
       "3           0  Tài khoản            https://hotro.hasaki.vn/tai-khoan.html   \n",
       "4           1   Đặt hàng  https://hotro.hasaki.vn/dat-hang-tai-hasaki.html   \n",
       "\n",
       "                                             content  \\\n",
       "0  Tài khoản Hasaki | Hasaki.vn Gửi yêu cầu | Đăn...   \n",
       "1  Tài khoản Hasaki | Hasaki.vn Gửi yêu cầu | Đăn...   \n",
       "2  Tài khoản Hasaki | Hasaki.vn Gửi yêu cầu | Đăn...   \n",
       "3  Tài khoản Hasaki | Hasaki.vn Gửi yêu cầu | Đăn...   \n",
       "4  Đặt hàng tại Hasaki | Hasaki.vn Gửi yêu cầu | ...   \n",
       "\n",
       "                                     chunked_content  \\\n",
       "0                                          Tài khoản   \n",
       "1  Đăng ký thành viên tại Hasaki như thế nào? Quý...   \n",
       "2  Tại sao tôi không thể đăng nhập vào tài khoản ...   \n",
       "3  Tôi muốn thay đổi thông tin tài khoản thành vi...   \n",
       "4                                           Đặt hàng   \n",
       "\n",
       "                                              vector  \n",
       "0  [-0.027002433314919472, -0.0013075470924377441...  \n",
       "1  [-0.19404232501983643, 0.2964792847633362, -0....  \n",
       "2  [-0.15494681894779205, 0.3523898422718048, -0....  \n",
       "3  [0.02982049435377121, 0.1364598125219345, -0.2...  \n",
       "4  [0.19458062946796417, 0.7691003680229187, -0.3...  "
      ]
     },
     "execution_count": 85,
     "metadata": {},
     "output_type": "execute_result"
    }
   ],
   "source": [
    "df_.head()"
   ]
  },
  {
   "cell_type": "code",
   "execution_count": 93,
   "metadata": {},
   "outputs": [],
   "source": [
    "upsert_data = []\n",
    "for idx, row in df_.iterrows():\n",
    "    vector = row['vector']\n",
    "    metadata = {\n",
    "        \"title\": row['title'],\n",
    "        \"content\": row['content'],\n",
    "        \"link\": row['link']\n",
    "    }\n",
    "    upsert_data.append((str(idx), vector, metadata))"
   ]
  },
  {
   "cell_type": "code",
   "execution_count": 94,
   "metadata": {},
   "outputs": [
    {
     "data": {
      "text/plain": [
       "{'upserted_count': 121}"
      ]
     },
     "execution_count": 94,
     "metadata": {},
     "output_type": "execute_result"
    }
   ],
   "source": [
    "hasaki_index.upsert(vectors=upsert_data, namespace='support-namespace')"
   ]
  }
 ],
 "metadata": {
  "kernelspec": {
   "display_name": "sudo-env",
   "language": "python",
   "name": "python3"
  },
  "language_info": {
   "codemirror_mode": {
    "name": "ipython",
    "version": 3
   },
   "file_extension": ".py",
   "mimetype": "text/x-python",
   "name": "python",
   "nbconvert_exporter": "python",
   "pygments_lexer": "ipython3",
   "version": "3.12.4"
  }
 },
 "nbformat": 4,
 "nbformat_minor": 2
}
