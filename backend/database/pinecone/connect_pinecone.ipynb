{
 "cells": [
  {
   "cell_type": "code",
   "execution_count": null,
   "metadata": {},
   "outputs": [],
   "source": [
    "!pip install -qU \\\n",
    "    openai==0.27.7 \\\n",
    "    pinecone-client==3.1.0 \\\n",
    "    pinecone-datasets==0.7.0 \\\n",
    "    tqdm \\\n",
    "    pinecone-notebooks==0.1.1"
   ]
  },
  {
   "cell_type": "code",
   "execution_count": null,
   "metadata": {},
   "outputs": [],
   "source": [
    "import pandas as pd\n",
    "PINECONE_API_KEY = ''# find this in env file\n"
   ]
  },
  {
   "cell_type": "markdown",
   "metadata": {},
   "source": [
    "## Upsert campaign-index"
   ]
  },
  {
   "cell_type": "code",
   "execution_count": null,
   "metadata": {},
   "outputs": [],
   "source": [
    "campaigns = pd.read_csv('../../../data/campaigns.csv')\n",
    "campaigns.rename(columns={'Unnamed: 0': 'campaignID'}, inplace=True)\n",
    "campaigns.head()"
   ]
  },
  {
   "cell_type": "code",
   "execution_count": 17,
   "metadata": {},
   "outputs": [
    {
     "data": {
      "text/html": [
       "<div>\n",
       "<style scoped>\n",
       "    .dataframe tbody tr th:only-of-type {\n",
       "        vertical-align: middle;\n",
       "    }\n",
       "\n",
       "    .dataframe tbody tr th {\n",
       "        vertical-align: top;\n",
       "    }\n",
       "\n",
       "    .dataframe thead th {\n",
       "        text-align: right;\n",
       "    }\n",
       "</style>\n",
       "<table border=\"1\" class=\"dataframe\">\n",
       "  <thead>\n",
       "    <tr style=\"text-align: right;\">\n",
       "      <th></th>\n",
       "      <th>campaignID</th>\n",
       "      <th>label</th>\n",
       "      <th>link</th>\n",
       "      <th>img</th>\n",
       "      <th>vector</th>\n",
       "    </tr>\n",
       "  </thead>\n",
       "  <tbody>\n",
       "    <tr>\n",
       "      <th>0</th>\n",
       "      <td>0</td>\n",
       "      <td>Khai trương chi nhánh 221, 222 - Cần Thơ, Đồng...</td>\n",
       "      <td>https://hasaki.vn/campaign/khai-truong-chi-nha...</td>\n",
       "      <td>https://media.hcdn.vn/hsk/campaign/640x240-172...</td>\n",
       "      <td>[-0.06392963230609894, 0.11033326387405396, -0...</td>\n",
       "    </tr>\n",
       "    <tr>\n",
       "      <th>1</th>\n",
       "      <td>1</td>\n",
       "      <td>Khai trương chi nhánh 223, 224 - Hội An, TP.HCM</td>\n",
       "      <td>https://hasaki.vn/campaign/khai-truong-chi-nha...</td>\n",
       "      <td>https://media.hcdn.vn/hsk/campaign/640x240mobi...</td>\n",
       "      <td>[0.009469451382756233, 0.24539247155189514, -0...</td>\n",
       "    </tr>\n",
       "    <tr>\n",
       "      <th>2</th>\n",
       "      <td>2</td>\n",
       "      <td>Sale lương về - Deal ngập tràn</td>\n",
       "      <td>https://hasaki.vn/campaign/best-seller</td>\n",
       "      <td>https://media.hcdn.vn/hsk/campaign/640x240---2...</td>\n",
       "      <td>[-0.008002284914255142, 0.26300203800201416, -...</td>\n",
       "    </tr>\n",
       "    <tr>\n",
       "      <th>3</th>\n",
       "      <td>3</td>\n",
       "      <td>[HOT] Ưu đãi trải nghiệm làm đẹp đến hơn 60%</td>\n",
       "      <td>https://hasaki.vn/campaign/trai-nghiem-dich-vu</td>\n",
       "      <td>https://media.hcdn.vn/hsk/campaign/wap16981146...</td>\n",
       "      <td>[-0.06252358853816986, 0.3143085539340973, -0....</td>\n",
       "    </tr>\n",
       "    <tr>\n",
       "      <th>4</th>\n",
       "      <td>4</td>\n",
       "      <td>Unilever Nâng Niu Nét Đẹp Toàn Diện</td>\n",
       "      <td>https://hasaki.vn/campaign/unilever-khuyen-mai...</td>\n",
       "      <td>https://media.hcdn.vn/hsk/campaign/UnileverSIS...</td>\n",
       "      <td>[-0.32031115889549255, 0.60589200258255, -0.34...</td>\n",
       "    </tr>\n",
       "  </tbody>\n",
       "</table>\n",
       "</div>"
      ],
      "text/plain": [
       "   campaignID                                              label  \\\n",
       "0           0  Khai trương chi nhánh 221, 222 - Cần Thơ, Đồng...   \n",
       "1           1    Khai trương chi nhánh 223, 224 - Hội An, TP.HCM   \n",
       "2           2                     Sale lương về - Deal ngập tràn   \n",
       "3           3       [HOT] Ưu đãi trải nghiệm làm đẹp đến hơn 60%   \n",
       "4           4                Unilever Nâng Niu Nét Đẹp Toàn Diện   \n",
       "\n",
       "                                                link  \\\n",
       "0  https://hasaki.vn/campaign/khai-truong-chi-nha...   \n",
       "1  https://hasaki.vn/campaign/khai-truong-chi-nha...   \n",
       "2             https://hasaki.vn/campaign/best-seller   \n",
       "3     https://hasaki.vn/campaign/trai-nghiem-dich-vu   \n",
       "4  https://hasaki.vn/campaign/unilever-khuyen-mai...   \n",
       "\n",
       "                                                 img  \\\n",
       "0  https://media.hcdn.vn/hsk/campaign/640x240-172...   \n",
       "1  https://media.hcdn.vn/hsk/campaign/640x240mobi...   \n",
       "2  https://media.hcdn.vn/hsk/campaign/640x240---2...   \n",
       "3  https://media.hcdn.vn/hsk/campaign/wap16981146...   \n",
       "4  https://media.hcdn.vn/hsk/campaign/UnileverSIS...   \n",
       "\n",
       "                                              vector  \n",
       "0  [-0.06392963230609894, 0.11033326387405396, -0...  \n",
       "1  [0.009469451382756233, 0.24539247155189514, -0...  \n",
       "2  [-0.008002284914255142, 0.26300203800201416, -...  \n",
       "3  [-0.06252358853816986, 0.3143085539340973, -0....  \n",
       "4  [-0.32031115889549255, 0.60589200258255, -0.34...  "
      ]
     },
     "execution_count": 17,
     "metadata": {},
     "output_type": "execute_result"
    }
   ],
   "source": [
    "from pipecone_connection import create_vector_emb\n",
    "\n",
    "campaigns['vector'] = campaigns['label'].apply(lambda x: create_vector_emb(x))\n",
    "campaigns.head()"
   ]
  },
  {
   "cell_type": "code",
   "execution_count": 22,
   "metadata": {},
   "outputs": [],
   "source": [
    "from pipecone_connection import PineConeDB\n",
    "# Initialize Pinecone\n",
    "\n",
    "pc = PineConeDB(PINECONE_API_KEY)\n",
    "cam_index = pc.create_index(index_name='campaign-index', dimension=len(campaigns['vector'][0]))\n"
   ]
  },
  {
   "cell_type": "code",
   "execution_count": 23,
   "metadata": {},
   "outputs": [
    {
     "data": {
      "text/plain": [
       "{'upserted_count': 13}"
      ]
     },
     "execution_count": 23,
     "metadata": {},
     "output_type": "execute_result"
    }
   ],
   "source": [
    "# Prepare and upsert data\n",
    "campaigns_list = [{\"id\": str(row['campaignID']), \n",
    "         \"values\": row['vector'],\n",
    "         \"metadata\": {'label': row['label'], 'link': row['link'], 'img': row['img']}} for _, row in campaigns.iterrows()]\n",
    "cam_index.upsert(vectors=campaigns_list)\n",
    "\n",
    "# Optional: Deinitialize Pinecone\n",
    "# pinecone.deinit()"
   ]
  },
  {
   "cell_type": "code",
   "execution_count": null,
   "metadata": {},
   "outputs": [],
   "source": [
    "# ref: https://colab.research.google.com/github/pinecone-io/examples/blob/master/docs/gen-qa-openai.ipynb#scrollTo=KPXw1sEubwoF"
   ]
  },
  {
   "cell_type": "markdown",
   "metadata": {},
   "source": [
    "## Upsert support-index"
   ]
  },
  {
   "cell_type": "code",
   "execution_count": 39,
   "metadata": {},
   "outputs": [
    {
     "data": {
      "text/html": [
       "<div>\n",
       "<style scoped>\n",
       "    .dataframe tbody tr th:only-of-type {\n",
       "        vertical-align: middle;\n",
       "    }\n",
       "\n",
       "    .dataframe tbody tr th {\n",
       "        vertical-align: top;\n",
       "    }\n",
       "\n",
       "    .dataframe thead th {\n",
       "        text-align: right;\n",
       "    }\n",
       "</style>\n",
       "<table border=\"1\" class=\"dataframe\">\n",
       "  <thead>\n",
       "    <tr style=\"text-align: right;\">\n",
       "      <th></th>\n",
       "      <th>supportID</th>\n",
       "      <th>title</th>\n",
       "      <th>link</th>\n",
       "      <th>content</th>\n",
       "    </tr>\n",
       "  </thead>\n",
       "  <tbody>\n",
       "    <tr>\n",
       "      <th>0</th>\n",
       "      <td>0</td>\n",
       "      <td>&lt;div class=\"text_logo\"&gt;Tài khoản&lt;/div&gt;</td>\n",
       "      <td>https://hotro.hasaki.vn/tai-khoan.html</td>\n",
       "      <td>Tài khoản Hasaki | Hasaki.vn Gửi yêu cầu | Đăn...</td>\n",
       "    </tr>\n",
       "    <tr>\n",
       "      <th>1</th>\n",
       "      <td>1</td>\n",
       "      <td>&lt;div class=\"text_logo\"&gt;Đặt hàng&lt;/div&gt;</td>\n",
       "      <td>https://hotro.hasaki.vn/dat-hang-tai-hasaki.html</td>\n",
       "      <td>Đặt hàng tại Hasaki | Hasaki.vn Gửi yêu cầu | ...</td>\n",
       "    </tr>\n",
       "    <tr>\n",
       "      <th>2</th>\n",
       "      <td>2</td>\n",
       "      <td>&lt;div class=\"text_logo\"&gt;Quy cách đóng gói&lt;/div&gt;</td>\n",
       "      <td>https://hotro.hasaki.vn/quy-cach-dong-goi.html</td>\n",
       "      <td>Quy cách đóng gói hàng tại Hasaki | Hasaki.vn ...</td>\n",
       "    </tr>\n",
       "    <tr>\n",
       "      <th>3</th>\n",
       "      <td>3</td>\n",
       "      <td>&lt;div class=\"text_logo\"&gt;Vận chuyển 2H&lt;/div&gt;</td>\n",
       "      <td>https://hotro.hasaki.vn/van-chuyen-2h.html</td>\n",
       "      <td>Vận chuyển 2H tại Hasaki | Hasaki.vn Gửi yêu c...</td>\n",
       "    </tr>\n",
       "    <tr>\n",
       "      <th>4</th>\n",
       "      <td>4</td>\n",
       "      <td>&lt;div class=\"text_logo\"&gt;Phí vận chuyển&lt;/div&gt;</td>\n",
       "      <td>https://hotro.hasaki.vn/phi-van-chuyen.html</td>\n",
       "      <td>Phí vận chuyển tại Hasaki | Hasaki.vn Gửi yêu ...</td>\n",
       "    </tr>\n",
       "  </tbody>\n",
       "</table>\n",
       "</div>"
      ],
      "text/plain": [
       "   supportID                                           title  \\\n",
       "0          0          <div class=\"text_logo\">Tài khoản</div>   \n",
       "1          1           <div class=\"text_logo\">Đặt hàng</div>   \n",
       "2          2  <div class=\"text_logo\">Quy cách đóng gói</div>   \n",
       "3          3      <div class=\"text_logo\">Vận chuyển 2H</div>   \n",
       "4          4     <div class=\"text_logo\">Phí vận chuyển</div>   \n",
       "\n",
       "                                               link  \\\n",
       "0            https://hotro.hasaki.vn/tai-khoan.html   \n",
       "1  https://hotro.hasaki.vn/dat-hang-tai-hasaki.html   \n",
       "2    https://hotro.hasaki.vn/quy-cach-dong-goi.html   \n",
       "3        https://hotro.hasaki.vn/van-chuyen-2h.html   \n",
       "4       https://hotro.hasaki.vn/phi-van-chuyen.html   \n",
       "\n",
       "                                             content  \n",
       "0  Tài khoản Hasaki | Hasaki.vn Gửi yêu cầu | Đăn...  \n",
       "1  Đặt hàng tại Hasaki | Hasaki.vn Gửi yêu cầu | ...  \n",
       "2  Quy cách đóng gói hàng tại Hasaki | Hasaki.vn ...  \n",
       "3  Vận chuyển 2H tại Hasaki | Hasaki.vn Gửi yêu c...  \n",
       "4  Phí vận chuyển tại Hasaki | Hasaki.vn Gửi yêu ...  "
      ]
     },
     "execution_count": 39,
     "metadata": {},
     "output_type": "execute_result"
    }
   ],
   "source": [
    "support = pd.read_csv('../../../data/supports.csv')\n",
    "# support = support.drop(columns=['Unnamed: 0'], axis=1)\n",
    "support.rename(columns={'Unnamed: 0': 'supportID'}, inplace=True)\n",
    "\n",
    "support.head()"
   ]
  },
  {
   "cell_type": "code",
   "execution_count": 40,
   "metadata": {},
   "outputs": [
    {
     "data": {
      "text/html": [
       "<div>\n",
       "<style scoped>\n",
       "    .dataframe tbody tr th:only-of-type {\n",
       "        vertical-align: middle;\n",
       "    }\n",
       "\n",
       "    .dataframe tbody tr th {\n",
       "        vertical-align: top;\n",
       "    }\n",
       "\n",
       "    .dataframe thead th {\n",
       "        text-align: right;\n",
       "    }\n",
       "</style>\n",
       "<table border=\"1\" class=\"dataframe\">\n",
       "  <thead>\n",
       "    <tr style=\"text-align: right;\">\n",
       "      <th></th>\n",
       "      <th>supportID</th>\n",
       "      <th>title</th>\n",
       "      <th>link</th>\n",
       "      <th>content</th>\n",
       "      <th>vector</th>\n",
       "    </tr>\n",
       "  </thead>\n",
       "  <tbody>\n",
       "    <tr>\n",
       "      <th>0</th>\n",
       "      <td>0</td>\n",
       "      <td>&lt;div class=\"text_logo\"&gt;Tài khoản&lt;/div&gt;</td>\n",
       "      <td>https://hotro.hasaki.vn/tai-khoan.html</td>\n",
       "      <td>Tài khoản Hasaki | Hasaki.vn Gửi yêu cầu | Đăn...</td>\n",
       "      <td>[-0.13323213160037994, 0.36486655473709106, -0...</td>\n",
       "    </tr>\n",
       "    <tr>\n",
       "      <th>1</th>\n",
       "      <td>1</td>\n",
       "      <td>&lt;div class=\"text_logo\"&gt;Đặt hàng&lt;/div&gt;</td>\n",
       "      <td>https://hotro.hasaki.vn/dat-hang-tai-hasaki.html</td>\n",
       "      <td>Đặt hàng tại Hasaki | Hasaki.vn Gửi yêu cầu | ...</td>\n",
       "      <td>[-0.12891894578933716, 0.3350728154182434, -0....</td>\n",
       "    </tr>\n",
       "    <tr>\n",
       "      <th>2</th>\n",
       "      <td>2</td>\n",
       "      <td>&lt;div class=\"text_logo\"&gt;Quy cách đóng gói&lt;/div&gt;</td>\n",
       "      <td>https://hotro.hasaki.vn/quy-cach-dong-goi.html</td>\n",
       "      <td>Quy cách đóng gói hàng tại Hasaki | Hasaki.vn ...</td>\n",
       "      <td>[-0.15026508271694183, 0.3293699622154236, -0....</td>\n",
       "    </tr>\n",
       "    <tr>\n",
       "      <th>3</th>\n",
       "      <td>3</td>\n",
       "      <td>&lt;div class=\"text_logo\"&gt;Vận chuyển 2H&lt;/div&gt;</td>\n",
       "      <td>https://hotro.hasaki.vn/van-chuyen-2h.html</td>\n",
       "      <td>Vận chuyển 2H tại Hasaki | Hasaki.vn Gửi yêu c...</td>\n",
       "      <td>[-0.15769746899604797, 0.3137083649635315, -0....</td>\n",
       "    </tr>\n",
       "    <tr>\n",
       "      <th>4</th>\n",
       "      <td>4</td>\n",
       "      <td>&lt;div class=\"text_logo\"&gt;Phí vận chuyển&lt;/div&gt;</td>\n",
       "      <td>https://hotro.hasaki.vn/phi-van-chuyen.html</td>\n",
       "      <td>Phí vận chuyển tại Hasaki | Hasaki.vn Gửi yêu ...</td>\n",
       "      <td>[-0.14706957340240479, 0.3330081105232239, -0....</td>\n",
       "    </tr>\n",
       "  </tbody>\n",
       "</table>\n",
       "</div>"
      ],
      "text/plain": [
       "   supportID                                           title  \\\n",
       "0          0          <div class=\"text_logo\">Tài khoản</div>   \n",
       "1          1           <div class=\"text_logo\">Đặt hàng</div>   \n",
       "2          2  <div class=\"text_logo\">Quy cách đóng gói</div>   \n",
       "3          3      <div class=\"text_logo\">Vận chuyển 2H</div>   \n",
       "4          4     <div class=\"text_logo\">Phí vận chuyển</div>   \n",
       "\n",
       "                                               link  \\\n",
       "0            https://hotro.hasaki.vn/tai-khoan.html   \n",
       "1  https://hotro.hasaki.vn/dat-hang-tai-hasaki.html   \n",
       "2    https://hotro.hasaki.vn/quy-cach-dong-goi.html   \n",
       "3        https://hotro.hasaki.vn/van-chuyen-2h.html   \n",
       "4       https://hotro.hasaki.vn/phi-van-chuyen.html   \n",
       "\n",
       "                                             content  \\\n",
       "0  Tài khoản Hasaki | Hasaki.vn Gửi yêu cầu | Đăn...   \n",
       "1  Đặt hàng tại Hasaki | Hasaki.vn Gửi yêu cầu | ...   \n",
       "2  Quy cách đóng gói hàng tại Hasaki | Hasaki.vn ...   \n",
       "3  Vận chuyển 2H tại Hasaki | Hasaki.vn Gửi yêu c...   \n",
       "4  Phí vận chuyển tại Hasaki | Hasaki.vn Gửi yêu ...   \n",
       "\n",
       "                                              vector  \n",
       "0  [-0.13323213160037994, 0.36486655473709106, -0...  \n",
       "1  [-0.12891894578933716, 0.3350728154182434, -0....  \n",
       "2  [-0.15026508271694183, 0.3293699622154236, -0....  \n",
       "3  [-0.15769746899604797, 0.3137083649635315, -0....  \n",
       "4  [-0.14706957340240479, 0.3330081105232239, -0....  "
      ]
     },
     "execution_count": 40,
     "metadata": {},
     "output_type": "execute_result"
    }
   ],
   "source": [
    "from pipecone_connection import create_vector_emb\n",
    "support['vector'] = support['content'].apply(lambda x: create_vector_emb(x))\n",
    "support.head()"
   ]
  },
  {
   "cell_type": "code",
   "execution_count": 41,
   "metadata": {},
   "outputs": [
    {
     "data": {
      "text/plain": [
       "768"
      ]
     },
     "execution_count": 41,
     "metadata": {},
     "output_type": "execute_result"
    }
   ],
   "source": [
    "len(support['vector'][0])"
   ]
  },
  {
   "cell_type": "code",
   "execution_count": 28,
   "metadata": {},
   "outputs": [],
   "source": [
    "from pipecone_connection import PineConeDB\n",
    "\n",
    "pc = PineConeDB(PINECONE_API_KEY)\n",
    "pindex = pc.create_index(index_name='support-index', dimension=len(support['vector'][0]))"
   ]
  },
  {
   "cell_type": "code",
   "execution_count": 42,
   "metadata": {},
   "outputs": [
    {
     "data": {
      "text/plain": [
       "{'upserted_count': 27}"
      ]
     },
     "execution_count": 42,
     "metadata": {},
     "output_type": "execute_result"
    }
   ],
   "source": [
    "# Prepare and upsert data\n",
    "support_list = [{\"id\": str(row['supportID']), \n",
    "         \"values\": row['vector'],\n",
    "         \"metadata\": {'title': row['title'], 'link': row['link'], 'content': row['content']}} for _, row in support.iterrows()]\n",
    "\n",
    "pindex.upsert(vectors=support_list)\n",
    "# # Function to chunk data\n",
    "# def chunk_data(data, batch_size=100):\n",
    "#     \"\"\"Splits data into smaller chunks for upserting.\"\"\"\n",
    "#     for i in range(0, len(data), batch_size):\n",
    "#         yield data[i:i + batch_size]\n",
    "\n",
    "# # Upsert in batches\n",
    "# for batch in chunk_data(product_link_list, batch_size=100):\n",
    "#     pindex.upsert(vectors=batch)\n",
    " "
   ]
  },
  {
   "cell_type": "markdown",
   "metadata": {},
   "source": [
    "## Upsert category-index"
   ]
  },
  {
   "cell_type": "code",
   "execution_count": 30,
   "metadata": {},
   "outputs": [
    {
     "data": {
      "text/html": [
       "<div>\n",
       "<style scoped>\n",
       "    .dataframe tbody tr th:only-of-type {\n",
       "        vertical-align: middle;\n",
       "    }\n",
       "\n",
       "    .dataframe tbody tr th {\n",
       "        vertical-align: top;\n",
       "    }\n",
       "\n",
       "    .dataframe thead th {\n",
       "        text-align: right;\n",
       "    }\n",
       "</style>\n",
       "<table border=\"1\" class=\"dataframe\">\n",
       "  <thead>\n",
       "    <tr style=\"text-align: right;\">\n",
       "      <th></th>\n",
       "      <th>categoryID</th>\n",
       "      <th>link</th>\n",
       "      <th>img</th>\n",
       "      <th>cat</th>\n",
       "    </tr>\n",
       "  </thead>\n",
       "  <tbody>\n",
       "    <tr>\n",
       "      <th>0</th>\n",
       "      <td>0</td>\n",
       "      <td>https://hasaki.vn/danh-muc/trang-diem-moi-c24....</td>\n",
       "      <td>https://media.hcdn.vn/catalog/category/c24-tra...</td>\n",
       "      <td>Trang Điểm Môi</td>\n",
       "    </tr>\n",
       "    <tr>\n",
       "      <th>1</th>\n",
       "      <td>1</td>\n",
       "      <td>https://hasaki.vn/danh-muc/mat-na-c30.html</td>\n",
       "      <td>https://media.hcdn.vn/catalog/category/30_1_im...</td>\n",
       "      <td>Mặt Nạ</td>\n",
       "    </tr>\n",
       "    <tr>\n",
       "      <th>2</th>\n",
       "      <td>2</td>\n",
       "      <td>https://hasaki.vn/danh-muc/trang-diem-mat-c52....</td>\n",
       "      <td>https://media.hcdn.vn/catalog/category/c52-tra...</td>\n",
       "      <td>Trang Điểm Mặt</td>\n",
       "    </tr>\n",
       "    <tr>\n",
       "      <th>3</th>\n",
       "      <td>3</td>\n",
       "      <td>https://hasaki.vn/danh-muc/sua-rua-mat-c19.html</td>\n",
       "      <td>https://media.hcdn.vn/catalog/category/19_3_im...</td>\n",
       "      <td>Sữa Rửa Mặt</td>\n",
       "    </tr>\n",
       "    <tr>\n",
       "      <th>4</th>\n",
       "      <td>4</td>\n",
       "      <td>https://hasaki.vn/danh-muc/trang-diem-vung-mat...</td>\n",
       "      <td>https://media.hcdn.vn/catalog/category/c50-tra...</td>\n",
       "      <td>Trang Điểm Mắt</td>\n",
       "    </tr>\n",
       "  </tbody>\n",
       "</table>\n",
       "</div>"
      ],
      "text/plain": [
       "   categoryID                                               link  \\\n",
       "0           0  https://hasaki.vn/danh-muc/trang-diem-moi-c24....   \n",
       "1           1         https://hasaki.vn/danh-muc/mat-na-c30.html   \n",
       "2           2  https://hasaki.vn/danh-muc/trang-diem-mat-c52....   \n",
       "3           3    https://hasaki.vn/danh-muc/sua-rua-mat-c19.html   \n",
       "4           4  https://hasaki.vn/danh-muc/trang-diem-vung-mat...   \n",
       "\n",
       "                                                 img             cat  \n",
       "0  https://media.hcdn.vn/catalog/category/c24-tra...  Trang Điểm Môi  \n",
       "1  https://media.hcdn.vn/catalog/category/30_1_im...          Mặt Nạ  \n",
       "2  https://media.hcdn.vn/catalog/category/c52-tra...  Trang Điểm Mặt  \n",
       "3  https://media.hcdn.vn/catalog/category/19_3_im...     Sữa Rửa Mặt  \n",
       "4  https://media.hcdn.vn/catalog/category/c50-tra...  Trang Điểm Mắt  "
      ]
     },
     "execution_count": 30,
     "metadata": {},
     "output_type": "execute_result"
    }
   ],
   "source": [
    "categories = pd.read_csv('../../../data/categories.csv')\n",
    "categories.rename(columns={'Unnamed: 0': 'categoryID'}, inplace=True)\n",
    "categories.head()"
   ]
  },
  {
   "cell_type": "code",
   "execution_count": 31,
   "metadata": {},
   "outputs": [
    {
     "data": {
      "text/html": [
       "<div>\n",
       "<style scoped>\n",
       "    .dataframe tbody tr th:only-of-type {\n",
       "        vertical-align: middle;\n",
       "    }\n",
       "\n",
       "    .dataframe tbody tr th {\n",
       "        vertical-align: top;\n",
       "    }\n",
       "\n",
       "    .dataframe thead th {\n",
       "        text-align: right;\n",
       "    }\n",
       "</style>\n",
       "<table border=\"1\" class=\"dataframe\">\n",
       "  <thead>\n",
       "    <tr style=\"text-align: right;\">\n",
       "      <th></th>\n",
       "      <th>categoryID</th>\n",
       "      <th>link</th>\n",
       "      <th>img</th>\n",
       "      <th>cat</th>\n",
       "      <th>vector</th>\n",
       "    </tr>\n",
       "  </thead>\n",
       "  <tbody>\n",
       "    <tr>\n",
       "      <th>0</th>\n",
       "      <td>0</td>\n",
       "      <td>https://hasaki.vn/danh-muc/trang-diem-moi-c24....</td>\n",
       "      <td>https://media.hcdn.vn/catalog/category/c24-tra...</td>\n",
       "      <td>Trang Điểm Môi</td>\n",
       "      <td>[-0.3737962245941162, 0.24235257506370544, -0....</td>\n",
       "    </tr>\n",
       "    <tr>\n",
       "      <th>1</th>\n",
       "      <td>1</td>\n",
       "      <td>https://hasaki.vn/danh-muc/mat-na-c30.html</td>\n",
       "      <td>https://media.hcdn.vn/catalog/category/30_1_im...</td>\n",
       "      <td>Mặt Nạ</td>\n",
       "      <td>[-0.43052226305007935, 0.05163513496518135, -0...</td>\n",
       "    </tr>\n",
       "    <tr>\n",
       "      <th>2</th>\n",
       "      <td>2</td>\n",
       "      <td>https://hasaki.vn/danh-muc/trang-diem-mat-c52....</td>\n",
       "      <td>https://media.hcdn.vn/catalog/category/c52-tra...</td>\n",
       "      <td>Trang Điểm Mặt</td>\n",
       "      <td>[-0.1801210343837738, -0.03265438973903656, -0...</td>\n",
       "    </tr>\n",
       "    <tr>\n",
       "      <th>3</th>\n",
       "      <td>3</td>\n",
       "      <td>https://hasaki.vn/danh-muc/sua-rua-mat-c19.html</td>\n",
       "      <td>https://media.hcdn.vn/catalog/category/19_3_im...</td>\n",
       "      <td>Sữa Rửa Mặt</td>\n",
       "      <td>[-0.40071868896484375, -0.004505708813667297, ...</td>\n",
       "    </tr>\n",
       "    <tr>\n",
       "      <th>4</th>\n",
       "      <td>4</td>\n",
       "      <td>https://hasaki.vn/danh-muc/trang-diem-vung-mat...</td>\n",
       "      <td>https://media.hcdn.vn/catalog/category/c50-tra...</td>\n",
       "      <td>Trang Điểm Mắt</td>\n",
       "      <td>[-0.4118107855319977, 0.4342288374900818, -0.2...</td>\n",
       "    </tr>\n",
       "  </tbody>\n",
       "</table>\n",
       "</div>"
      ],
      "text/plain": [
       "   categoryID                                               link  \\\n",
       "0           0  https://hasaki.vn/danh-muc/trang-diem-moi-c24....   \n",
       "1           1         https://hasaki.vn/danh-muc/mat-na-c30.html   \n",
       "2           2  https://hasaki.vn/danh-muc/trang-diem-mat-c52....   \n",
       "3           3    https://hasaki.vn/danh-muc/sua-rua-mat-c19.html   \n",
       "4           4  https://hasaki.vn/danh-muc/trang-diem-vung-mat...   \n",
       "\n",
       "                                                 img             cat  \\\n",
       "0  https://media.hcdn.vn/catalog/category/c24-tra...  Trang Điểm Môi   \n",
       "1  https://media.hcdn.vn/catalog/category/30_1_im...          Mặt Nạ   \n",
       "2  https://media.hcdn.vn/catalog/category/c52-tra...  Trang Điểm Mặt   \n",
       "3  https://media.hcdn.vn/catalog/category/19_3_im...     Sữa Rửa Mặt   \n",
       "4  https://media.hcdn.vn/catalog/category/c50-tra...  Trang Điểm Mắt   \n",
       "\n",
       "                                              vector  \n",
       "0  [-0.3737962245941162, 0.24235257506370544, -0....  \n",
       "1  [-0.43052226305007935, 0.05163513496518135, -0...  \n",
       "2  [-0.1801210343837738, -0.03265438973903656, -0...  \n",
       "3  [-0.40071868896484375, -0.004505708813667297, ...  \n",
       "4  [-0.4118107855319977, 0.4342288374900818, -0.2...  "
      ]
     },
     "execution_count": 31,
     "metadata": {},
     "output_type": "execute_result"
    }
   ],
   "source": [
    "from pipecone_connection import create_vector_emb\n",
    "categories['vector'] = categories['cat'].apply(lambda x: create_vector_emb(x))\n",
    "categories.head()"
   ]
  },
  {
   "cell_type": "code",
   "execution_count": 32,
   "metadata": {},
   "outputs": [],
   "source": [
    "from pipecone_connection import PineConeDB\n",
    "\n",
    "# Create Index \n",
    "pc = PineConeDB(PINECONE_API_KEY)\n",
    "cindex = pc.create_index(index_name='category-index', dimension=len(categories['vector'][0]))\n"
   ]
  },
  {
   "cell_type": "code",
   "execution_count": 33,
   "metadata": {},
   "outputs": [
    {
     "data": {
      "text/plain": [
       "{'upserted_count': 15}"
      ]
     },
     "execution_count": 33,
     "metadata": {},
     "output_type": "execute_result"
    }
   ],
   "source": [
    "# Prepare and upsert data\n",
    "category_list = [{\"id\": str(row['categoryID']), \n",
    "         \"values\": row['vector'],\n",
    "         \"metadata\": {'link': row['link'], 'img': row['img'], 'cat': row['cat']}} for _, row in categories.iterrows()]\n",
    "cindex.upsert(vectors=category_list)\n"
   ]
  },
  {
   "cell_type": "markdown",
   "metadata": {},
   "source": [
    "## Upsert comment-index"
   ]
  },
  {
   "cell_type": "code",
   "execution_count": 34,
   "metadata": {},
   "outputs": [
    {
     "data": {
      "text/html": [
       "<div>\n",
       "<style scoped>\n",
       "    .dataframe tbody tr th:only-of-type {\n",
       "        vertical-align: middle;\n",
       "    }\n",
       "\n",
       "    .dataframe tbody tr th {\n",
       "        vertical-align: top;\n",
       "    }\n",
       "\n",
       "    .dataframe thead th {\n",
       "        text-align: right;\n",
       "    }\n",
       "</style>\n",
       "<table border=\"1\" class=\"dataframe\">\n",
       "  <thead>\n",
       "    <tr style=\"text-align: right;\">\n",
       "      <th></th>\n",
       "      <th>commentID</th>\n",
       "      <th>Name</th>\n",
       "      <th>Time</th>\n",
       "      <th>Description</th>\n",
       "      <th>Comment</th>\n",
       "      <th>Images</th>\n",
       "    </tr>\n",
       "  </thead>\n",
       "  <tbody>\n",
       "    <tr>\n",
       "      <th>0</th>\n",
       "      <td>0</td>\n",
       "      <td>Bùi Ngọc Hà Linh</td>\n",
       "      <td>14: 56 | 14/08/2023</td>\n",
       "      <td>Son Dưỡng Môi DHC Không Màu Hỗ Trợ Giảm Thâm M...</td>\n",
       "      <td>Cây này cây thứ 3 rồi vẫn chưa có dấu hiệu dừn...</td>\n",
       "      <td>[]</td>\n",
       "    </tr>\n",
       "    <tr>\n",
       "      <th>1</th>\n",
       "      <td>1</td>\n",
       "      <td>Như Phương</td>\n",
       "      <td>16: 51 | 31/10/2023</td>\n",
       "      <td>Son Dưỡng Môi DHC Không Màu Hỗ Trợ Giảm Thâm M...</td>\n",
       "      <td>Cây son dưỡng mình thích nhất từ trc tới giờ, ...</td>\n",
       "      <td>['https://media.hcdn.vn/rating/169874591132980...</td>\n",
       "    </tr>\n",
       "    <tr>\n",
       "      <th>2</th>\n",
       "      <td>2</td>\n",
       "      <td>Phạm Thị Tuyết</td>\n",
       "      <td>19: 48 | 20/01/2022</td>\n",
       "      <td>Son Dưỡng Môi DHC Không Màu Hỗ Trợ Giảm Thâm M...</td>\n",
       "      <td>Mới từ đầu sẽ thấy mùi son hơi khó ngửi nhưng ...</td>\n",
       "      <td>[]</td>\n",
       "    </tr>\n",
       "    <tr>\n",
       "      <th>3</th>\n",
       "      <td>3</td>\n",
       "      <td>Minh</td>\n",
       "      <td>00: 35 | 18/11/2022</td>\n",
       "      <td>Son Dưỡng Môi DHC Không Màu Hỗ Trợ Giảm Thâm M...</td>\n",
       "      <td>Giá cả hợp lý, giao hàng nhanh. Sản phẩm không...</td>\n",
       "      <td>[]</td>\n",
       "    </tr>\n",
       "    <tr>\n",
       "      <th>4</th>\n",
       "      <td>4</td>\n",
       "      <td>Hien</td>\n",
       "      <td>17: 42 | 24/08/2024</td>\n",
       "      <td>Son Dưỡng Môi DHC Không Màu Hỗ Trợ Giảm Thâm M...</td>\n",
       "      <td>Xài mướt, cảm giác nhẹ môi chứ k nặng dàyooi n...</td>\n",
       "      <td>[]</td>\n",
       "    </tr>\n",
       "  </tbody>\n",
       "</table>\n",
       "</div>"
      ],
      "text/plain": [
       "   commentID              Name                 Time  \\\n",
       "0          0  Bùi Ngọc Hà Linh  14: 56 | 14/08/2023   \n",
       "1          1        Như Phương  16: 51 | 31/10/2023   \n",
       "2          2    Phạm Thị Tuyết  19: 48 | 20/01/2022   \n",
       "3          3              Minh  00: 35 | 18/11/2022   \n",
       "4          4              Hien  17: 42 | 24/08/2024   \n",
       "\n",
       "                                         Description  \\\n",
       "0  Son Dưỡng Môi DHC Không Màu Hỗ Trợ Giảm Thâm M...   \n",
       "1  Son Dưỡng Môi DHC Không Màu Hỗ Trợ Giảm Thâm M...   \n",
       "2  Son Dưỡng Môi DHC Không Màu Hỗ Trợ Giảm Thâm M...   \n",
       "3  Son Dưỡng Môi DHC Không Màu Hỗ Trợ Giảm Thâm M...   \n",
       "4  Son Dưỡng Môi DHC Không Màu Hỗ Trợ Giảm Thâm M...   \n",
       "\n",
       "                                             Comment  \\\n",
       "0  Cây này cây thứ 3 rồi vẫn chưa có dấu hiệu dừn...   \n",
       "1  Cây son dưỡng mình thích nhất từ trc tới giờ, ...   \n",
       "2  Mới từ đầu sẽ thấy mùi son hơi khó ngửi nhưng ...   \n",
       "3  Giá cả hợp lý, giao hàng nhanh. Sản phẩm không...   \n",
       "4  Xài mướt, cảm giác nhẹ môi chứ k nặng dàyooi n...   \n",
       "\n",
       "                                              Images  \n",
       "0                                                 []  \n",
       "1  ['https://media.hcdn.vn/rating/169874591132980...  \n",
       "2                                                 []  \n",
       "3                                                 []  \n",
       "4                                                 []  "
      ]
     },
     "execution_count": 34,
     "metadata": {},
     "output_type": "execute_result"
    }
   ],
   "source": [
    "import pandas as pd\n",
    "comments = pd.read_csv('../../../data/comments.csv')\n",
    "comments.rename(columns={'Unnamed: 0': 'commentID'}, inplace=True)\n",
    "comments.head()"
   ]
  },
  {
   "cell_type": "code",
   "execution_count": null,
   "metadata": {},
   "outputs": [],
   "source": [
    "from pipecone_connection import create_vector_emb\n",
    "comments['vector'] = comments['Description'].apply(lambda x: create_vector_emb(x))\n",
    "comments.head()"
   ]
  },
  {
   "cell_type": "code",
   "execution_count": null,
   "metadata": {},
   "outputs": [],
   "source": [
    "from pipecone_connection import PineConeDB\n",
    "\n",
    "# Create Index \n",
    "pc = PineConeDB(PINECONE_API_KEY)\n",
    "cmt_index = pc.create_index(index_name='comment-index', dimension=len(comments['vector'][0]))\n"
   ]
  },
  {
   "cell_type": "code",
   "execution_count": null,
   "metadata": {},
   "outputs": [],
   "source": [
    "# Prepare and upsert data\n",
    "comment_list = [{\"id\": str(row['commentID']), \n",
    "         \"values\": row['vector'],\n",
    "         \"metadata\": {'comment_user': row['Name'], 'comment_at': row['Time'], 'p_comment': row['Description'],\n",
    "                      'comment': row['Comment']}} for _, row in comments.iterrows()]\n",
    "cmt_index.upsert(vectors=comment_list)\n"
   ]
  }
 ],
 "metadata": {
  "kernelspec": {
   "display_name": "rag-env",
   "language": "python",
   "name": "python3"
  },
  "language_info": {
   "codemirror_mode": {
    "name": "ipython",
    "version": 3
   },
   "file_extension": ".py",
   "mimetype": "text/x-python",
   "name": "python",
   "nbconvert_exporter": "python",
   "pygments_lexer": "ipython3",
   "version": "3.12.7"
  }
 },
 "nbformat": 4,
 "nbformat_minor": 2
}
